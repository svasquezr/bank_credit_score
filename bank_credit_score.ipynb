{
  "cells": [
    {
      "cell_type": "markdown",
      "metadata": {
        "id": "e-k-5-pRhDxy"
      },
      "source": [
        "# Contenido <a id='back'></a>\n",
        "\n",
        "* [Introducción](#intro)\n",
        "    * [Objetivos](#objetivos)\n",
        "    * [Abrir el archivo de datos y mira la información general](#data_review)\n",
        "* [Etapa 1. Exploración de datos](#data_exploration)\n",
        "    * [Conclusión intermedia](#data_exploration_conclusions)\n",
        "* [Etapa 2. Transformación de datos](#data_procesing)\n",
        "    * [2.1 Comprobar el resultado de los datos tratados](#testing)\n",
        "    * [2.2 Conclusión intermedia](#test_conclusion)\n",
        "* [Etapa 3. Trabajar con valores ausentes](#nan_values_total_income)\n",
        "    * [3.1  Restaurar valores ausentes en total_income](#no_nan_total_income)\n",
        "    * [3.2 Conclusión](#conclusion)\n",
        "* [Etapa 4. Restaurar valores ausentes en days_employed](#nan_days_employed)\n",
        "    * [4.1  Restaurar valores ausentes en days_employed](#no_nan_days_employed)\n",
        "    * [4.2 Conclusión](#conclusion)\n",
        "* [Etapa 5. Clasificación de datos](#data_clasification)\n",
        "    * [5.1  Comprobación de las hipótesis](#testing_hypothesis)\n",
        "* [Conclusión General](#end)"
      ]
    },
    {
      "cell_type": "markdown",
      "metadata": {
        "id": "5ro2KRbdhDx4"
      },
      "source": [
        "# Introdución\n",
        "**Análisis del riesgo de incumplimiento de los prestatarios**\n",
        "\n",
        "El proyecto consiste en preparar un informe para la división de préstamos de un banco. Deberás averiguar si el estado civil y el número de hijos de un cliente tienen un impacto en el incumplimiento de pago de un préstamo. El banco ya tiene algunos datos sobre la solvencia crediticia de los clientes.\n",
        "\n",
        "Mi informe se tendrá en cuenta al crear una **puntuación de crédito** para un cliente potencial. La **puntuación de crédito** se utiliza para evaluar la capacidad de un prestatario potencial para pagar su préstamo."
      ]
    },
    {
      "cell_type": "markdown",
      "metadata": {
        "id": "TEOn7mwBhDx4"
      },
      "source": [
        "# Objetivos:\n",
        "- Averiguar si existe alguna conexión entre tener hijos y pagar un préstamo a tiempo.\n",
        "- Averiguar si existe una conexión entre el estado civil y el pago a tiempo de un préstamo.\n",
        "- Averiguar si existe una conexión entre el nivel de ingresos y el pago a tiempo de un préstamo.\n",
        "- Averiguar cómo afectan los diferentes propósitos del préstamo al reembolso a tiempo del préstamo."
      ]
    },
    {
      "cell_type": "markdown",
      "metadata": {
        "id": "897zhnO9hDx5"
      },
      "source": [
        "# Abrir el archivo de datos y mira la información general"
      ]
    },
    {
      "cell_type": "code",
      "execution_count": null,
      "metadata": {
        "id": "ax10bWEShDx5"
      },
      "outputs": [],
      "source": [
        "# Cargar todas las librerías\n",
        "import pandas as pd\n",
        "import numpy as np"
      ]
    },
    {
      "cell_type": "code",
      "execution_count": null,
      "metadata": {
        "id": "ZLbza379hDx7"
      },
      "outputs": [],
      "source": [
        "# Carga los datos\n",
        "try:\n",
        "  credit_score = pd.read_csv('/content/drive/MyDrive/Colab Notebooks/credit_scoring_eng.csv')\n",
        "except:\n",
        "  credit_score = pd.read_csv('/datasets/credit_scoring_eng.csv')"
      ]
    },
    {
      "cell_type": "markdown",
      "metadata": {
        "id": "TI65AHuMhDx8"
      },
      "source": [
        "# Etapa 1. Exploración de datos\n",
        "\n",
        "**Descripción de los datos**\n",
        "- `children` - el número de hijos en la familia\n",
        "- `days_employed` - experiencia laboral en días\n",
        "- `dob_years` - la edad del cliente en años\n",
        "- `education` - la educación del cliente\n",
        "- `education_id` - identificador de educación\n",
        "- `family_status` - estado civil\n",
        "- `family_status_id` - identificador de estado civil\n",
        "- `gender` - género del cliente\n",
        "- `income_type` - tipo de empleo\n",
        "- `debt` - ¿había alguna deuda en el pago de un préstamo?\n",
        "- `total_income` - ingreso mensual\n",
        "- `purpose` - el propósito de obtener un préstamo"
      ]
    },
    {
      "cell_type": "code",
      "execution_count": null,
      "metadata": {
        "id": "R-SJnKPShDx8",
        "outputId": "364ff49e-0d72-46bf-f40f-c610ee4760c9"
      },
      "outputs": [
        {
          "data": {
            "text/plain": [
              "(21525, 12)"
            ]
          },
          "execution_count": 94,
          "metadata": {},
          "output_type": "execute_result"
        }
      ],
      "source": [
        "# Vamos a ver cuántas filas y columnas tiene nuestro conjunto de datos\n",
        "credit_score.shape"
      ]
    },
    {
      "cell_type": "code",
      "execution_count": null,
      "metadata": {
        "scrolled": false,
        "id": "JvMavbSvhDx-",
        "outputId": "89e74a81-3fa6-4fc8-fb19-d35d5d1a26a9"
      },
      "outputs": [
        {
          "data": {
            "text/html": [
              "<div>\n",
              "<style scoped>\n",
              "    .dataframe tbody tr th:only-of-type {\n",
              "        vertical-align: middle;\n",
              "    }\n",
              "\n",
              "    .dataframe tbody tr th {\n",
              "        vertical-align: top;\n",
              "    }\n",
              "\n",
              "    .dataframe thead th {\n",
              "        text-align: right;\n",
              "    }\n",
              "</style>\n",
              "<table border=\"1\" class=\"dataframe\">\n",
              "  <thead>\n",
              "    <tr style=\"text-align: right;\">\n",
              "      <th></th>\n",
              "      <th>children</th>\n",
              "      <th>days_employed</th>\n",
              "      <th>dob_years</th>\n",
              "      <th>education</th>\n",
              "      <th>education_id</th>\n",
              "      <th>family_status</th>\n",
              "      <th>family_status_id</th>\n",
              "      <th>gender</th>\n",
              "      <th>income_type</th>\n",
              "      <th>debt</th>\n",
              "      <th>total_income</th>\n",
              "      <th>purpose</th>\n",
              "    </tr>\n",
              "  </thead>\n",
              "  <tbody>\n",
              "    <tr>\n",
              "      <th>0</th>\n",
              "      <td>1</td>\n",
              "      <td>-8437.673028</td>\n",
              "      <td>42</td>\n",
              "      <td>bachelor's degree</td>\n",
              "      <td>0</td>\n",
              "      <td>married</td>\n",
              "      <td>0</td>\n",
              "      <td>F</td>\n",
              "      <td>employee</td>\n",
              "      <td>0</td>\n",
              "      <td>40620.102</td>\n",
              "      <td>purchase of the house</td>\n",
              "    </tr>\n",
              "    <tr>\n",
              "      <th>1</th>\n",
              "      <td>1</td>\n",
              "      <td>-4024.803754</td>\n",
              "      <td>36</td>\n",
              "      <td>secondary education</td>\n",
              "      <td>1</td>\n",
              "      <td>married</td>\n",
              "      <td>0</td>\n",
              "      <td>F</td>\n",
              "      <td>employee</td>\n",
              "      <td>0</td>\n",
              "      <td>17932.802</td>\n",
              "      <td>car purchase</td>\n",
              "    </tr>\n",
              "    <tr>\n",
              "      <th>2</th>\n",
              "      <td>0</td>\n",
              "      <td>-5623.422610</td>\n",
              "      <td>33</td>\n",
              "      <td>Secondary Education</td>\n",
              "      <td>1</td>\n",
              "      <td>married</td>\n",
              "      <td>0</td>\n",
              "      <td>M</td>\n",
              "      <td>employee</td>\n",
              "      <td>0</td>\n",
              "      <td>23341.752</td>\n",
              "      <td>purchase of the house</td>\n",
              "    </tr>\n",
              "    <tr>\n",
              "      <th>3</th>\n",
              "      <td>3</td>\n",
              "      <td>-4124.747207</td>\n",
              "      <td>32</td>\n",
              "      <td>secondary education</td>\n",
              "      <td>1</td>\n",
              "      <td>married</td>\n",
              "      <td>0</td>\n",
              "      <td>M</td>\n",
              "      <td>employee</td>\n",
              "      <td>0</td>\n",
              "      <td>42820.568</td>\n",
              "      <td>supplementary education</td>\n",
              "    </tr>\n",
              "    <tr>\n",
              "      <th>4</th>\n",
              "      <td>0</td>\n",
              "      <td>340266.072047</td>\n",
              "      <td>53</td>\n",
              "      <td>secondary education</td>\n",
              "      <td>1</td>\n",
              "      <td>civil partnership</td>\n",
              "      <td>1</td>\n",
              "      <td>F</td>\n",
              "      <td>retiree</td>\n",
              "      <td>0</td>\n",
              "      <td>25378.572</td>\n",
              "      <td>to have a wedding</td>\n",
              "    </tr>\n",
              "    <tr>\n",
              "      <th>5</th>\n",
              "      <td>0</td>\n",
              "      <td>-926.185831</td>\n",
              "      <td>27</td>\n",
              "      <td>bachelor's degree</td>\n",
              "      <td>0</td>\n",
              "      <td>civil partnership</td>\n",
              "      <td>1</td>\n",
              "      <td>M</td>\n",
              "      <td>business</td>\n",
              "      <td>0</td>\n",
              "      <td>40922.170</td>\n",
              "      <td>purchase of the house</td>\n",
              "    </tr>\n",
              "    <tr>\n",
              "      <th>6</th>\n",
              "      <td>0</td>\n",
              "      <td>-2879.202052</td>\n",
              "      <td>43</td>\n",
              "      <td>bachelor's degree</td>\n",
              "      <td>0</td>\n",
              "      <td>married</td>\n",
              "      <td>0</td>\n",
              "      <td>F</td>\n",
              "      <td>business</td>\n",
              "      <td>0</td>\n",
              "      <td>38484.156</td>\n",
              "      <td>housing transactions</td>\n",
              "    </tr>\n",
              "    <tr>\n",
              "      <th>7</th>\n",
              "      <td>0</td>\n",
              "      <td>-152.779569</td>\n",
              "      <td>50</td>\n",
              "      <td>SECONDARY EDUCATION</td>\n",
              "      <td>1</td>\n",
              "      <td>married</td>\n",
              "      <td>0</td>\n",
              "      <td>M</td>\n",
              "      <td>employee</td>\n",
              "      <td>0</td>\n",
              "      <td>21731.829</td>\n",
              "      <td>education</td>\n",
              "    </tr>\n",
              "    <tr>\n",
              "      <th>8</th>\n",
              "      <td>2</td>\n",
              "      <td>-6929.865299</td>\n",
              "      <td>35</td>\n",
              "      <td>BACHELOR'S DEGREE</td>\n",
              "      <td>0</td>\n",
              "      <td>civil partnership</td>\n",
              "      <td>1</td>\n",
              "      <td>F</td>\n",
              "      <td>employee</td>\n",
              "      <td>0</td>\n",
              "      <td>15337.093</td>\n",
              "      <td>having a wedding</td>\n",
              "    </tr>\n",
              "    <tr>\n",
              "      <th>9</th>\n",
              "      <td>0</td>\n",
              "      <td>-2188.756445</td>\n",
              "      <td>41</td>\n",
              "      <td>secondary education</td>\n",
              "      <td>1</td>\n",
              "      <td>married</td>\n",
              "      <td>0</td>\n",
              "      <td>M</td>\n",
              "      <td>employee</td>\n",
              "      <td>0</td>\n",
              "      <td>23108.150</td>\n",
              "      <td>purchase of the house for my family</td>\n",
              "    </tr>\n",
              "  </tbody>\n",
              "</table>\n",
              "</div>"
            ],
            "text/plain": [
              "   children  days_employed  dob_years            education  education_id  \\\n",
              "0         1   -8437.673028         42    bachelor's degree             0   \n",
              "1         1   -4024.803754         36  secondary education             1   \n",
              "2         0   -5623.422610         33  Secondary Education             1   \n",
              "3         3   -4124.747207         32  secondary education             1   \n",
              "4         0  340266.072047         53  secondary education             1   \n",
              "5         0    -926.185831         27    bachelor's degree             0   \n",
              "6         0   -2879.202052         43    bachelor's degree             0   \n",
              "7         0    -152.779569         50  SECONDARY EDUCATION             1   \n",
              "8         2   -6929.865299         35    BACHELOR'S DEGREE             0   \n",
              "9         0   -2188.756445         41  secondary education             1   \n",
              "\n",
              "       family_status  family_status_id gender income_type  debt  total_income  \\\n",
              "0            married                 0      F    employee     0     40620.102   \n",
              "1            married                 0      F    employee     0     17932.802   \n",
              "2            married                 0      M    employee     0     23341.752   \n",
              "3            married                 0      M    employee     0     42820.568   \n",
              "4  civil partnership                 1      F     retiree     0     25378.572   \n",
              "5  civil partnership                 1      M    business     0     40922.170   \n",
              "6            married                 0      F    business     0     38484.156   \n",
              "7            married                 0      M    employee     0     21731.829   \n",
              "8  civil partnership                 1      F    employee     0     15337.093   \n",
              "9            married                 0      M    employee     0     23108.150   \n",
              "\n",
              "                               purpose  \n",
              "0                purchase of the house  \n",
              "1                         car purchase  \n",
              "2                purchase of the house  \n",
              "3              supplementary education  \n",
              "4                    to have a wedding  \n",
              "5                purchase of the house  \n",
              "6                 housing transactions  \n",
              "7                            education  \n",
              "8                     having a wedding  \n",
              "9  purchase of the house for my family  "
            ]
          },
          "execution_count": 95,
          "metadata": {},
          "output_type": "execute_result"
        }
      ],
      "source": [
        "# vamos a mostrar las primeras filas N\n",
        "credit_score.head(10)"
      ]
    },
    {
      "cell_type": "markdown",
      "metadata": {
        "id": "LfmRlmRUhDx_"
      },
      "source": [
        "**Observaciones:**\n",
        "- En la columna 'Education' las categorias no son homogéneas, se mezclan mayúsculas y minúsculas. Habrá que renombras las categorias. \n",
        "- En la columna 'purpose' se repite hay dos categorias que podrían unirse como una sola 'purchase of the house' vs. 'purchase of the house for my family'\n",
        "- Habrá que investigar porque hay dias negativos en 'days_employed'"
      ]
    },
    {
      "cell_type": "code",
      "execution_count": null,
      "metadata": {
        "scrolled": true,
        "id": "3vzq0-0ohDyA",
        "outputId": "b4910bc5-21d0-4878-b9e2-d7245faab590"
      },
      "outputs": [
        {
          "name": "stdout",
          "output_type": "stream",
          "text": [
            "<class 'pandas.core.frame.DataFrame'>\n",
            "RangeIndex: 21525 entries, 0 to 21524\n",
            "Data columns (total 12 columns):\n",
            " #   Column            Non-Null Count  Dtype  \n",
            "---  ------            --------------  -----  \n",
            " 0   children          21525 non-null  int64  \n",
            " 1   days_employed     19351 non-null  float64\n",
            " 2   dob_years         21525 non-null  int64  \n",
            " 3   education         21525 non-null  object \n",
            " 4   education_id      21525 non-null  int64  \n",
            " 5   family_status     21525 non-null  object \n",
            " 6   family_status_id  21525 non-null  int64  \n",
            " 7   gender            21525 non-null  object \n",
            " 8   income_type       21525 non-null  object \n",
            " 9   debt              21525 non-null  int64  \n",
            " 10  total_income      19351 non-null  float64\n",
            " 11  purpose           21525 non-null  object \n",
            "dtypes: float64(2), int64(5), object(5)\n",
            "memory usage: 2.0+ MB\n"
          ]
        }
      ],
      "source": [
        "# Obtener información sobre los datos\n",
        "credit_score.info()"
      ]
    },
    {
      "cell_type": "markdown",
      "metadata": {
        "id": "TM7BM7QIhDyA"
      },
      "source": [
        "**Observaciones:**\n",
        "- La cantidad de datos total es 21525, por ende las categorías 'days_employed' y 'total_income' tiene valores ausentes. Está claro que los datos son suficientes para continuar trabajando, sin embargo, hay valores ausentes y tendremos que decidir si eliminarlos o reemplazarlos.\n",
        "\n",
        "- Las categorías 'days_employed' y 'total_income' tienen el mismo valor de datos ausentes, se puede crear la hipótesis que sus valores faltantes podrían estar relacionados con la falta de experiencia laboral o la falta de trabajo en general. Trataremos de comprobar o refutar esta hipótesis a lo largo del proyecto."
      ]
    },
    {
      "cell_type": "code",
      "execution_count": null,
      "metadata": {
        "scrolled": false,
        "id": "QrKBBxw6hDyB",
        "outputId": "47624d6b-0c33-4c85-c914-0f6341bcbc87"
      },
      "outputs": [
        {
          "data": {
            "text/plain": [
              "children               0\n",
              "days_employed       2174\n",
              "dob_years              0\n",
              "education              0\n",
              "education_id           0\n",
              "family_status          0\n",
              "family_status_id       0\n",
              "gender                 0\n",
              "income_type            0\n",
              "debt                   0\n",
              "total_income        2174\n",
              "purpose                0\n",
              "dtype: int64"
            ]
          },
          "execution_count": 97,
          "metadata": {},
          "output_type": "execute_result"
        }
      ],
      "source": [
        "# comprobar la cantidad de valores ausentes\n",
        "credit_score.isnull().sum()"
      ]
    },
    {
      "cell_type": "code",
      "execution_count": null,
      "metadata": {
        "id": "bupzPmcQhDyB",
        "outputId": "95c72eff-f935-4950-d0d2-32a68bca0823"
      },
      "outputs": [
        {
          "data": {
            "text/html": [
              "<div>\n",
              "<style scoped>\n",
              "    .dataframe tbody tr th:only-of-type {\n",
              "        vertical-align: middle;\n",
              "    }\n",
              "\n",
              "    .dataframe tbody tr th {\n",
              "        vertical-align: top;\n",
              "    }\n",
              "\n",
              "    .dataframe thead th {\n",
              "        text-align: right;\n",
              "    }\n",
              "</style>\n",
              "<table border=\"1\" class=\"dataframe\">\n",
              "  <thead>\n",
              "    <tr style=\"text-align: right;\">\n",
              "      <th></th>\n",
              "      <th>children</th>\n",
              "      <th>days_employed</th>\n",
              "      <th>dob_years</th>\n",
              "      <th>education</th>\n",
              "      <th>education_id</th>\n",
              "      <th>family_status</th>\n",
              "      <th>family_status_id</th>\n",
              "      <th>gender</th>\n",
              "      <th>income_type</th>\n",
              "      <th>debt</th>\n",
              "      <th>total_income</th>\n",
              "      <th>purpose</th>\n",
              "    </tr>\n",
              "  </thead>\n",
              "  <tbody>\n",
              "    <tr>\n",
              "      <th>12</th>\n",
              "      <td>0</td>\n",
              "      <td>NaN</td>\n",
              "      <td>65</td>\n",
              "      <td>secondary education</td>\n",
              "      <td>1</td>\n",
              "      <td>civil partnership</td>\n",
              "      <td>1</td>\n",
              "      <td>M</td>\n",
              "      <td>retiree</td>\n",
              "      <td>0</td>\n",
              "      <td>NaN</td>\n",
              "      <td>to have a wedding</td>\n",
              "    </tr>\n",
              "    <tr>\n",
              "      <th>26</th>\n",
              "      <td>0</td>\n",
              "      <td>NaN</td>\n",
              "      <td>41</td>\n",
              "      <td>secondary education</td>\n",
              "      <td>1</td>\n",
              "      <td>married</td>\n",
              "      <td>0</td>\n",
              "      <td>M</td>\n",
              "      <td>civil servant</td>\n",
              "      <td>0</td>\n",
              "      <td>NaN</td>\n",
              "      <td>education</td>\n",
              "    </tr>\n",
              "    <tr>\n",
              "      <th>29</th>\n",
              "      <td>0</td>\n",
              "      <td>NaN</td>\n",
              "      <td>63</td>\n",
              "      <td>secondary education</td>\n",
              "      <td>1</td>\n",
              "      <td>unmarried</td>\n",
              "      <td>4</td>\n",
              "      <td>F</td>\n",
              "      <td>retiree</td>\n",
              "      <td>0</td>\n",
              "      <td>NaN</td>\n",
              "      <td>building a real estate</td>\n",
              "    </tr>\n",
              "    <tr>\n",
              "      <th>41</th>\n",
              "      <td>0</td>\n",
              "      <td>NaN</td>\n",
              "      <td>50</td>\n",
              "      <td>secondary education</td>\n",
              "      <td>1</td>\n",
              "      <td>married</td>\n",
              "      <td>0</td>\n",
              "      <td>F</td>\n",
              "      <td>civil servant</td>\n",
              "      <td>0</td>\n",
              "      <td>NaN</td>\n",
              "      <td>second-hand car purchase</td>\n",
              "    </tr>\n",
              "    <tr>\n",
              "      <th>55</th>\n",
              "      <td>0</td>\n",
              "      <td>NaN</td>\n",
              "      <td>54</td>\n",
              "      <td>secondary education</td>\n",
              "      <td>1</td>\n",
              "      <td>civil partnership</td>\n",
              "      <td>1</td>\n",
              "      <td>F</td>\n",
              "      <td>retiree</td>\n",
              "      <td>1</td>\n",
              "      <td>NaN</td>\n",
              "      <td>to have a wedding</td>\n",
              "    </tr>\n",
              "    <tr>\n",
              "      <th>...</th>\n",
              "      <td>...</td>\n",
              "      <td>...</td>\n",
              "      <td>...</td>\n",
              "      <td>...</td>\n",
              "      <td>...</td>\n",
              "      <td>...</td>\n",
              "      <td>...</td>\n",
              "      <td>...</td>\n",
              "      <td>...</td>\n",
              "      <td>...</td>\n",
              "      <td>...</td>\n",
              "      <td>...</td>\n",
              "    </tr>\n",
              "    <tr>\n",
              "      <th>21489</th>\n",
              "      <td>2</td>\n",
              "      <td>NaN</td>\n",
              "      <td>47</td>\n",
              "      <td>Secondary Education</td>\n",
              "      <td>1</td>\n",
              "      <td>married</td>\n",
              "      <td>0</td>\n",
              "      <td>M</td>\n",
              "      <td>business</td>\n",
              "      <td>0</td>\n",
              "      <td>NaN</td>\n",
              "      <td>purchase of a car</td>\n",
              "    </tr>\n",
              "    <tr>\n",
              "      <th>21495</th>\n",
              "      <td>1</td>\n",
              "      <td>NaN</td>\n",
              "      <td>50</td>\n",
              "      <td>secondary education</td>\n",
              "      <td>1</td>\n",
              "      <td>civil partnership</td>\n",
              "      <td>1</td>\n",
              "      <td>F</td>\n",
              "      <td>employee</td>\n",
              "      <td>0</td>\n",
              "      <td>NaN</td>\n",
              "      <td>wedding ceremony</td>\n",
              "    </tr>\n",
              "    <tr>\n",
              "      <th>21497</th>\n",
              "      <td>0</td>\n",
              "      <td>NaN</td>\n",
              "      <td>48</td>\n",
              "      <td>BACHELOR'S DEGREE</td>\n",
              "      <td>0</td>\n",
              "      <td>married</td>\n",
              "      <td>0</td>\n",
              "      <td>F</td>\n",
              "      <td>business</td>\n",
              "      <td>0</td>\n",
              "      <td>NaN</td>\n",
              "      <td>building a property</td>\n",
              "    </tr>\n",
              "    <tr>\n",
              "      <th>21502</th>\n",
              "      <td>1</td>\n",
              "      <td>NaN</td>\n",
              "      <td>42</td>\n",
              "      <td>secondary education</td>\n",
              "      <td>1</td>\n",
              "      <td>married</td>\n",
              "      <td>0</td>\n",
              "      <td>F</td>\n",
              "      <td>employee</td>\n",
              "      <td>0</td>\n",
              "      <td>NaN</td>\n",
              "      <td>building a real estate</td>\n",
              "    </tr>\n",
              "    <tr>\n",
              "      <th>21510</th>\n",
              "      <td>2</td>\n",
              "      <td>NaN</td>\n",
              "      <td>28</td>\n",
              "      <td>secondary education</td>\n",
              "      <td>1</td>\n",
              "      <td>married</td>\n",
              "      <td>0</td>\n",
              "      <td>F</td>\n",
              "      <td>employee</td>\n",
              "      <td>0</td>\n",
              "      <td>NaN</td>\n",
              "      <td>car purchase</td>\n",
              "    </tr>\n",
              "  </tbody>\n",
              "</table>\n",
              "<p>2174 rows × 12 columns</p>\n",
              "</div>"
            ],
            "text/plain": [
              "       children  days_employed  dob_years            education  education_id  \\\n",
              "12            0            NaN         65  secondary education             1   \n",
              "26            0            NaN         41  secondary education             1   \n",
              "29            0            NaN         63  secondary education             1   \n",
              "41            0            NaN         50  secondary education             1   \n",
              "55            0            NaN         54  secondary education             1   \n",
              "...         ...            ...        ...                  ...           ...   \n",
              "21489         2            NaN         47  Secondary Education             1   \n",
              "21495         1            NaN         50  secondary education             1   \n",
              "21497         0            NaN         48    BACHELOR'S DEGREE             0   \n",
              "21502         1            NaN         42  secondary education             1   \n",
              "21510         2            NaN         28  secondary education             1   \n",
              "\n",
              "           family_status  family_status_id gender    income_type  debt  \\\n",
              "12     civil partnership                 1      M        retiree     0   \n",
              "26               married                 0      M  civil servant     0   \n",
              "29             unmarried                 4      F        retiree     0   \n",
              "41               married                 0      F  civil servant     0   \n",
              "55     civil partnership                 1      F        retiree     1   \n",
              "...                  ...               ...    ...            ...   ...   \n",
              "21489            married                 0      M       business     0   \n",
              "21495  civil partnership                 1      F       employee     0   \n",
              "21497            married                 0      F       business     0   \n",
              "21502            married                 0      F       employee     0   \n",
              "21510            married                 0      F       employee     0   \n",
              "\n",
              "       total_income                   purpose  \n",
              "12              NaN         to have a wedding  \n",
              "26              NaN                 education  \n",
              "29              NaN    building a real estate  \n",
              "41              NaN  second-hand car purchase  \n",
              "55              NaN         to have a wedding  \n",
              "...             ...                       ...  \n",
              "21489           NaN         purchase of a car  \n",
              "21495           NaN          wedding ceremony  \n",
              "21497           NaN       building a property  \n",
              "21502           NaN    building a real estate  \n",
              "21510           NaN              car purchase  \n",
              "\n",
              "[2174 rows x 12 columns]"
            ]
          },
          "execution_count": 98,
          "metadata": {},
          "output_type": "execute_result"
        }
      ],
      "source": [
        "# Veamos la tabla filtrada con valores ausentes de la primera columna donde faltan datos\n",
        "credit_score[credit_score['days_employed'].isna()]"
      ]
    },
    {
      "cell_type": "markdown",
      "metadata": {
        "id": "s0V9C8S5hDyC"
      },
      "source": [
        "**Observaciones:**\n",
        "- La falta de datos en \"days_employed\" y 'total_income' reafirma la hipótesis de que existe una correlación directa y los datos son simétricos.\n",
        "- Podríamos asumir que las personas sin trabajo o que no han trabajado en su vida, por ende no registraron ingresos. "
      ]
    },
    {
      "cell_type": "code",
      "execution_count": null,
      "metadata": {
        "id": "3n6HjdOjhDyC"
      },
      "outputs": [],
      "source": [
        "# Apliquemos múltiples condiciones para filtrar datos y veamos el número de filas en la tabla filtrada.\n",
        "\n",
        "nan_credit_score = credit_score[credit_score['days_employed'].isna()]\n",
        "nan_total_income = (nan_credit_score['total_income']).isna().count() # tabla filtrada de valores ausentes de days_employed con total_income\n",
        "total_income_with_nan = credit_score['total_income'].isna().sum()\n"
      ]
    },
    {
      "cell_type": "code",
      "execution_count": null,
      "metadata": {
        "scrolled": true,
        "id": "6sR4l8uXhDyC",
        "outputId": "db2238aa-43f9-4200-bff1-e8b96be7eb42"
      },
      "outputs": [
        {
          "name": "stdout",
          "output_type": "stream",
          "text": [
            "Número de filas en la tabla filtrada: 2174\n",
            "vs.\n",
            "Número de valores ausentes: 2174\n"
          ]
        }
      ],
      "source": [
        "print(f'Número de filas en la tabla filtrada:', nan_total_income)\n",
        "print(f'vs.')\n",
        "print(f'Número de valores ausentes:', total_income_with_nan)"
      ]
    },
    {
      "cell_type": "code",
      "execution_count": null,
      "metadata": {
        "id": "5H2kevx1hDyD",
        "outputId": "be7959ef-e844-4728-bca1-4e1600b63c5b"
      },
      "outputs": [
        {
          "name": "stdout",
          "output_type": "stream",
          "text": [
            "Porcentaje de valores ausentes: 10.1\n"
          ]
        }
      ],
      "source": [
        "# Calcular el porcentaje de los valores ausentes en comparación con el conjunto de datos completo.\n",
        "\n",
        "percentage_missing_values= (nan_total_income/len(credit_score))*100\n",
        "print(f'Porcentaje de valores ausentes:', percentage_missing_values.round(1))"
      ]
    },
    {
      "cell_type": "markdown",
      "metadata": {
        "id": "uUzs8-ymhDyD"
      },
      "source": [
        "**Conclusión intermedia:**\n",
        "\n",
        "- Hemos comprobado que el número de filas de la tabla filtrada coincide 100% con el número de valores ausentes originalmente entregados en nuestro dataframe. \n",
        "\n",
        "- Podemos concluir que los días no trabajados representa no día de pago o no ingresos laborales.\n",
        "\n",
        "- Hemos encontrado que hace falta un 10.1 % de los datos con respecto a cuánto tiempo ha estado trabajando el cliente vs. sus ingresos. Tendremos que decidir si los datos que faltan no son importantes como para eliminarlos o por si lo contrario, es necesario reemplazar los datos que faltan con la media o la mediana. \n",
        "\n",
        "- Procedemos a determinar si los datos tienen valores atípicos significativos mediante la determinación de estadísticas para las filas con valores faltantes."
      ]
    },
    {
      "cell_type": "code",
      "execution_count": null,
      "metadata": {
        "id": "ywNQ0klqhDyD"
      },
      "outputs": [],
      "source": [
        "# Vamos a investigar a los clientes que no tienen datos sobre la característica identificada y la columna con los valores ausentes"
      ]
    },
    {
      "cell_type": "code",
      "execution_count": null,
      "metadata": {
        "id": "u_cnIvwNhDyE",
        "outputId": "2492da99-9ce4-4d84-b084-329fc96ada57"
      },
      "outputs": [
        {
          "name": "stdout",
          "output_type": "stream",
          "text": [
            "Valores ausentes en days_employed por education_id\n",
            "1    0.708372\n",
            "0    0.250230\n",
            "2    0.031739\n",
            "3    0.009660\n",
            "Name: education_id, dtype: float64\n",
            "\n",
            "Valores ausentes en total_income por education_id\n",
            "1    0.708372\n",
            "0    0.250230\n",
            "2    0.031739\n",
            "3    0.009660\n",
            "Name: education_id, dtype: float64\n"
          ]
        }
      ],
      "source": [
        "# filtrando por education_id\n",
        "print('Valores ausentes en days_employed por education_id')\n",
        "print(credit_score[credit_score['days_employed'].isnull()]['education_id'].value_counts(normalize = True))\n",
        "print()\n",
        "print('Valores ausentes en total_income por education_id')\n",
        "print(credit_score[credit_score['total_income'].isnull()]['education_id'].value_counts(normalize = True))"
      ]
    },
    {
      "cell_type": "code",
      "execution_count": null,
      "metadata": {
        "id": "WBIvhkXJhDyE",
        "outputId": "b5d61c54-7507-428b-8560-b2bc6c176da3"
      },
      "outputs": [
        {
          "name": "stdout",
          "output_type": "stream",
          "text": [
            "Valores ausentes en days_employed por tipo de educación\n",
            "secondary education    0.708372\n",
            "bachelor's degree      0.250230\n",
            "some college           0.031739\n",
            "primary education      0.009660\n",
            "Name: education, dtype: float64\n",
            "\n",
            "Valores ausentes en total_income por tipo de educación\n",
            "secondary education    0.708372\n",
            "bachelor's degree      0.250230\n",
            "some college           0.031739\n",
            "primary education      0.009660\n",
            "Name: education, dtype: float64\n"
          ]
        }
      ],
      "source": [
        "# filtrando por education\n",
        "print('Valores ausentes en days_employed por tipo de educación')\n",
        "print(credit_score[credit_score['days_employed'].isnull()]['education'].str.lower().value_counts(normalize = True))\n",
        "print()\n",
        "print('Valores ausentes en total_income por tipo de educación')\n",
        "print(credit_score[credit_score['total_income'].isnull()]['education'].str.lower().value_counts(normalize = True))"
      ]
    },
    {
      "cell_type": "markdown",
      "metadata": {
        "id": "6KI1O_0AhDyE"
      },
      "source": [
        "**Conclusión:**\n",
        "- Nuevamente los resultados comprueban nuestra hipótesis, el conteo es igual, lo que demustra relacción directa con respecto a las columnas de days_employed y de total_income.\n",
        "\n",
        "- Se podría seguir filtrando por otras categorías como: dob_years, family_status_id, gender; pero a este punto es claro la relación directa que existe entre los valores faltantes."
      ]
    },
    {
      "cell_type": "code",
      "execution_count": null,
      "metadata": {
        "scrolled": true,
        "id": "cW3ZveOFhDyF",
        "outputId": "3b8b0f76-9ec1-4043-a823-ae3f76b48289"
      },
      "outputs": [
        {
          "data": {
            "text/html": [
              "<div>\n",
              "<style scoped>\n",
              "    .dataframe tbody tr th:only-of-type {\n",
              "        vertical-align: middle;\n",
              "    }\n",
              "\n",
              "    .dataframe tbody tr th {\n",
              "        vertical-align: top;\n",
              "    }\n",
              "\n",
              "    .dataframe thead th {\n",
              "        text-align: right;\n",
              "    }\n",
              "</style>\n",
              "<table border=\"1\" class=\"dataframe\">\n",
              "  <thead>\n",
              "    <tr style=\"text-align: right;\">\n",
              "      <th></th>\n",
              "      <th>children</th>\n",
              "      <th>days_employed</th>\n",
              "      <th>dob_years</th>\n",
              "      <th>education_id</th>\n",
              "      <th>family_status_id</th>\n",
              "      <th>debt</th>\n",
              "      <th>total_income</th>\n",
              "    </tr>\n",
              "  </thead>\n",
              "  <tbody>\n",
              "    <tr>\n",
              "      <th>count</th>\n",
              "      <td>21525.000000</td>\n",
              "      <td>19351.000000</td>\n",
              "      <td>21525.000000</td>\n",
              "      <td>21525.000000</td>\n",
              "      <td>21525.000000</td>\n",
              "      <td>21525.000000</td>\n",
              "      <td>19351.000000</td>\n",
              "    </tr>\n",
              "    <tr>\n",
              "      <th>mean</th>\n",
              "      <td>0.538908</td>\n",
              "      <td>63046.497661</td>\n",
              "      <td>43.293380</td>\n",
              "      <td>0.817236</td>\n",
              "      <td>0.972544</td>\n",
              "      <td>0.080883</td>\n",
              "      <td>26787.568355</td>\n",
              "    </tr>\n",
              "    <tr>\n",
              "      <th>std</th>\n",
              "      <td>1.381587</td>\n",
              "      <td>140827.311974</td>\n",
              "      <td>12.574584</td>\n",
              "      <td>0.548138</td>\n",
              "      <td>1.420324</td>\n",
              "      <td>0.272661</td>\n",
              "      <td>16475.450632</td>\n",
              "    </tr>\n",
              "    <tr>\n",
              "      <th>min</th>\n",
              "      <td>-1.000000</td>\n",
              "      <td>-18388.949901</td>\n",
              "      <td>0.000000</td>\n",
              "      <td>0.000000</td>\n",
              "      <td>0.000000</td>\n",
              "      <td>0.000000</td>\n",
              "      <td>3306.762000</td>\n",
              "    </tr>\n",
              "    <tr>\n",
              "      <th>25%</th>\n",
              "      <td>0.000000</td>\n",
              "      <td>-2747.423625</td>\n",
              "      <td>33.000000</td>\n",
              "      <td>1.000000</td>\n",
              "      <td>0.000000</td>\n",
              "      <td>0.000000</td>\n",
              "      <td>16488.504500</td>\n",
              "    </tr>\n",
              "    <tr>\n",
              "      <th>50%</th>\n",
              "      <td>0.000000</td>\n",
              "      <td>-1203.369529</td>\n",
              "      <td>42.000000</td>\n",
              "      <td>1.000000</td>\n",
              "      <td>0.000000</td>\n",
              "      <td>0.000000</td>\n",
              "      <td>23202.870000</td>\n",
              "    </tr>\n",
              "    <tr>\n",
              "      <th>75%</th>\n",
              "      <td>1.000000</td>\n",
              "      <td>-291.095954</td>\n",
              "      <td>53.000000</td>\n",
              "      <td>1.000000</td>\n",
              "      <td>1.000000</td>\n",
              "      <td>0.000000</td>\n",
              "      <td>32549.611000</td>\n",
              "    </tr>\n",
              "    <tr>\n",
              "      <th>max</th>\n",
              "      <td>20.000000</td>\n",
              "      <td>401755.400475</td>\n",
              "      <td>75.000000</td>\n",
              "      <td>4.000000</td>\n",
              "      <td>4.000000</td>\n",
              "      <td>1.000000</td>\n",
              "      <td>362496.645000</td>\n",
              "    </tr>\n",
              "  </tbody>\n",
              "</table>\n",
              "</div>"
            ],
            "text/plain": [
              "           children  days_employed     dob_years  education_id  \\\n",
              "count  21525.000000   19351.000000  21525.000000  21525.000000   \n",
              "mean       0.538908   63046.497661     43.293380      0.817236   \n",
              "std        1.381587  140827.311974     12.574584      0.548138   \n",
              "min       -1.000000  -18388.949901      0.000000      0.000000   \n",
              "25%        0.000000   -2747.423625     33.000000      1.000000   \n",
              "50%        0.000000   -1203.369529     42.000000      1.000000   \n",
              "75%        1.000000    -291.095954     53.000000      1.000000   \n",
              "max       20.000000  401755.400475     75.000000      4.000000   \n",
              "\n",
              "       family_status_id          debt   total_income  \n",
              "count      21525.000000  21525.000000   19351.000000  \n",
              "mean           0.972544      0.080883   26787.568355  \n",
              "std            1.420324      0.272661   16475.450632  \n",
              "min            0.000000      0.000000    3306.762000  \n",
              "25%            0.000000      0.000000   16488.504500  \n",
              "50%            0.000000      0.000000   23202.870000  \n",
              "75%            1.000000      0.000000   32549.611000  \n",
              "max            4.000000      1.000000  362496.645000  "
            ]
          },
          "execution_count": 105,
          "metadata": {},
          "output_type": "execute_result"
        }
      ],
      "source": [
        "# Comprobación de la distribución\n",
        "credit_score.describe()"
      ]
    },
    {
      "cell_type": "markdown",
      "metadata": {
        "id": "GZd_9HM3hDyF"
      },
      "source": [
        "**Observaciones:**\n",
        "- Vemos datos como '20' y '-1' en la columna 'children' (hijos). Estos datos parecen ser efecto de un error o typo, es muy poco probable que sea realista porque no tenemos personas con 6, 7, u 8 hijos por ende, una pareja con 20 hijos no es probable. Revisaremos que hacer con estos datos."
      ]
    },
    {
      "cell_type": "code",
      "execution_count": null,
      "metadata": {
        "scrolled": true,
        "id": "Spk6XAI3hDyF",
        "outputId": "3742ecc2-67ce-47da-f126-34e08d4de9ba"
      },
      "outputs": [
        {
          "name": "stdout",
          "output_type": "stream",
          "text": [
            "0    14149\n",
            "1     4865\n",
            "2     2131\n",
            "3      330\n",
            "4       41\n",
            "5        9\n",
            "Name: children, dtype: int64\n"
          ]
        }
      ],
      "source": [
        "# Preprocesando número de hijos\n",
        "# sustituir 20 por 2\n",
        "credit_score['children'] = credit_score.replace({'children':{20:2}})\n",
        "\n",
        "# sustituir -1 por 1\n",
        "credit_score['children'] = credit_score.replace({'children':{-1:1}}) \n",
        "\n",
        "# Preprocesando nuevamente número de hijos\n",
        "print(credit_score['children'].value_counts())"
      ]
    },
    {
      "cell_type": "code",
      "execution_count": null,
      "metadata": {
        "scrolled": true,
        "id": "P0R0G9zmhDyG",
        "outputId": "316b9cf8-c6c3-4460-db74-9a11b3f4cd9d"
      },
      "outputs": [
        {
          "name": "stdout",
          "output_type": "stream",
          "text": [
            "Valores ausentes en days_employed por número de hijos\n",
            "0    1439\n",
            "1     478\n",
            "2     213\n",
            "3      36\n",
            "4       7\n",
            "5       1\n",
            "Name: children, dtype: int64\n",
            "\n",
            "Valores ausentes en total_income por número de hijos\n",
            "0    1439\n",
            "1     478\n",
            "2     213\n",
            "3      36\n",
            "4       7\n",
            "5       1\n",
            "Name: children, dtype: int64\n"
          ]
        }
      ],
      "source": [
        "# Con datos realista en la categoría de hijos filtramos\n",
        "print('Valores ausentes en days_employed por número de hijos')\n",
        "print(credit_score[credit_score['days_employed'].isnull()]['children'].value_counts())\n",
        "print()\n",
        "print('Valores ausentes en total_income por número de hijos')\n",
        "print(credit_score[credit_score['total_income'].isnull()]['children'].value_counts())"
      ]
    },
    {
      "cell_type": "code",
      "execution_count": null,
      "metadata": {
        "scrolled": true,
        "id": "j5q9WSZXhDyG",
        "outputId": "9549593f-7d17-4e8a-ce88-cf4a6be03d3d"
      },
      "outputs": [
        {
          "data": {
            "text/html": [
              "<div>\n",
              "<style scoped>\n",
              "    .dataframe tbody tr th:only-of-type {\n",
              "        vertical-align: middle;\n",
              "    }\n",
              "\n",
              "    .dataframe tbody tr th {\n",
              "        vertical-align: top;\n",
              "    }\n",
              "\n",
              "    .dataframe thead th {\n",
              "        text-align: right;\n",
              "    }\n",
              "</style>\n",
              "<table border=\"1\" class=\"dataframe\">\n",
              "  <thead>\n",
              "    <tr style=\"text-align: right;\">\n",
              "      <th></th>\n",
              "      <th>days_employed</th>\n",
              "      <th>dob_years</th>\n",
              "      <th>education_id</th>\n",
              "      <th>family_status_id</th>\n",
              "      <th>debt</th>\n",
              "      <th>total_income</th>\n",
              "    </tr>\n",
              "  </thead>\n",
              "  <tbody>\n",
              "    <tr>\n",
              "      <th>count</th>\n",
              "      <td>19351.000000</td>\n",
              "      <td>21525.000000</td>\n",
              "      <td>21525.000000</td>\n",
              "      <td>21525.000000</td>\n",
              "      <td>21525.000000</td>\n",
              "      <td>19351.000000</td>\n",
              "    </tr>\n",
              "    <tr>\n",
              "      <th>mean</th>\n",
              "      <td>63046.497661</td>\n",
              "      <td>43.293380</td>\n",
              "      <td>0.817236</td>\n",
              "      <td>0.972544</td>\n",
              "      <td>0.080883</td>\n",
              "      <td>26787.568355</td>\n",
              "    </tr>\n",
              "    <tr>\n",
              "      <th>std</th>\n",
              "      <td>140827.311974</td>\n",
              "      <td>12.574584</td>\n",
              "      <td>0.548138</td>\n",
              "      <td>1.420324</td>\n",
              "      <td>0.272661</td>\n",
              "      <td>16475.450632</td>\n",
              "    </tr>\n",
              "    <tr>\n",
              "      <th>min</th>\n",
              "      <td>-18388.949901</td>\n",
              "      <td>0.000000</td>\n",
              "      <td>0.000000</td>\n",
              "      <td>0.000000</td>\n",
              "      <td>0.000000</td>\n",
              "      <td>3306.762000</td>\n",
              "    </tr>\n",
              "    <tr>\n",
              "      <th>25%</th>\n",
              "      <td>-2747.423625</td>\n",
              "      <td>33.000000</td>\n",
              "      <td>1.000000</td>\n",
              "      <td>0.000000</td>\n",
              "      <td>0.000000</td>\n",
              "      <td>16488.504500</td>\n",
              "    </tr>\n",
              "    <tr>\n",
              "      <th>50%</th>\n",
              "      <td>-1203.369529</td>\n",
              "      <td>42.000000</td>\n",
              "      <td>1.000000</td>\n",
              "      <td>0.000000</td>\n",
              "      <td>0.000000</td>\n",
              "      <td>23202.870000</td>\n",
              "    </tr>\n",
              "    <tr>\n",
              "      <th>75%</th>\n",
              "      <td>-291.095954</td>\n",
              "      <td>53.000000</td>\n",
              "      <td>1.000000</td>\n",
              "      <td>1.000000</td>\n",
              "      <td>0.000000</td>\n",
              "      <td>32549.611000</td>\n",
              "    </tr>\n",
              "    <tr>\n",
              "      <th>max</th>\n",
              "      <td>401755.400475</td>\n",
              "      <td>75.000000</td>\n",
              "      <td>4.000000</td>\n",
              "      <td>4.000000</td>\n",
              "      <td>1.000000</td>\n",
              "      <td>362496.645000</td>\n",
              "    </tr>\n",
              "  </tbody>\n",
              "</table>\n",
              "</div>"
            ],
            "text/plain": [
              "       days_employed     dob_years  education_id  family_status_id  \\\n",
              "count   19351.000000  21525.000000  21525.000000      21525.000000   \n",
              "mean    63046.497661     43.293380      0.817236          0.972544   \n",
              "std    140827.311974     12.574584      0.548138          1.420324   \n",
              "min    -18388.949901      0.000000      0.000000          0.000000   \n",
              "25%     -2747.423625     33.000000      1.000000          0.000000   \n",
              "50%     -1203.369529     42.000000      1.000000          0.000000   \n",
              "75%      -291.095954     53.000000      1.000000          1.000000   \n",
              "max    401755.400475     75.000000      4.000000          4.000000   \n",
              "\n",
              "               debt   total_income  \n",
              "count  21525.000000   19351.000000  \n",
              "mean       0.080883   26787.568355  \n",
              "std        0.272661   16475.450632  \n",
              "min        0.000000    3306.762000  \n",
              "25%        0.000000   16488.504500  \n",
              "50%        0.000000   23202.870000  \n",
              "75%        0.000000   32549.611000  \n",
              "max        1.000000  362496.645000  "
            ]
          },
          "execution_count": 108,
          "metadata": {},
          "output_type": "execute_result"
        }
      ],
      "source": [
        "# Comprobando la distribución en el conjunto de datos entero\n",
        "credit_score.describe()"
      ]
    },
    {
      "cell_type": "markdown",
      "metadata": {
        "id": "ehhgDEfOhDyG"
      },
      "source": [
        "**Observaciones:**\n",
        "\n",
        "- La media de 'days_employed' es 63046.49 y la mediana es -1203.36\n",
        "\n",
        "- En este punto del proyecto, seguimos teniendo valores negativos en la categoría 'days_employed'. Sería fácil multiplicar por -1, sin embargo, en el máximo notamos que tenemos un valor positivo. Por ende, utilizaremos el método abs()\n",
        "\n",
        "- Hay otro problema con days_employed. Parece que hay valores positivos anormalmente grandes. Es importante identificar el problema y solucionarlo. Lo solucionaremos más adelante."
      ]
    },
    {
      "cell_type": "code",
      "execution_count": null,
      "metadata": {
        "id": "rlGeGHPRhDyH",
        "outputId": "bce77b9d-24da-4430-f1b3-c2f838261e21"
      },
      "outputs": [
        {
          "name": "stdout",
          "output_type": "stream",
          "text": [
            "count     19351.000000\n",
            "mean      66914.728907\n",
            "std      139030.880527\n",
            "min          24.141633\n",
            "25%         927.009265\n",
            "50%        2194.220567\n",
            "75%        5537.882441\n",
            "max      401755.400475\n",
            "Name: days_employed, dtype: float64\n"
          ]
        }
      ],
      "source": [
        "# Convertir days_employed en valores absolutos\n",
        "days_employed_absolute = abs(credit_score['days_employed'])\n",
        "print(days_employed_absolute.describe())"
      ]
    },
    {
      "cell_type": "markdown",
      "metadata": {
        "id": "4r64alsthDyH"
      },
      "source": [
        "Tomando el valor absoluto de 'days_employed' da una media de 66914.72 y una mediana de 2194.22"
      ]
    },
    {
      "cell_type": "markdown",
      "metadata": {
        "id": "OPvqYJebhDyI"
      },
      "source": [
        "**Observaciones**"
      ]
    },
    {
      "cell_type": "markdown",
      "metadata": {
        "id": "3MVbW2p3hDyI"
      },
      "source": [
        "1) La media de 'days_employed' es 63046.49 y la mediana es -1203.36. Esto significa que el conjunto de datos contiene valores atípicos significativos. \n",
        "\n",
        "2) Con valores absolutos podemos observa para la columna total_income la media es 26787.56 y la mediana es 23202.87. mostrando que los valores se acercan y probablemente podríamos reemplazar los valores que faltan en ésta columna con la media o la mediana.\n",
        "\n",
        "3) Revisando los valores faltantes, seguimos observando que los valores faltantes exhiben un patrón. Para cada fila con datos faltantes, faltan los valores de días_empleados y total_ingresos.\n",
        "\n",
        "4) Con este resultado y dado que el tamaño de la muestra es lo suficientemente grande, hemos decidido no descartar el 10 % de los datos que faltan.\n"
      ]
    },
    {
      "cell_type": "code",
      "execution_count": null,
      "metadata": {
        "id": "DKPWqi5ChDyI",
        "outputId": "9b8d7774-a81c-46a4-e314-3b86240d3263"
      },
      "outputs": [
        {
          "name": "stdout",
          "output_type": "stream",
          "text": [
            "Valores ausentes en days_employed por género\n",
            "F    1484\n",
            "M     690\n",
            "Name: gender, dtype: int64\n",
            "\n",
            "Valores ausentes en total_income por género\n",
            "F    1484\n",
            "M     690\n",
            "Name: gender, dtype: int64\n"
          ]
        }
      ],
      "source": [
        "# Comprueba otras razones y patrones que podrían llevar a valores ausentes\n",
        "\n",
        "# filtrando por gender\n",
        "print('Valores ausentes en days_employed por género')\n",
        "print(credit_score[credit_score['days_employed'].isnull()]['gender'].value_counts())\n",
        "print()\n",
        "print('Valores ausentes en total_income por género')\n",
        "print(credit_score[credit_score['total_income'].isnull()]['gender'].value_counts())"
      ]
    },
    {
      "cell_type": "markdown",
      "metadata": {
        "id": "Yp4fsVVBhDyJ"
      },
      "source": [
        "**Onservación:**\n",
        "- El conteo de datos faltantes por género muestra que los datos son igueales con respecto a las columnas de days_employed y de total_income. Lo que demuestra que no es al azar. Utilicemos ahora otra categoría para eliminar dudas."
      ]
    },
    {
      "cell_type": "code",
      "execution_count": null,
      "metadata": {
        "id": "fgsvA4QthDyJ",
        "outputId": "cd7de381-e7b8-4743-f66d-0a57c6d11c02"
      },
      "outputs": [
        {
          "name": "stdout",
          "output_type": "stream",
          "text": [
            "Valores ausentes en days_employed por tipo de ingresos\n",
            "employee         1105\n",
            "business          508\n",
            "retiree           413\n",
            "civil servant     147\n",
            "entrepreneur        1\n",
            "Name: income_type, dtype: int64\n",
            "\n",
            "Valores ausentes en total_income por tipo de ingresos\n",
            "employee         1105\n",
            "business          508\n",
            "retiree           413\n",
            "civil servant     147\n",
            "entrepreneur        1\n",
            "Name: income_type, dtype: int64\n"
          ]
        }
      ],
      "source": [
        "# filtrando por income_type\n",
        "print('Valores ausentes en days_employed por tipo de ingresos')\n",
        "print(credit_score[credit_score['days_employed'].isnull()]['income_type'].value_counts())\n",
        "print()\n",
        "print('Valores ausentes en total_income por tipo de ingresos')\n",
        "print(credit_score[credit_score['total_income'].isnull()]['income_type'].value_counts())"
      ]
    },
    {
      "cell_type": "markdown",
      "metadata": {
        "id": "pWEgvX6MhDyJ"
      },
      "source": [
        "**Observaciones**\n",
        "1. Los siguientes pasos implican completar los valores faltantes en days_employed y total_income. Para days_employed debemos manejar los números negativos y valores extremos, la mediana debe ajustarse mejor que la media como ya comprobamos que era possible. Como la variable se asume como experiencia laboral en días, se entiende que no debe haber días negativos o incluso días en cifras decimales. Esta variable debe ser entera y positiva.\n",
        "\n",
        "\n",
        "2. En la categoría total_income, los valores faltantes teniendo en cuenta las variaciones entre sexo y años de estudio. Porque los estudios apuntan a que existen diferencias salariales entre géneros y que los ingresos aumentan según la cantidad de años de estudio que tenga el individuo."
      ]
    },
    {
      "cell_type": "markdown",
      "metadata": {
        "id": "5V1Kack8hDyJ"
      },
      "source": [
        "# Etapa 2. Transformación de datos"
      ]
    },
    {
      "cell_type": "code",
      "execution_count": null,
      "metadata": {
        "scrolled": true,
        "id": "E5vaRtqehDyJ",
        "outputId": "58382e80-4b35-4151-cc63-7bdea28dbacf"
      },
      "outputs": [
        {
          "data": {
            "text/plain": [
              "array([\"bachelor's degree\", 'secondary education', 'Secondary Education',\n",
              "       'SECONDARY EDUCATION', \"BACHELOR'S DEGREE\", 'some college',\n",
              "       'primary education', \"Bachelor's Degree\", 'SOME COLLEGE',\n",
              "       'Some College', 'PRIMARY EDUCATION', 'Primary Education',\n",
              "       'Graduate Degree', 'GRADUATE DEGREE', 'graduate degree'],\n",
              "      dtype=object)"
            ]
          },
          "execution_count": 112,
          "metadata": {},
          "output_type": "execute_result"
        }
      ],
      "source": [
        "# Veamos todos los valores en la columna de educación para verificar si será necesario corregir la ortografía y qué habrá que corregir exactamente\n",
        "credit_score['education'].unique()"
      ]
    },
    {
      "cell_type": "code",
      "execution_count": null,
      "metadata": {
        "scrolled": true,
        "id": "tSza0jUwhDyT"
      },
      "outputs": [],
      "source": [
        "# Arregla los registros si es necesario\n",
        "credit_score['education'] = credit_score['education'].str.lower()"
      ]
    },
    {
      "cell_type": "code",
      "execution_count": null,
      "metadata": {
        "id": "cOmR2naGhDyT",
        "outputId": "a848c11d-f52b-4adf-fc3d-427577d1fd3f"
      },
      "outputs": [
        {
          "data": {
            "text/plain": [
              "array([\"bachelor's degree\", 'secondary education', 'some college',\n",
              "       'primary education', 'graduate degree'], dtype=object)"
            ]
          },
          "execution_count": 114,
          "metadata": {},
          "output_type": "execute_result"
        }
      ],
      "source": [
        "# Comprobar todos los valores en la columna para asegurarnos de que los hayamos corregido\n",
        "credit_score['education'].unique()"
      ]
    },
    {
      "cell_type": "code",
      "execution_count": null,
      "metadata": {
        "id": "Ugo19l-vhDyT",
        "outputId": "4a81db56-9297-4285-a27a-ab0fd610c504"
      },
      "outputs": [
        {
          "data": {
            "text/plain": [
              "array([1, 0, 3, 2, 4, 5], dtype=object)"
            ]
          },
          "execution_count": 115,
          "metadata": {},
          "output_type": "execute_result"
        }
      ],
      "source": [
        "# Veamos la distribución de los valores en la columna `children`, si existen\n",
        "credit_score['children'].unique()"
      ]
    },
    {
      "cell_type": "markdown",
      "metadata": {
        "id": "1gwzAeulhDyT"
      },
      "source": [
        "**Observaciones:**\n",
        "- Nuestros datos fueron ya tratados y corregidos en la sección anterior.\n",
        "- Como ya mencionamos anteriormente, observamos datos como '20' y '-1' en la columna 'children' (hijos).\n",
        "- Estos datos parecen ser efecto de un error o typo, es muy poco probable que sea realista porque no tenemos personas con 6, 7, u 8 hijos por ende, una pareja con 20 hijos no es probable. \n",
        "- En lugar de eliminar estos datos, para el valor '-1' lo reemplazaremos por '1'. Y '20' por '2'."
      ]
    },
    {
      "cell_type": "code",
      "execution_count": null,
      "metadata": {
        "id": "OgCgDjCWhDyU",
        "outputId": "7bb6a242-de23-42b6-9144-c45acd0c1e30"
      },
      "outputs": [
        {
          "data": {
            "text/plain": [
              "array([-8437.67302776, -4024.80375385, -5623.42261023, ...,\n",
              "       -2113.3468877 , -3112.4817052 , -1984.50758853])"
            ]
          },
          "execution_count": 116,
          "metadata": {},
          "output_type": "execute_result"
        }
      ],
      "source": [
        "# Encuentra datos problemáticos en `days_employed`, si existen, y calcula el porcentaje\n",
        "credit_score['days_employed'].unique()"
      ]
    },
    {
      "cell_type": "code",
      "execution_count": null,
      "metadata": {
        "id": "QUwE8A9zhDyU"
      },
      "outputs": [],
      "source": [
        "# Resolviendo los valores negativos\n",
        "credit_score['days_employed'] = abs(credit_score['days_employed'])"
      ]
    },
    {
      "cell_type": "code",
      "execution_count": null,
      "metadata": {
        "id": "st3L1afbhDyU",
        "outputId": "a6b5bbb0-c6df-4f2b-b7b9-afdde92116d1"
      },
      "outputs": [
        {
          "data": {
            "text/html": [
              "<div>\n",
              "<style scoped>\n",
              "    .dataframe tbody tr th:only-of-type {\n",
              "        vertical-align: middle;\n",
              "    }\n",
              "\n",
              "    .dataframe tbody tr th {\n",
              "        vertical-align: top;\n",
              "    }\n",
              "\n",
              "    .dataframe thead th {\n",
              "        text-align: right;\n",
              "    }\n",
              "</style>\n",
              "<table border=\"1\" class=\"dataframe\">\n",
              "  <thead>\n",
              "    <tr style=\"text-align: right;\">\n",
              "      <th></th>\n",
              "      <th>days_employed</th>\n",
              "      <th>dob_years</th>\n",
              "      <th>education_id</th>\n",
              "      <th>family_status_id</th>\n",
              "      <th>debt</th>\n",
              "      <th>total_income</th>\n",
              "    </tr>\n",
              "  </thead>\n",
              "  <tbody>\n",
              "    <tr>\n",
              "      <th>count</th>\n",
              "      <td>19351.000000</td>\n",
              "      <td>21525.000000</td>\n",
              "      <td>21525.000000</td>\n",
              "      <td>21525.000000</td>\n",
              "      <td>21525.000000</td>\n",
              "      <td>19351.000000</td>\n",
              "    </tr>\n",
              "    <tr>\n",
              "      <th>mean</th>\n",
              "      <td>66914.728907</td>\n",
              "      <td>43.293380</td>\n",
              "      <td>0.817236</td>\n",
              "      <td>0.972544</td>\n",
              "      <td>0.080883</td>\n",
              "      <td>26787.568355</td>\n",
              "    </tr>\n",
              "    <tr>\n",
              "      <th>std</th>\n",
              "      <td>139030.880527</td>\n",
              "      <td>12.574584</td>\n",
              "      <td>0.548138</td>\n",
              "      <td>1.420324</td>\n",
              "      <td>0.272661</td>\n",
              "      <td>16475.450632</td>\n",
              "    </tr>\n",
              "    <tr>\n",
              "      <th>min</th>\n",
              "      <td>24.141633</td>\n",
              "      <td>0.000000</td>\n",
              "      <td>0.000000</td>\n",
              "      <td>0.000000</td>\n",
              "      <td>0.000000</td>\n",
              "      <td>3306.762000</td>\n",
              "    </tr>\n",
              "    <tr>\n",
              "      <th>25%</th>\n",
              "      <td>927.009265</td>\n",
              "      <td>33.000000</td>\n",
              "      <td>1.000000</td>\n",
              "      <td>0.000000</td>\n",
              "      <td>0.000000</td>\n",
              "      <td>16488.504500</td>\n",
              "    </tr>\n",
              "    <tr>\n",
              "      <th>50%</th>\n",
              "      <td>2194.220567</td>\n",
              "      <td>42.000000</td>\n",
              "      <td>1.000000</td>\n",
              "      <td>0.000000</td>\n",
              "      <td>0.000000</td>\n",
              "      <td>23202.870000</td>\n",
              "    </tr>\n",
              "    <tr>\n",
              "      <th>75%</th>\n",
              "      <td>5537.882441</td>\n",
              "      <td>53.000000</td>\n",
              "      <td>1.000000</td>\n",
              "      <td>1.000000</td>\n",
              "      <td>0.000000</td>\n",
              "      <td>32549.611000</td>\n",
              "    </tr>\n",
              "    <tr>\n",
              "      <th>max</th>\n",
              "      <td>401755.400475</td>\n",
              "      <td>75.000000</td>\n",
              "      <td>4.000000</td>\n",
              "      <td>4.000000</td>\n",
              "      <td>1.000000</td>\n",
              "      <td>362496.645000</td>\n",
              "    </tr>\n",
              "  </tbody>\n",
              "</table>\n",
              "</div>"
            ],
            "text/plain": [
              "       days_employed     dob_years  education_id  family_status_id  \\\n",
              "count   19351.000000  21525.000000  21525.000000      21525.000000   \n",
              "mean    66914.728907     43.293380      0.817236          0.972544   \n",
              "std    139030.880527     12.574584      0.548138          1.420324   \n",
              "min        24.141633      0.000000      0.000000          0.000000   \n",
              "25%       927.009265     33.000000      1.000000          0.000000   \n",
              "50%      2194.220567     42.000000      1.000000          0.000000   \n",
              "75%      5537.882441     53.000000      1.000000          1.000000   \n",
              "max    401755.400475     75.000000      4.000000          4.000000   \n",
              "\n",
              "               debt   total_income  \n",
              "count  21525.000000   19351.000000  \n",
              "mean       0.080883   26787.568355  \n",
              "std        0.272661   16475.450632  \n",
              "min        0.000000    3306.762000  \n",
              "25%        0.000000   16488.504500  \n",
              "50%        0.000000   23202.870000  \n",
              "75%        0.000000   32549.611000  \n",
              "max        1.000000  362496.645000  "
            ]
          },
          "execution_count": 118,
          "metadata": {},
          "output_type": "execute_result"
        }
      ],
      "source": [
        "# Comprueba el resultado - asegúrate de que esté arreglado\n",
        "credit_score.describe()"
      ]
    },
    {
      "cell_type": "code",
      "execution_count": null,
      "metadata": {
        "scrolled": false,
        "id": "emFZQh8ahDyU",
        "outputId": "96957c59-4cf2-41a5-8d8c-06de1b4e3ed2"
      },
      "outputs": [
        {
          "data": {
            "text/plain": [
              "array([42, 36, 33, 32, 53, 27, 43, 50, 35, 41, 40, 65, 54, 56, 26, 48, 24,\n",
              "       21, 57, 67, 28, 63, 62, 47, 34, 68, 25, 31, 30, 20, 49, 37, 45, 61,\n",
              "       64, 44, 52, 46, 23, 38, 39, 51,  0, 59, 29, 60, 55, 58, 71, 22, 73,\n",
              "       66, 69, 19, 72, 70, 74, 75])"
            ]
          },
          "execution_count": 119,
          "metadata": {},
          "output_type": "execute_result"
        }
      ],
      "source": [
        "# Revisa `dob_years` en busca de valores sospechosos y cuenta el porcentaje\n",
        "credit_score['dob_years'].unique()"
      ]
    },
    {
      "cell_type": "markdown",
      "metadata": {
        "id": "brB_tDwrhDyV"
      },
      "source": [
        "**Observaciones:**\n",
        "- El primer errror que observamos es la edad 0 con experiencia de 24 días que no tiene sentido.\n",
        "- Otro error que se observa, son los valores donde años de experiencia que supera la edad del cliente"
      ]
    },
    {
      "cell_type": "code",
      "execution_count": null,
      "metadata": {
        "id": "347YMAJyhDyV",
        "outputId": "47e9450e-64aa-4896-a728-4fe0258a1038"
      },
      "outputs": [
        {
          "name": "stdout",
          "output_type": "stream",
          "text": [
            "Cantidad de valores ausentes en dob_years=\n"
          ]
        },
        {
          "data": {
            "text/plain": [
              "0"
            ]
          },
          "execution_count": 120,
          "metadata": {},
          "output_type": "execute_result"
        }
      ],
      "source": [
        "# Vamos a arreglar los valores con 0\n",
        "credit_score['dob_years'] = np.where(credit_score['dob_years']==0, np.nan, credit_score['dob_years'])\n",
        "\n",
        "# Definir la media de dob_years\n",
        "mean_dob_years = int(credit_score['dob_years'].median())\n",
        "\n",
        "#Substituir los valores ausentes en dob_years con la media\n",
        "credit_score['dob_years'].fillna(mean_dob_years, inplace = True)\n",
        "\n",
        "# Revisar si quedan valores ausentes\n",
        "print('Cantidad de valores ausentes en dob_years=')\n",
        "credit_score['dob_years'].isna().sum()"
      ]
    },
    {
      "cell_type": "code",
      "execution_count": null,
      "metadata": {
        "id": "ueLX44NbhDyV",
        "outputId": "824602d5-9c51-4504-8389-c01bc3dc0b96"
      },
      "outputs": [
        {
          "data": {
            "text/plain": [
              "count     19351.000000\n",
              "mean      66914.728907\n",
              "std      139030.880527\n",
              "min          24.141633\n",
              "25%         927.009265\n",
              "50%        2194.220567\n",
              "75%        5537.882441\n",
              "max      401755.400475\n",
              "Name: days_employed, dtype: float64"
            ]
          },
          "execution_count": 121,
          "metadata": {},
          "output_type": "execute_result"
        }
      ],
      "source": [
        "# Ahora revisando days_employed\n",
        "credit_score['days_employed'].describe()"
      ]
    },
    {
      "cell_type": "code",
      "execution_count": null,
      "metadata": {
        "id": "mocyNqjdhDyW",
        "outputId": "e038eaac-88a0-42d4-9d55-4d98715fa609"
      },
      "outputs": [
        {
          "data": {
            "text/html": [
              "<div>\n",
              "<style scoped>\n",
              "    .dataframe tbody tr th:only-of-type {\n",
              "        vertical-align: middle;\n",
              "    }\n",
              "\n",
              "    .dataframe tbody tr th {\n",
              "        vertical-align: top;\n",
              "    }\n",
              "\n",
              "    .dataframe thead th {\n",
              "        text-align: right;\n",
              "    }\n",
              "</style>\n",
              "<table border=\"1\" class=\"dataframe\">\n",
              "  <thead>\n",
              "    <tr style=\"text-align: right;\">\n",
              "      <th></th>\n",
              "      <th>children</th>\n",
              "      <th>days_employed</th>\n",
              "      <th>dob_years</th>\n",
              "      <th>education</th>\n",
              "      <th>education_id</th>\n",
              "      <th>family_status</th>\n",
              "      <th>family_status_id</th>\n",
              "      <th>gender</th>\n",
              "      <th>income_type</th>\n",
              "      <th>debt</th>\n",
              "      <th>total_income</th>\n",
              "      <th>purpose</th>\n",
              "    </tr>\n",
              "  </thead>\n",
              "  <tbody>\n",
              "    <tr>\n",
              "      <th>4</th>\n",
              "      <td>0</td>\n",
              "      <td>340266.072047</td>\n",
              "      <td>53.0</td>\n",
              "      <td>secondary education</td>\n",
              "      <td>1</td>\n",
              "      <td>civil partnership</td>\n",
              "      <td>1</td>\n",
              "      <td>F</td>\n",
              "      <td>retiree</td>\n",
              "      <td>0</td>\n",
              "      <td>25378.572</td>\n",
              "      <td>to have a wedding</td>\n",
              "    </tr>\n",
              "    <tr>\n",
              "      <th>18</th>\n",
              "      <td>0</td>\n",
              "      <td>400281.136913</td>\n",
              "      <td>53.0</td>\n",
              "      <td>secondary education</td>\n",
              "      <td>1</td>\n",
              "      <td>widow / widower</td>\n",
              "      <td>2</td>\n",
              "      <td>F</td>\n",
              "      <td>retiree</td>\n",
              "      <td>0</td>\n",
              "      <td>9091.804</td>\n",
              "      <td>buying a second-hand car</td>\n",
              "    </tr>\n",
              "    <tr>\n",
              "      <th>24</th>\n",
              "      <td>1</td>\n",
              "      <td>338551.952911</td>\n",
              "      <td>57.0</td>\n",
              "      <td>secondary education</td>\n",
              "      <td>1</td>\n",
              "      <td>unmarried</td>\n",
              "      <td>4</td>\n",
              "      <td>F</td>\n",
              "      <td>retiree</td>\n",
              "      <td>0</td>\n",
              "      <td>46487.558</td>\n",
              "      <td>transactions with commercial real estate</td>\n",
              "    </tr>\n",
              "    <tr>\n",
              "      <th>25</th>\n",
              "      <td>0</td>\n",
              "      <td>363548.489348</td>\n",
              "      <td>67.0</td>\n",
              "      <td>secondary education</td>\n",
              "      <td>1</td>\n",
              "      <td>married</td>\n",
              "      <td>0</td>\n",
              "      <td>M</td>\n",
              "      <td>retiree</td>\n",
              "      <td>0</td>\n",
              "      <td>8818.041</td>\n",
              "      <td>buy real estate</td>\n",
              "    </tr>\n",
              "    <tr>\n",
              "      <th>30</th>\n",
              "      <td>1</td>\n",
              "      <td>335581.668515</td>\n",
              "      <td>62.0</td>\n",
              "      <td>secondary education</td>\n",
              "      <td>1</td>\n",
              "      <td>married</td>\n",
              "      <td>0</td>\n",
              "      <td>F</td>\n",
              "      <td>retiree</td>\n",
              "      <td>0</td>\n",
              "      <td>27432.971</td>\n",
              "      <td>transactions with commercial real estate</td>\n",
              "    </tr>\n",
              "    <tr>\n",
              "      <th>...</th>\n",
              "      <td>...</td>\n",
              "      <td>...</td>\n",
              "      <td>...</td>\n",
              "      <td>...</td>\n",
              "      <td>...</td>\n",
              "      <td>...</td>\n",
              "      <td>...</td>\n",
              "      <td>...</td>\n",
              "      <td>...</td>\n",
              "      <td>...</td>\n",
              "      <td>...</td>\n",
              "      <td>...</td>\n",
              "    </tr>\n",
              "    <tr>\n",
              "      <th>21505</th>\n",
              "      <td>0</td>\n",
              "      <td>338904.866406</td>\n",
              "      <td>53.0</td>\n",
              "      <td>secondary education</td>\n",
              "      <td>1</td>\n",
              "      <td>civil partnership</td>\n",
              "      <td>1</td>\n",
              "      <td>M</td>\n",
              "      <td>retiree</td>\n",
              "      <td>0</td>\n",
              "      <td>12070.399</td>\n",
              "      <td>to have a wedding</td>\n",
              "    </tr>\n",
              "    <tr>\n",
              "      <th>21508</th>\n",
              "      <td>0</td>\n",
              "      <td>386497.714078</td>\n",
              "      <td>62.0</td>\n",
              "      <td>secondary education</td>\n",
              "      <td>1</td>\n",
              "      <td>married</td>\n",
              "      <td>0</td>\n",
              "      <td>M</td>\n",
              "      <td>retiree</td>\n",
              "      <td>0</td>\n",
              "      <td>11622.175</td>\n",
              "      <td>property</td>\n",
              "    </tr>\n",
              "    <tr>\n",
              "      <th>21509</th>\n",
              "      <td>0</td>\n",
              "      <td>362161.054124</td>\n",
              "      <td>59.0</td>\n",
              "      <td>bachelor's degree</td>\n",
              "      <td>0</td>\n",
              "      <td>married</td>\n",
              "      <td>0</td>\n",
              "      <td>M</td>\n",
              "      <td>retiree</td>\n",
              "      <td>0</td>\n",
              "      <td>11684.650</td>\n",
              "      <td>real estate transactions</td>\n",
              "    </tr>\n",
              "    <tr>\n",
              "      <th>21518</th>\n",
              "      <td>0</td>\n",
              "      <td>373995.710838</td>\n",
              "      <td>59.0</td>\n",
              "      <td>secondary education</td>\n",
              "      <td>1</td>\n",
              "      <td>married</td>\n",
              "      <td>0</td>\n",
              "      <td>F</td>\n",
              "      <td>retiree</td>\n",
              "      <td>0</td>\n",
              "      <td>24618.344</td>\n",
              "      <td>purchase of a car</td>\n",
              "    </tr>\n",
              "    <tr>\n",
              "      <th>21521</th>\n",
              "      <td>0</td>\n",
              "      <td>343937.404131</td>\n",
              "      <td>67.0</td>\n",
              "      <td>secondary education</td>\n",
              "      <td>1</td>\n",
              "      <td>married</td>\n",
              "      <td>0</td>\n",
              "      <td>F</td>\n",
              "      <td>retiree</td>\n",
              "      <td>0</td>\n",
              "      <td>24959.969</td>\n",
              "      <td>purchase of a car</td>\n",
              "    </tr>\n",
              "  </tbody>\n",
              "</table>\n",
              "<p>3445 rows × 12 columns</p>\n",
              "</div>"
            ],
            "text/plain": [
              "      children  days_employed  dob_years            education  education_id  \\\n",
              "4            0  340266.072047       53.0  secondary education             1   \n",
              "18           0  400281.136913       53.0  secondary education             1   \n",
              "24           1  338551.952911       57.0  secondary education             1   \n",
              "25           0  363548.489348       67.0  secondary education             1   \n",
              "30           1  335581.668515       62.0  secondary education             1   \n",
              "...        ...            ...        ...                  ...           ...   \n",
              "21505        0  338904.866406       53.0  secondary education             1   \n",
              "21508        0  386497.714078       62.0  secondary education             1   \n",
              "21509        0  362161.054124       59.0    bachelor's degree             0   \n",
              "21518        0  373995.710838       59.0  secondary education             1   \n",
              "21521        0  343937.404131       67.0  secondary education             1   \n",
              "\n",
              "           family_status  family_status_id gender income_type  debt  \\\n",
              "4      civil partnership                 1      F     retiree     0   \n",
              "18       widow / widower                 2      F     retiree     0   \n",
              "24             unmarried                 4      F     retiree     0   \n",
              "25               married                 0      M     retiree     0   \n",
              "30               married                 0      F     retiree     0   \n",
              "...                  ...               ...    ...         ...   ...   \n",
              "21505  civil partnership                 1      M     retiree     0   \n",
              "21508            married                 0      M     retiree     0   \n",
              "21509            married                 0      M     retiree     0   \n",
              "21518            married                 0      F     retiree     0   \n",
              "21521            married                 0      F     retiree     0   \n",
              "\n",
              "       total_income                                   purpose  \n",
              "4         25378.572                         to have a wedding  \n",
              "18         9091.804                  buying a second-hand car  \n",
              "24        46487.558  transactions with commercial real estate  \n",
              "25         8818.041                           buy real estate  \n",
              "30        27432.971  transactions with commercial real estate  \n",
              "...             ...                                       ...  \n",
              "21505     12070.399                         to have a wedding  \n",
              "21508     11622.175                                  property  \n",
              "21509     11684.650                  real estate transactions  \n",
              "21518     24618.344                         purchase of a car  \n",
              "21521     24959.969                         purchase of a car  \n",
              "\n",
              "[3445 rows x 12 columns]"
            ]
          },
          "metadata": {},
          "output_type": "display_data"
        },
        {
          "name": "stdout",
          "output_type": "stream",
          "text": [
            "El porcentaje de días trabajados que superan la edad del cliente es: 16.00%.\n"
          ]
        }
      ],
      "source": [
        "# vamos a encontrar que años de experiencia que supera la edad del cliente\n",
        "credit_score_dob = credit_score.loc[credit_score.loc[:,'days_employed']>(credit_score['dob_years']*365)]\n",
        "display(credit_score_dob)\n",
        "\n",
        "# Mostrando  el porcentaje de valores extremos\n",
        "perc_dob = credit_score_dob['days_employed'].shape[0] / credit_score['days_employed'].shape[0]\n",
        "print(f'El porcentaje de días trabajados que superan la edad del cliente es: {perc_dob:.2%}.')"
      ]
    },
    {
      "cell_type": "code",
      "execution_count": null,
      "metadata": {
        "scrolled": true,
        "id": "IPERSMcUhDyX",
        "outputId": "69a96ec0-3eb2-402c-aeb7-9e16d548dba0"
      },
      "outputs": [
        {
          "name": "stdout",
          "output_type": "stream",
          "text": [
            "income_type\n",
            "retiree       3443\n",
            "unemployed       2\n",
            "Name: days_employed, dtype: int64\n"
          ]
        }
      ],
      "source": [
        "# El 16% es un valor significativo, por ende analizaremos los días de trabajo que superan los días de vida\n",
        "print(credit_score_dob.groupby('income_type')['days_employed'].count())"
      ]
    },
    {
      "cell_type": "markdown",
      "metadata": {
        "id": "_owg9WaRhDyX"
      },
      "source": [
        "**Conclusión:**\n",
        "\n",
        "- Estos resultados, revela que los clientes con días trabajados que exceden sus días de vida se concentra en clientes que ya se encuentran pensionados. \n",
        "- Podemos inferir de esto, que es muy probable que empezaron a trabajar desde que eran niños, que es algo común que sucedía en el pasado. "
      ]
    },
    {
      "cell_type": "markdown",
      "metadata": {
        "id": "DxhPscfThDyY"
      },
      "source": [
        "Vamos a seguir tratando los valores donde los días trabajados es mayor a la edad del cliente. Así, los valores a reponer en días_empleados deben variar entre 3650. Como hipótesis de que una persona no puede vivir más de 100 años o 36500 días. Y que por ley, la mínima edad para empezar a trabajar es 18 años."
      ]
    },
    {
      "cell_type": "code",
      "execution_count": null,
      "metadata": {
        "id": "vtiihB_ghDyY",
        "outputId": "aacc8828-37ee-41d0-c920-d6a6ba8722cd"
      },
      "outputs": [
        {
          "data": {
            "text/plain": [
              "Series([], Name: days_employed, dtype: int64)"
            ]
          },
          "metadata": {},
          "output_type": "display_data"
        },
        {
          "data": {
            "text/html": [
              "<div>\n",
              "<style scoped>\n",
              "    .dataframe tbody tr th:only-of-type {\n",
              "        vertical-align: middle;\n",
              "    }\n",
              "\n",
              "    .dataframe tbody tr th {\n",
              "        vertical-align: top;\n",
              "    }\n",
              "\n",
              "    .dataframe thead th {\n",
              "        text-align: right;\n",
              "    }\n",
              "</style>\n",
              "<table border=\"1\" class=\"dataframe\">\n",
              "  <thead>\n",
              "    <tr style=\"text-align: right;\">\n",
              "      <th></th>\n",
              "      <th>children</th>\n",
              "      <th>days_employed</th>\n",
              "      <th>dob_years</th>\n",
              "      <th>education</th>\n",
              "      <th>education_id</th>\n",
              "      <th>family_status</th>\n",
              "      <th>family_status_id</th>\n",
              "      <th>gender</th>\n",
              "      <th>income_type</th>\n",
              "      <th>debt</th>\n",
              "      <th>total_income</th>\n",
              "      <th>purpose</th>\n",
              "    </tr>\n",
              "  </thead>\n",
              "  <tbody>\n",
              "    <tr>\n",
              "      <th>2557</th>\n",
              "      <td>0</td>\n",
              "      <td>20440.0</td>\n",
              "      <td>74.0</td>\n",
              "      <td>secondary education</td>\n",
              "      <td>1</td>\n",
              "      <td>married</td>\n",
              "      <td>0</td>\n",
              "      <td>F</td>\n",
              "      <td>retiree</td>\n",
              "      <td>0</td>\n",
              "      <td>6868.368</td>\n",
              "      <td>cars</td>\n",
              "    </tr>\n",
              "    <tr>\n",
              "      <th>3460</th>\n",
              "      <td>0</td>\n",
              "      <td>20440.0</td>\n",
              "      <td>74.0</td>\n",
              "      <td>secondary education</td>\n",
              "      <td>1</td>\n",
              "      <td>married</td>\n",
              "      <td>0</td>\n",
              "      <td>M</td>\n",
              "      <td>retiree</td>\n",
              "      <td>0</td>\n",
              "      <td>8760.759</td>\n",
              "      <td>transactions with my real estate</td>\n",
              "    </tr>\n",
              "    <tr>\n",
              "      <th>4895</th>\n",
              "      <td>0</td>\n",
              "      <td>20440.0</td>\n",
              "      <td>74.0</td>\n",
              "      <td>bachelor's degree</td>\n",
              "      <td>0</td>\n",
              "      <td>married</td>\n",
              "      <td>0</td>\n",
              "      <td>F</td>\n",
              "      <td>retiree</td>\n",
              "      <td>0</td>\n",
              "      <td>21589.657</td>\n",
              "      <td>purchase of my own house</td>\n",
              "    </tr>\n",
              "    <tr>\n",
              "      <th>19642</th>\n",
              "      <td>0</td>\n",
              "      <td>20440.0</td>\n",
              "      <td>74.0</td>\n",
              "      <td>secondary education</td>\n",
              "      <td>1</td>\n",
              "      <td>widow / widower</td>\n",
              "      <td>2</td>\n",
              "      <td>F</td>\n",
              "      <td>retiree</td>\n",
              "      <td>0</td>\n",
              "      <td>7214.327</td>\n",
              "      <td>car purchase</td>\n",
              "    </tr>\n",
              "  </tbody>\n",
              "</table>\n",
              "</div>"
            ],
            "text/plain": [
              "      children  days_employed  dob_years            education  education_id  \\\n",
              "2557         0        20440.0       74.0  secondary education             1   \n",
              "3460         0        20440.0       74.0  secondary education             1   \n",
              "4895         0        20440.0       74.0    bachelor's degree             0   \n",
              "19642        0        20440.0       74.0  secondary education             1   \n",
              "\n",
              "         family_status  family_status_id gender income_type  debt  \\\n",
              "2557           married                 0      F     retiree     0   \n",
              "3460           married                 0      M     retiree     0   \n",
              "4895           married                 0      F     retiree     0   \n",
              "19642  widow / widower                 2      F     retiree     0   \n",
              "\n",
              "       total_income                           purpose  \n",
              "2557       6868.368                              cars  \n",
              "3460       8760.759  transactions with my real estate  \n",
              "4895      21589.657          purchase of my own house  \n",
              "19642      7214.327                      car purchase  "
            ]
          },
          "execution_count": 124,
          "metadata": {},
          "output_type": "execute_result"
        }
      ],
      "source": [
        "def new_days_employed(row):\n",
        "    if row['income_type']=='retiree' or row['income_type']=='unemployed':\n",
        "        max_day = (row['dob_years']*365-(18*365)) \n",
        "        return max_day\n",
        "    else:\n",
        "        return row['days_employed']\n",
        "\n",
        "# Aplicar la función a mi dataframe\n",
        "credit_score['days_employed'] = credit_score.apply(new_days_employed, axis = 1)\n",
        "\n",
        "# Verificar si aún hay años de experiencia que supera la edad del cliente\n",
        "credit_score_dob = credit_score.loc[credit_score.loc[:,'days_employed']>(credit_score['dob_years']*365)]\n",
        "display(credit_score_dob.groupby('income_type')['days_employed'].count())\n",
        "\n",
        "# Ahora veamos los valores de la columna\n",
        "credit_score['days_employed'].describe()\n",
        "credit_score.loc[credit_score[\"days_employed\"] == credit_score[\"days_employed\"].max()]"
      ]
    },
    {
      "cell_type": "markdown",
      "metadata": {
        "id": "fPgq6ozShDyZ"
      },
      "source": [
        "**Conclusión:**\n",
        "Hemos revelando, que un cliente con 74 años de edad, tiene 56 años de experiencia. "
      ]
    },
    {
      "cell_type": "code",
      "execution_count": null,
      "metadata": {
        "id": "3UvDwT-FhDyZ",
        "outputId": "0d1ca6f2-e5fc-45c4-8c3a-cf87f8a98283"
      },
      "outputs": [
        {
          "data": {
            "text/plain": [
              "married              12380\n",
              "civil partnership     4177\n",
              "unmarried             2813\n",
              "divorced              1195\n",
              "widow / widower        960\n",
              "Name: family_status, dtype: int64"
            ]
          },
          "execution_count": 125,
          "metadata": {},
          "output_type": "execute_result"
        }
      ],
      "source": [
        "# Ahora revisemos los datos de la categoría 'family_status'\n",
        "credit_score['family_status'].value_counts()"
      ]
    },
    {
      "cell_type": "markdown",
      "metadata": {
        "id": "23-Ityd6hDyZ"
      },
      "source": [
        "**Observaciones:**\n",
        "- Los datos parecen no presentan errores grámaticales.\n",
        "- Se podría unificar la sub-categoría 'married' y 'civi partnership' ya que el matrimonio y la unión civil comparten los mismos derechos de propiedad, prestaciones de pensión y la posibilidad de obtener la patria potestad de un hijo. Sin embargo, no se hace evidente tener que hacer esta restructuración en esta categoría, por ende la dejaremos como esta."
      ]
    },
    {
      "cell_type": "code",
      "execution_count": null,
      "metadata": {
        "id": "yG2cy-VyhDya",
        "outputId": "6473115a-02ba-4cd2-f31a-ce3cdb85aa5a"
      },
      "outputs": [
        {
          "data": {
            "text/plain": [
              "array(['F', 'M', 'XNA'], dtype=object)"
            ]
          },
          "execution_count": 126,
          "metadata": {},
          "output_type": "execute_result"
        }
      ],
      "source": [
        "# Veamos los valores en la columna\n",
        "credit_score['gender'].unique()"
      ]
    },
    {
      "cell_type": "markdown",
      "metadata": {
        "id": "Cg0VtIFahDya"
      },
      "source": [
        "**Observaciones:**\n",
        "- Solo hay un valor atípico, sin indicación de género. En este caso, consideraremos una persona transexual que no quizo encacillarse en ninguno de los géneros, lo llamaremos 'Non-binary'."
      ]
    },
    {
      "cell_type": "code",
      "execution_count": null,
      "metadata": {
        "id": "GzEJqaO0hDya",
        "outputId": "a2e5f3cf-029e-4211-f5b0-fb6df5deaae3"
      },
      "outputs": [
        {
          "data": {
            "text/plain": [
              "array(['F', 'M', 'non-binary'], dtype=object)"
            ]
          },
          "execution_count": 127,
          "metadata": {},
          "output_type": "execute_result"
        }
      ],
      "source": [
        "# Aborda los valores problemáticos, si existen\n",
        "credit_score['gender'] = credit_score['gender'].replace(['XNA'], 'non-binary')\n",
        "# Comprobar los valores en la columna\n",
        "credit_score['gender'].unique()"
      ]
    },
    {
      "cell_type": "markdown",
      "metadata": {
        "id": "3CqM1dSrhDyb"
      },
      "source": [
        "# 2.1 Comprobar el resultado de los datos tratados"
      ]
    },
    {
      "cell_type": "code",
      "execution_count": null,
      "metadata": {
        "id": "CZpx7FdehDyb",
        "outputId": "50b43f9b-ddd6-4c0d-a255-8b532d17b5c3"
      },
      "outputs": [
        {
          "data": {
            "text/plain": [
              "array(['employee', 'retiree', 'business', 'civil servant', 'unemployed',\n",
              "       'entrepreneur', 'student', 'paternity / maternity leave'],\n",
              "      dtype=object)"
            ]
          },
          "execution_count": 128,
          "metadata": {},
          "output_type": "execute_result"
        }
      ],
      "source": [
        "# Ahora vamos a revisar la columna income_type\n",
        "credit_score['income_type'].unique()"
      ]
    },
    {
      "cell_type": "code",
      "execution_count": null,
      "metadata": {
        "scrolled": true,
        "id": "Jf85VeJyhDyb",
        "outputId": "bfb4ccb8-ec58-4eb6-a106-b15186b8bcfb"
      },
      "outputs": [
        {
          "data": {
            "text/plain": [
              "employee                       11119\n",
              "business                        5085\n",
              "retiree                         3856\n",
              "civil servant                   1459\n",
              "unemployed                         2\n",
              "entrepreneur                       2\n",
              "paternity / maternity leave        1\n",
              "student                            1\n",
              "Name: income_type, dtype: int64"
            ]
          },
          "execution_count": 129,
          "metadata": {},
          "output_type": "execute_result"
        }
      ],
      "source": [
        "credit_score['income_type'].value_counts()"
      ]
    },
    {
      "cell_type": "markdown",
      "metadata": {
        "id": "DfbWWmRPhDyb"
      },
      "source": [
        "**Observaciones:**\n",
        "- Los datos parecen no presentan errores grámaticales.\n",
        "- Observamos la existencia de duplicados, ya que 'business' y ''entrepreneur' representan a clientes con empresa y empresarios, respectivamente. Consolidaremos este valor.\n",
        "- Aquí podríamos agrupar las categorías con frecuencia menor o igual a 2 en una nueva categoría 'other'."
      ]
    },
    {
      "cell_type": "code",
      "execution_count": null,
      "metadata": {
        "id": "uZdvgmMihDyb"
      },
      "outputs": [],
      "source": [
        "credit_score['income_type'] = credit_score['income_type'].replace(['unemployed', 'student', 'education', 'paternity / maternity leave'], 'other')"
      ]
    },
    {
      "cell_type": "code",
      "execution_count": null,
      "metadata": {
        "id": "5x1WB05vhDyc"
      },
      "outputs": [],
      "source": [
        "# Aborda los valores problemáticos, si existen\n",
        "# Agrupar business y entrepreneur\n",
        "credit_score['income_type'] = np.where(credit_score['income_type']=='business','entrepreneur', credit_score['income_type'])"
      ]
    },
    {
      "cell_type": "code",
      "execution_count": null,
      "metadata": {
        "id": "GZJ4yvqHhDyc",
        "outputId": "9b846f4e-b341-45a9-a025-423b9ce8abfd"
      },
      "outputs": [
        {
          "data": {
            "text/plain": [
              "employee         11119\n",
              "entrepreneur      5087\n",
              "retiree           3856\n",
              "civil servant     1459\n",
              "other                4\n",
              "Name: income_type, dtype: int64"
            ]
          },
          "execution_count": 132,
          "metadata": {},
          "output_type": "execute_result"
        }
      ],
      "source": [
        "# Comprueba el resultado - asegúrate de que esté arreglado\n",
        "credit_score['income_type'].value_counts()"
      ]
    },
    {
      "cell_type": "code",
      "execution_count": null,
      "metadata": {
        "id": "FKjdlSAWhDyc",
        "outputId": "35933597-b3f2-456f-9b29-3af7d810dd6f"
      },
      "outputs": [
        {
          "data": {
            "text/html": [
              "<div>\n",
              "<style scoped>\n",
              "    .dataframe tbody tr th:only-of-type {\n",
              "        vertical-align: middle;\n",
              "    }\n",
              "\n",
              "    .dataframe tbody tr th {\n",
              "        vertical-align: top;\n",
              "    }\n",
              "\n",
              "    .dataframe thead th {\n",
              "        text-align: right;\n",
              "    }\n",
              "</style>\n",
              "<table border=\"1\" class=\"dataframe\">\n",
              "  <thead>\n",
              "    <tr style=\"text-align: right;\">\n",
              "      <th></th>\n",
              "      <th>children</th>\n",
              "      <th>days_employed</th>\n",
              "      <th>dob_years</th>\n",
              "      <th>education</th>\n",
              "      <th>education_id</th>\n",
              "      <th>family_status</th>\n",
              "      <th>family_status_id</th>\n",
              "      <th>gender</th>\n",
              "      <th>income_type</th>\n",
              "      <th>debt</th>\n",
              "      <th>total_income</th>\n",
              "      <th>purpose</th>\n",
              "    </tr>\n",
              "  </thead>\n",
              "  <tbody>\n",
              "    <tr>\n",
              "      <th>2849</th>\n",
              "      <td>0</td>\n",
              "      <td>NaN</td>\n",
              "      <td>41.0</td>\n",
              "      <td>secondary education</td>\n",
              "      <td>1</td>\n",
              "      <td>married</td>\n",
              "      <td>0</td>\n",
              "      <td>F</td>\n",
              "      <td>employee</td>\n",
              "      <td>0</td>\n",
              "      <td>NaN</td>\n",
              "      <td>purchase of the house for my family</td>\n",
              "    </tr>\n",
              "    <tr>\n",
              "      <th>3290</th>\n",
              "      <td>0</td>\n",
              "      <td>14600.0</td>\n",
              "      <td>58.0</td>\n",
              "      <td>secondary education</td>\n",
              "      <td>1</td>\n",
              "      <td>civil partnership</td>\n",
              "      <td>1</td>\n",
              "      <td>F</td>\n",
              "      <td>retiree</td>\n",
              "      <td>0</td>\n",
              "      <td>NaN</td>\n",
              "      <td>to have a wedding</td>\n",
              "    </tr>\n",
              "    <tr>\n",
              "      <th>4182</th>\n",
              "      <td>1</td>\n",
              "      <td>NaN</td>\n",
              "      <td>34.0</td>\n",
              "      <td>bachelor's degree</td>\n",
              "      <td>0</td>\n",
              "      <td>civil partnership</td>\n",
              "      <td>1</td>\n",
              "      <td>F</td>\n",
              "      <td>employee</td>\n",
              "      <td>0</td>\n",
              "      <td>NaN</td>\n",
              "      <td>wedding ceremony</td>\n",
              "    </tr>\n",
              "    <tr>\n",
              "      <th>4851</th>\n",
              "      <td>0</td>\n",
              "      <td>15330.0</td>\n",
              "      <td>60.0</td>\n",
              "      <td>secondary education</td>\n",
              "      <td>1</td>\n",
              "      <td>civil partnership</td>\n",
              "      <td>1</td>\n",
              "      <td>F</td>\n",
              "      <td>retiree</td>\n",
              "      <td>0</td>\n",
              "      <td>NaN</td>\n",
              "      <td>wedding ceremony</td>\n",
              "    </tr>\n",
              "    <tr>\n",
              "      <th>5557</th>\n",
              "      <td>0</td>\n",
              "      <td>14600.0</td>\n",
              "      <td>58.0</td>\n",
              "      <td>secondary education</td>\n",
              "      <td>1</td>\n",
              "      <td>civil partnership</td>\n",
              "      <td>1</td>\n",
              "      <td>F</td>\n",
              "      <td>retiree</td>\n",
              "      <td>0</td>\n",
              "      <td>NaN</td>\n",
              "      <td>to have a wedding</td>\n",
              "    </tr>\n",
              "    <tr>\n",
              "      <th>...</th>\n",
              "      <td>...</td>\n",
              "      <td>...</td>\n",
              "      <td>...</td>\n",
              "      <td>...</td>\n",
              "      <td>...</td>\n",
              "      <td>...</td>\n",
              "      <td>...</td>\n",
              "      <td>...</td>\n",
              "      <td>...</td>\n",
              "      <td>...</td>\n",
              "      <td>...</td>\n",
              "      <td>...</td>\n",
              "    </tr>\n",
              "    <tr>\n",
              "      <th>20702</th>\n",
              "      <td>0</td>\n",
              "      <td>16790.0</td>\n",
              "      <td>64.0</td>\n",
              "      <td>secondary education</td>\n",
              "      <td>1</td>\n",
              "      <td>married</td>\n",
              "      <td>0</td>\n",
              "      <td>F</td>\n",
              "      <td>retiree</td>\n",
              "      <td>0</td>\n",
              "      <td>NaN</td>\n",
              "      <td>supplementary education</td>\n",
              "    </tr>\n",
              "    <tr>\n",
              "      <th>21032</th>\n",
              "      <td>0</td>\n",
              "      <td>15330.0</td>\n",
              "      <td>60.0</td>\n",
              "      <td>secondary education</td>\n",
              "      <td>1</td>\n",
              "      <td>married</td>\n",
              "      <td>0</td>\n",
              "      <td>F</td>\n",
              "      <td>retiree</td>\n",
              "      <td>0</td>\n",
              "      <td>NaN</td>\n",
              "      <td>to become educated</td>\n",
              "    </tr>\n",
              "    <tr>\n",
              "      <th>21132</th>\n",
              "      <td>0</td>\n",
              "      <td>NaN</td>\n",
              "      <td>47.0</td>\n",
              "      <td>secondary education</td>\n",
              "      <td>1</td>\n",
              "      <td>married</td>\n",
              "      <td>0</td>\n",
              "      <td>F</td>\n",
              "      <td>employee</td>\n",
              "      <td>0</td>\n",
              "      <td>NaN</td>\n",
              "      <td>housing renovation</td>\n",
              "    </tr>\n",
              "    <tr>\n",
              "      <th>21281</th>\n",
              "      <td>1</td>\n",
              "      <td>NaN</td>\n",
              "      <td>30.0</td>\n",
              "      <td>bachelor's degree</td>\n",
              "      <td>0</td>\n",
              "      <td>married</td>\n",
              "      <td>0</td>\n",
              "      <td>F</td>\n",
              "      <td>employee</td>\n",
              "      <td>0</td>\n",
              "      <td>NaN</td>\n",
              "      <td>buy commercial real estate</td>\n",
              "    </tr>\n",
              "    <tr>\n",
              "      <th>21415</th>\n",
              "      <td>0</td>\n",
              "      <td>13140.0</td>\n",
              "      <td>54.0</td>\n",
              "      <td>secondary education</td>\n",
              "      <td>1</td>\n",
              "      <td>married</td>\n",
              "      <td>0</td>\n",
              "      <td>F</td>\n",
              "      <td>retiree</td>\n",
              "      <td>0</td>\n",
              "      <td>NaN</td>\n",
              "      <td>housing transactions</td>\n",
              "    </tr>\n",
              "  </tbody>\n",
              "</table>\n",
              "<p>71 rows × 12 columns</p>\n",
              "</div>"
            ],
            "text/plain": [
              "      children  days_employed  dob_years            education  education_id  \\\n",
              "2849         0            NaN       41.0  secondary education             1   \n",
              "3290         0        14600.0       58.0  secondary education             1   \n",
              "4182         1            NaN       34.0    bachelor's degree             0   \n",
              "4851         0        15330.0       60.0  secondary education             1   \n",
              "5557         0        14600.0       58.0  secondary education             1   \n",
              "...        ...            ...        ...                  ...           ...   \n",
              "20702        0        16790.0       64.0  secondary education             1   \n",
              "21032        0        15330.0       60.0  secondary education             1   \n",
              "21132        0            NaN       47.0  secondary education             1   \n",
              "21281        1            NaN       30.0    bachelor's degree             0   \n",
              "21415        0        13140.0       54.0  secondary education             1   \n",
              "\n",
              "           family_status  family_status_id gender income_type  debt  \\\n",
              "2849             married                 0      F    employee     0   \n",
              "3290   civil partnership                 1      F     retiree     0   \n",
              "4182   civil partnership                 1      F    employee     0   \n",
              "4851   civil partnership                 1      F     retiree     0   \n",
              "5557   civil partnership                 1      F     retiree     0   \n",
              "...                  ...               ...    ...         ...   ...   \n",
              "20702            married                 0      F     retiree     0   \n",
              "21032            married                 0      F     retiree     0   \n",
              "21132            married                 0      F    employee     0   \n",
              "21281            married                 0      F    employee     0   \n",
              "21415            married                 0      F     retiree     0   \n",
              "\n",
              "       total_income                              purpose  \n",
              "2849            NaN  purchase of the house for my family  \n",
              "3290            NaN                    to have a wedding  \n",
              "4182            NaN                     wedding ceremony  \n",
              "4851            NaN                     wedding ceremony  \n",
              "5557            NaN                    to have a wedding  \n",
              "...             ...                                  ...  \n",
              "20702           NaN              supplementary education  \n",
              "21032           NaN                   to become educated  \n",
              "21132           NaN                   housing renovation  \n",
              "21281           NaN           buy commercial real estate  \n",
              "21415           NaN                 housing transactions  \n",
              "\n",
              "[71 rows x 12 columns]"
            ]
          },
          "metadata": {},
          "output_type": "display_data"
        }
      ],
      "source": [
        "# Comprobar los duplicados\n",
        "display(credit_score[credit_score.duplicated()])"
      ]
    },
    {
      "cell_type": "code",
      "execution_count": null,
      "metadata": {
        "id": "40xcpP0ZhDyc",
        "outputId": "00dff149-06c4-4057-c64d-0ba47aa17622"
      },
      "outputs": [
        {
          "name": "stdout",
          "output_type": "stream",
          "text": [
            "<class 'pandas.core.frame.DataFrame'>\n",
            "RangeIndex: 21525 entries, 0 to 21524\n",
            "Data columns (total 12 columns):\n",
            " #   Column            Non-Null Count  Dtype  \n",
            "---  ------            --------------  -----  \n",
            " 0   children          21525 non-null  object \n",
            " 1   days_employed     19764 non-null  float64\n",
            " 2   dob_years         21525 non-null  float64\n",
            " 3   education         21525 non-null  object \n",
            " 4   education_id      21525 non-null  int64  \n",
            " 5   family_status     21525 non-null  object \n",
            " 6   family_status_id  21525 non-null  int64  \n",
            " 7   gender            21525 non-null  object \n",
            " 8   income_type       21525 non-null  object \n",
            " 9   debt              21525 non-null  int64  \n",
            " 10  total_income      19351 non-null  float64\n",
            " 11  purpose           21525 non-null  object \n",
            "dtypes: float64(3), int64(3), object(6)\n",
            "memory usage: 2.0+ MB\n"
          ]
        }
      ],
      "source": [
        "# Comprueba el tamaño del conjunto de datos que tienes ahora, después de haber ejecutado estas primeras manipulaciones\n",
        "credit_score.info()"
      ]
    },
    {
      "cell_type": "code",
      "execution_count": null,
      "metadata": {
        "id": "YZINrdnIhDyd",
        "outputId": "bd71f41e-1e5e-4b6a-bc69-ff1b110e0fde"
      },
      "outputs": [
        {
          "data": {
            "text/plain": [
              "wedding ceremony                            797\n",
              "having a wedding                            777\n",
              "to have a wedding                           774\n",
              "real estate transactions                    676\n",
              "buy commercial real estate                  664\n",
              "buying property for renting out             653\n",
              "housing transactions                        653\n",
              "transactions with commercial real estate    651\n",
              "housing                                     647\n",
              "purchase of the house                       647\n",
              "purchase of the house for my family         641\n",
              "construction of own property                635\n",
              "property                                    634\n",
              "transactions with my real estate            630\n",
              "building a real estate                      626\n",
              "buy real estate                             624\n",
              "building a property                         620\n",
              "purchase of my own house                    620\n",
              "housing renovation                          612\n",
              "buy residential real estate                 607\n",
              "buying my own car                           505\n",
              "going to university                         496\n",
              "car                                         495\n",
              "second-hand car purchase                    489\n",
              "to own a car                                480\n",
              "buying a second-hand car                    479\n",
              "cars                                        478\n",
              "to buy a car                                472\n",
              "supplementary education                     462\n",
              "car purchase                                462\n",
              "purchase of a car                           455\n",
              "university education                        453\n",
              "education                                   447\n",
              "to get a supplementary education            447\n",
              "getting an education                        443\n",
              "profile education                           436\n",
              "getting higher education                    426\n",
              "to become educated                          412\n",
              "Name: purpose, dtype: int64"
            ]
          },
          "execution_count": 135,
          "metadata": {},
          "output_type": "execute_result"
        }
      ],
      "source": [
        "# Aborda los duplicados, si existen\n",
        "credit_score['purpose'].value_counts().sort_values(ascending=False)"
      ]
    },
    {
      "cell_type": "markdown",
      "metadata": {
        "id": "lIE-4zcQhDyd"
      },
      "source": [
        "**Observaciones:**\n",
        "- Podemos ver que existen multiples respuestas en la columna 'purpose' que podemos consolidar y reducir en cantidad."
      ]
    },
    {
      "cell_type": "code",
      "execution_count": null,
      "metadata": {
        "id": "JYxQ_jrYhDyd"
      },
      "outputs": [],
      "source": [
        "def cat_purpose(row):\n",
        "    purpose = row['purpose']\n",
        "    if any(keyword in purpose for keyword in ['hous', 'estate', 'home', 'proper', 'real']):\n",
        "        return 'real_estate'\n",
        "    elif 'car' in purpose:\n",
        "        return 'car'\n",
        "    elif 'wedding' in purpose:\n",
        "        return 'wedding'\n",
        "    else:\n",
        "        return 'education'\n",
        "\n",
        "credit_score['cat_purpose'] = credit_score.apply(cat_purpose, axis=1)"
      ]
    },
    {
      "cell_type": "code",
      "execution_count": null,
      "metadata": {
        "id": "ZvhoXtPshDyd",
        "outputId": "4ade9e89-9beb-4002-96c7-c302c3f3450b"
      },
      "outputs": [
        {
          "data": {
            "text/plain": [
              "wedding         2348\n",
              "education       4022\n",
              "car             4315\n",
              "real_estate    10840\n",
              "Name: cat_purpose, dtype: int64"
            ]
          },
          "execution_count": 137,
          "metadata": {},
          "output_type": "execute_result"
        }
      ],
      "source": [
        "# Última comprobación para ver si tenemos duplicados\n",
        "credit_score['cat_purpose'].value_counts().sort_values(ascending=True)"
      ]
    },
    {
      "cell_type": "code",
      "execution_count": null,
      "metadata": {
        "id": "x3oaovGRhDye",
        "outputId": "ffb15cb5-c085-4908-a480-294eea5dcf59"
      },
      "outputs": [
        {
          "name": "stdout",
          "output_type": "stream",
          "text": [
            "Porcentaje de valores ausentes originalmente: 10.1\n",
            "vs\n",
            "Nuevo Porcentaje de valores ausentes después de tratarlos: 8.2\n"
          ]
        }
      ],
      "source": [
        "# Calculando el porcentaje de cambios logrados después de tratar los valores duplicados\n",
        "print(f'Porcentaje de valores ausentes originalmente:', percentage_missing_values.round(1))\n",
        "\n",
        "print('vs')\n",
        "\n",
        "total_missing = credit_score['days_employed'].isna().sum()\n",
        "new_percentage= (total_missing/len(credit_score)) *100\n",
        "print(f'Nuevo Porcentaje de valores ausentes después de tratarlos:', new_percentage.round(1))\n"
      ]
    },
    {
      "cell_type": "markdown",
      "metadata": {
        "id": "JNd8YFJUhDye"
      },
      "source": [
        "# 2.2 Conclusión intermedia:\n",
        "- Tras los primeros tratamientos sobre los datos, tenemos un DataFrame que aún presenta valores ausentes, que será tratado más adelante. \n",
        "- Las variables days_employed y total_income todavía tienen valores ausentes y son de tipo flotante, debemos cambiar el tipo de datos a enteros también. \n",
        "- Los cambios realizados no alcanzan el 2% del total de datos. Lo que nos ayuda a concluir que el problema no eran los valores duplicados, sino nuestro mayor problema a tratar son los valores ausentes."
      ]
    },
    {
      "cell_type": "markdown",
      "metadata": {
        "id": "3bPj0tNJhDye"
      },
      "source": [
        "# Etapa 3. Trabajar con valores ausentes"
      ]
    },
    {
      "cell_type": "code",
      "execution_count": null,
      "metadata": {
        "id": "QX_9zqR6hDye",
        "outputId": "732ab8b2-38ed-4a41-d0cd-54e18563951c"
      },
      "outputs": [
        {
          "data": {
            "text/plain": [
              "{0: \"bachelor's degree\",\n",
              " 1: 'secondary education',\n",
              " 2: 'some college',\n",
              " 3: 'primary education',\n",
              " 4: 'graduate degree'}"
            ]
          },
          "execution_count": 139,
          "metadata": {},
          "output_type": "execute_result"
        }
      ],
      "source": [
        "# Encuentra los diccionarios\n",
        "\n",
        "# Diccionario de educación\n",
        "# Opción 1: credit_score[['education_id', 'education']].value_counts()\n",
        "\n",
        "credit_score.set_index('education_id')['education'].to_dict()"
      ]
    },
    {
      "cell_type": "code",
      "execution_count": null,
      "metadata": {
        "id": "mrHPWeekhDye",
        "outputId": "725eb7bc-ebd5-4b01-d8c4-b7da4c1c7c1e"
      },
      "outputs": [
        {
          "data": {
            "text/plain": [
              "{0: 'married',\n",
              " 1: 'civil partnership',\n",
              " 2: 'widow / widower',\n",
              " 3: 'divorced',\n",
              " 4: 'unmarried'}"
            ]
          },
          "execution_count": 140,
          "metadata": {},
          "output_type": "execute_result"
        }
      ],
      "source": [
        "# Diccionario de estado civil\n",
        "# Opción 1: credit_score[['family_status_id', 'family_status']].value_counts()\n",
        "\n",
        "credit_score.set_index('family_status_id')['family_status'].to_dict()"
      ]
    },
    {
      "cell_type": "markdown",
      "metadata": {
        "id": "HaGtx-L6hDyf"
      },
      "source": [
        "Categorías por edad propuesta:\n",
        "- niños: clientes de 0 a 14 años.\n",
        "- jóvenes: clientes de 15 a 24 años.\n",
        "- adultos: clientes de 25 a 64 años.\n",
        "- abuelos: clientes mayores de 65 años.\n"
      ]
    },
    {
      "cell_type": "code",
      "execution_count": null,
      "metadata": {
        "id": "6HcddA5xhDyf"
      },
      "outputs": [],
      "source": [
        "# Vamos a escribir una función que calcule la categoría de edad\n",
        "\n",
        "def age_group(age):\n",
        "    if age < 15:\n",
        "        return 'niños'\n",
        "    elif (age > 14) and (age < 25):\n",
        "        return 'jóvenes'\n",
        "    elif (age > 24) and (age < 65):\n",
        "        return 'adultos'\n",
        "    else:\n",
        "        return 'abuelos'    "
      ]
    },
    {
      "cell_type": "code",
      "execution_count": null,
      "metadata": {
        "scrolled": true,
        "id": "veo6x6luhDyf",
        "outputId": "38b64e05-a812-460e-ff34-6afdc042d0a7"
      },
      "outputs": [
        {
          "name": "stdout",
          "output_type": "stream",
          "text": [
            "niños\n",
            "jóvenes\n",
            "adultos\n",
            "abuelos\n"
          ]
        }
      ],
      "source": [
        "# Prueba si la función funciona bien\n",
        "print(age_group(2))\n",
        "print(age_group(23))\n",
        "print(age_group(36))\n",
        "print(age_group(82))"
      ]
    },
    {
      "cell_type": "code",
      "execution_count": null,
      "metadata": {
        "id": "S2-xY3ZvhDyf"
      },
      "outputs": [],
      "source": [
        "# Crear una nueva columna basada en la función\n",
        "credit_score['age_group'] = credit_score['dob_years'].apply(age_group)"
      ]
    },
    {
      "cell_type": "code",
      "execution_count": null,
      "metadata": {
        "id": "JMGmGzkAhDyg",
        "outputId": "480983b9-dff1-4a42-e1e3-0161e07d5d74"
      },
      "outputs": [
        {
          "data": {
            "text/plain": [
              "age_group  dob_years\n",
              "abuelos    65.0         194\n",
              "           66.0         183\n",
              "           67.0         167\n",
              "           68.0          99\n",
              "           69.0          85\n",
              "           70.0          65\n",
              "           71.0          58\n",
              "           72.0          33\n",
              "           73.0           8\n",
              "           74.0           6\n",
              "           75.0           1\n",
              "adultos    35.0         617\n",
              "           43.0         614\n",
              "           40.0         609\n",
              "           41.0         607\n",
              "           34.0         603\n",
              "           38.0         598\n",
              "           42.0         597\n",
              "           33.0         581\n",
              "           39.0         573\n",
              "           31.0         560\n",
              "           36.0         555\n",
              "           44.0         547\n",
              "           29.0         545\n",
              "           30.0         540\n",
              "           48.0         538\n",
              "           37.0         537\n",
              "           50.0         514\n",
              "           32.0         510\n",
              "           49.0         508\n",
              "           28.0         503\n",
              "           45.0         497\n",
              "           27.0         493\n",
              "           56.0         487\n",
              "           52.0         484\n",
              "           47.0         480\n",
              "           54.0         479\n",
              "           46.0         475\n",
              "           58.0         461\n",
              "           57.0         460\n",
              "           53.0         459\n",
              "           51.0         448\n",
              "           59.0         444\n",
              "           55.0         443\n",
              "           26.0         408\n",
              "           60.0         377\n",
              "           25.0         357\n",
              "           61.0         355\n",
              "           62.0         352\n",
              "           63.0         269\n",
              "           64.0         265\n",
              "jóvenes    24.0         264\n",
              "           23.0         254\n",
              "           22.0         183\n",
              "           21.0         111\n",
              "           20.0          51\n",
              "           19.0          14\n",
              "Name: dob_years, dtype: int64"
            ]
          },
          "execution_count": 144,
          "metadata": {},
          "output_type": "execute_result"
        }
      ],
      "source": [
        "# Comprobar cómo los valores en la nueva columna\n",
        "credit_score.groupby('age_group')['dob_years'].value_counts()\n"
      ]
    },
    {
      "cell_type": "code",
      "execution_count": null,
      "metadata": {
        "id": "8tSgTKM-hDyg",
        "outputId": "a6bfdadf-7779-40e8-ad43-8bf4a28bac48"
      },
      "outputs": [
        {
          "data": {
            "text/html": [
              "<div>\n",
              "<style scoped>\n",
              "    .dataframe tbody tr th:only-of-type {\n",
              "        vertical-align: middle;\n",
              "    }\n",
              "\n",
              "    .dataframe tbody tr th {\n",
              "        vertical-align: top;\n",
              "    }\n",
              "\n",
              "    .dataframe thead th {\n",
              "        text-align: right;\n",
              "    }\n",
              "</style>\n",
              "<table border=\"1\" class=\"dataframe\">\n",
              "  <thead>\n",
              "    <tr style=\"text-align: right;\">\n",
              "      <th></th>\n",
              "      <th>children</th>\n",
              "      <th>days_employed</th>\n",
              "      <th>dob_years</th>\n",
              "      <th>education</th>\n",
              "      <th>education_id</th>\n",
              "      <th>family_status</th>\n",
              "      <th>family_status_id</th>\n",
              "      <th>gender</th>\n",
              "      <th>income_type</th>\n",
              "      <th>debt</th>\n",
              "      <th>total_income</th>\n",
              "      <th>purpose</th>\n",
              "      <th>cat_purpose</th>\n",
              "      <th>age_group</th>\n",
              "    </tr>\n",
              "  </thead>\n",
              "  <tbody>\n",
              "    <tr>\n",
              "      <th>0</th>\n",
              "      <td>1</td>\n",
              "      <td>8437.673028</td>\n",
              "      <td>42.0</td>\n",
              "      <td>bachelor's degree</td>\n",
              "      <td>0</td>\n",
              "      <td>married</td>\n",
              "      <td>0</td>\n",
              "      <td>F</td>\n",
              "      <td>employee</td>\n",
              "      <td>0</td>\n",
              "      <td>40620.102</td>\n",
              "      <td>purchase of the house</td>\n",
              "      <td>real_estate</td>\n",
              "      <td>adultos</td>\n",
              "    </tr>\n",
              "    <tr>\n",
              "      <th>1</th>\n",
              "      <td>1</td>\n",
              "      <td>4024.803754</td>\n",
              "      <td>36.0</td>\n",
              "      <td>secondary education</td>\n",
              "      <td>1</td>\n",
              "      <td>married</td>\n",
              "      <td>0</td>\n",
              "      <td>F</td>\n",
              "      <td>employee</td>\n",
              "      <td>0</td>\n",
              "      <td>17932.802</td>\n",
              "      <td>car purchase</td>\n",
              "      <td>car</td>\n",
              "      <td>adultos</td>\n",
              "    </tr>\n",
              "    <tr>\n",
              "      <th>2</th>\n",
              "      <td>0</td>\n",
              "      <td>5623.422610</td>\n",
              "      <td>33.0</td>\n",
              "      <td>secondary education</td>\n",
              "      <td>1</td>\n",
              "      <td>married</td>\n",
              "      <td>0</td>\n",
              "      <td>M</td>\n",
              "      <td>employee</td>\n",
              "      <td>0</td>\n",
              "      <td>23341.752</td>\n",
              "      <td>purchase of the house</td>\n",
              "      <td>real_estate</td>\n",
              "      <td>adultos</td>\n",
              "    </tr>\n",
              "    <tr>\n",
              "      <th>3</th>\n",
              "      <td>3</td>\n",
              "      <td>4124.747207</td>\n",
              "      <td>32.0</td>\n",
              "      <td>secondary education</td>\n",
              "      <td>1</td>\n",
              "      <td>married</td>\n",
              "      <td>0</td>\n",
              "      <td>M</td>\n",
              "      <td>employee</td>\n",
              "      <td>0</td>\n",
              "      <td>42820.568</td>\n",
              "      <td>supplementary education</td>\n",
              "      <td>education</td>\n",
              "      <td>adultos</td>\n",
              "    </tr>\n",
              "    <tr>\n",
              "      <th>4</th>\n",
              "      <td>0</td>\n",
              "      <td>12775.000000</td>\n",
              "      <td>53.0</td>\n",
              "      <td>secondary education</td>\n",
              "      <td>1</td>\n",
              "      <td>civil partnership</td>\n",
              "      <td>1</td>\n",
              "      <td>F</td>\n",
              "      <td>retiree</td>\n",
              "      <td>0</td>\n",
              "      <td>25378.572</td>\n",
              "      <td>to have a wedding</td>\n",
              "      <td>wedding</td>\n",
              "      <td>adultos</td>\n",
              "    </tr>\n",
              "    <tr>\n",
              "      <th>5</th>\n",
              "      <td>0</td>\n",
              "      <td>926.185831</td>\n",
              "      <td>27.0</td>\n",
              "      <td>bachelor's degree</td>\n",
              "      <td>0</td>\n",
              "      <td>civil partnership</td>\n",
              "      <td>1</td>\n",
              "      <td>M</td>\n",
              "      <td>entrepreneur</td>\n",
              "      <td>0</td>\n",
              "      <td>40922.170</td>\n",
              "      <td>purchase of the house</td>\n",
              "      <td>real_estate</td>\n",
              "      <td>adultos</td>\n",
              "    </tr>\n",
              "    <tr>\n",
              "      <th>6</th>\n",
              "      <td>0</td>\n",
              "      <td>2879.202052</td>\n",
              "      <td>43.0</td>\n",
              "      <td>bachelor's degree</td>\n",
              "      <td>0</td>\n",
              "      <td>married</td>\n",
              "      <td>0</td>\n",
              "      <td>F</td>\n",
              "      <td>entrepreneur</td>\n",
              "      <td>0</td>\n",
              "      <td>38484.156</td>\n",
              "      <td>housing transactions</td>\n",
              "      <td>real_estate</td>\n",
              "      <td>adultos</td>\n",
              "    </tr>\n",
              "    <tr>\n",
              "      <th>7</th>\n",
              "      <td>0</td>\n",
              "      <td>152.779569</td>\n",
              "      <td>50.0</td>\n",
              "      <td>secondary education</td>\n",
              "      <td>1</td>\n",
              "      <td>married</td>\n",
              "      <td>0</td>\n",
              "      <td>M</td>\n",
              "      <td>employee</td>\n",
              "      <td>0</td>\n",
              "      <td>21731.829</td>\n",
              "      <td>education</td>\n",
              "      <td>education</td>\n",
              "      <td>adultos</td>\n",
              "    </tr>\n",
              "    <tr>\n",
              "      <th>8</th>\n",
              "      <td>2</td>\n",
              "      <td>6929.865299</td>\n",
              "      <td>35.0</td>\n",
              "      <td>bachelor's degree</td>\n",
              "      <td>0</td>\n",
              "      <td>civil partnership</td>\n",
              "      <td>1</td>\n",
              "      <td>F</td>\n",
              "      <td>employee</td>\n",
              "      <td>0</td>\n",
              "      <td>15337.093</td>\n",
              "      <td>having a wedding</td>\n",
              "      <td>wedding</td>\n",
              "      <td>adultos</td>\n",
              "    </tr>\n",
              "    <tr>\n",
              "      <th>9</th>\n",
              "      <td>0</td>\n",
              "      <td>2188.756445</td>\n",
              "      <td>41.0</td>\n",
              "      <td>secondary education</td>\n",
              "      <td>1</td>\n",
              "      <td>married</td>\n",
              "      <td>0</td>\n",
              "      <td>M</td>\n",
              "      <td>employee</td>\n",
              "      <td>0</td>\n",
              "      <td>23108.150</td>\n",
              "      <td>purchase of the house for my family</td>\n",
              "      <td>real_estate</td>\n",
              "      <td>adultos</td>\n",
              "    </tr>\n",
              "  </tbody>\n",
              "</table>\n",
              "</div>"
            ],
            "text/plain": [
              "  children  days_employed  dob_years            education  education_id  \\\n",
              "0        1    8437.673028       42.0    bachelor's degree             0   \n",
              "1        1    4024.803754       36.0  secondary education             1   \n",
              "2        0    5623.422610       33.0  secondary education             1   \n",
              "3        3    4124.747207       32.0  secondary education             1   \n",
              "4        0   12775.000000       53.0  secondary education             1   \n",
              "5        0     926.185831       27.0    bachelor's degree             0   \n",
              "6        0    2879.202052       43.0    bachelor's degree             0   \n",
              "7        0     152.779569       50.0  secondary education             1   \n",
              "8        2    6929.865299       35.0    bachelor's degree             0   \n",
              "9        0    2188.756445       41.0  secondary education             1   \n",
              "\n",
              "       family_status  family_status_id gender   income_type  debt  \\\n",
              "0            married                 0      F      employee     0   \n",
              "1            married                 0      F      employee     0   \n",
              "2            married                 0      M      employee     0   \n",
              "3            married                 0      M      employee     0   \n",
              "4  civil partnership                 1      F       retiree     0   \n",
              "5  civil partnership                 1      M  entrepreneur     0   \n",
              "6            married                 0      F  entrepreneur     0   \n",
              "7            married                 0      M      employee     0   \n",
              "8  civil partnership                 1      F      employee     0   \n",
              "9            married                 0      M      employee     0   \n",
              "\n",
              "   total_income                              purpose  cat_purpose age_group  \n",
              "0     40620.102                purchase of the house  real_estate   adultos  \n",
              "1     17932.802                         car purchase          car   adultos  \n",
              "2     23341.752                purchase of the house  real_estate   adultos  \n",
              "3     42820.568              supplementary education    education   adultos  \n",
              "4     25378.572                    to have a wedding      wedding   adultos  \n",
              "5     40922.170                purchase of the house  real_estate   adultos  \n",
              "6     38484.156                 housing transactions  real_estate   adultos  \n",
              "7     21731.829                            education    education   adultos  \n",
              "8     15337.093                     having a wedding      wedding   adultos  \n",
              "9     23108.150  purchase of the house for my family  real_estate   adultos  "
            ]
          },
          "execution_count": 145,
          "metadata": {},
          "output_type": "execute_result"
        }
      ],
      "source": [
        "# Crear columna nueva en base a la función creada\n",
        "credit_score['age_group'] = credit_score['dob_years'].apply(age_group)\n",
        "credit_score.head(10)"
      ]
    },
    {
      "cell_type": "markdown",
      "metadata": {
        "id": "1kf5dZVHhDyg"
      },
      "source": [
        "**Conclusión:**\n",
        "\n",
        "Podemos inferir que los factores que pueden influir en el nivel de ingresos de un cliente, son:\n",
        "\n",
        "- Educación: Entre más nivel de educación, más ingresos.\n",
        "- Género,\n",
        "- Tipo de ingresos (income_type): ciertos puestos laborales permiten alcanzar niveles de ingresos más altos en comparación con los trabajos comunes.\n",
        "- Días trabajados (days_employed): es una variable que se supone que cuanto más trabajas, más ganas. Sin embargo, hay que trabajar sus valores faltantes, de forma que al utilizarla, no corramos el riesgo de sesgo en los datos."
      ]
    },
    {
      "cell_type": "code",
      "execution_count": null,
      "metadata": {
        "id": "-HFG_ybehDyg",
        "outputId": "5c1ce257-08e9-42be-c703-df02b3380123"
      },
      "outputs": [
        {
          "data": {
            "text/html": [
              "<div>\n",
              "<style scoped>\n",
              "    .dataframe tbody tr th:only-of-type {\n",
              "        vertical-align: middle;\n",
              "    }\n",
              "\n",
              "    .dataframe tbody tr th {\n",
              "        vertical-align: top;\n",
              "    }\n",
              "\n",
              "    .dataframe thead th {\n",
              "        text-align: right;\n",
              "    }\n",
              "</style>\n",
              "<table border=\"1\" class=\"dataframe\">\n",
              "  <thead>\n",
              "    <tr style=\"text-align: right;\">\n",
              "      <th></th>\n",
              "      <th>children</th>\n",
              "      <th>days_employed</th>\n",
              "      <th>dob_years</th>\n",
              "      <th>education</th>\n",
              "      <th>education_id</th>\n",
              "      <th>family_status</th>\n",
              "      <th>family_status_id</th>\n",
              "      <th>gender</th>\n",
              "      <th>income_type</th>\n",
              "      <th>debt</th>\n",
              "      <th>total_income</th>\n",
              "      <th>purpose</th>\n",
              "      <th>cat_purpose</th>\n",
              "      <th>age_group</th>\n",
              "    </tr>\n",
              "  </thead>\n",
              "  <tbody>\n",
              "    <tr>\n",
              "      <th>0</th>\n",
              "      <td>1</td>\n",
              "      <td>8437.673028</td>\n",
              "      <td>42.0</td>\n",
              "      <td>bachelor's degree</td>\n",
              "      <td>0</td>\n",
              "      <td>married</td>\n",
              "      <td>0</td>\n",
              "      <td>F</td>\n",
              "      <td>employee</td>\n",
              "      <td>0</td>\n",
              "      <td>40620.102</td>\n",
              "      <td>purchase of the house</td>\n",
              "      <td>real_estate</td>\n",
              "      <td>adultos</td>\n",
              "    </tr>\n",
              "    <tr>\n",
              "      <th>1</th>\n",
              "      <td>1</td>\n",
              "      <td>4024.803754</td>\n",
              "      <td>36.0</td>\n",
              "      <td>secondary education</td>\n",
              "      <td>1</td>\n",
              "      <td>married</td>\n",
              "      <td>0</td>\n",
              "      <td>F</td>\n",
              "      <td>employee</td>\n",
              "      <td>0</td>\n",
              "      <td>17932.802</td>\n",
              "      <td>car purchase</td>\n",
              "      <td>car</td>\n",
              "      <td>adultos</td>\n",
              "    </tr>\n",
              "    <tr>\n",
              "      <th>2</th>\n",
              "      <td>0</td>\n",
              "      <td>5623.422610</td>\n",
              "      <td>33.0</td>\n",
              "      <td>secondary education</td>\n",
              "      <td>1</td>\n",
              "      <td>married</td>\n",
              "      <td>0</td>\n",
              "      <td>M</td>\n",
              "      <td>employee</td>\n",
              "      <td>0</td>\n",
              "      <td>23341.752</td>\n",
              "      <td>purchase of the house</td>\n",
              "      <td>real_estate</td>\n",
              "      <td>adultos</td>\n",
              "    </tr>\n",
              "    <tr>\n",
              "      <th>3</th>\n",
              "      <td>3</td>\n",
              "      <td>4124.747207</td>\n",
              "      <td>32.0</td>\n",
              "      <td>secondary education</td>\n",
              "      <td>1</td>\n",
              "      <td>married</td>\n",
              "      <td>0</td>\n",
              "      <td>M</td>\n",
              "      <td>employee</td>\n",
              "      <td>0</td>\n",
              "      <td>42820.568</td>\n",
              "      <td>supplementary education</td>\n",
              "      <td>education</td>\n",
              "      <td>adultos</td>\n",
              "    </tr>\n",
              "    <tr>\n",
              "      <th>4</th>\n",
              "      <td>0</td>\n",
              "      <td>12775.000000</td>\n",
              "      <td>53.0</td>\n",
              "      <td>secondary education</td>\n",
              "      <td>1</td>\n",
              "      <td>civil partnership</td>\n",
              "      <td>1</td>\n",
              "      <td>F</td>\n",
              "      <td>retiree</td>\n",
              "      <td>0</td>\n",
              "      <td>25378.572</td>\n",
              "      <td>to have a wedding</td>\n",
              "      <td>wedding</td>\n",
              "      <td>adultos</td>\n",
              "    </tr>\n",
              "  </tbody>\n",
              "</table>\n",
              "</div>"
            ],
            "text/plain": [
              "  children  days_employed  dob_years            education  education_id  \\\n",
              "0        1    8437.673028       42.0    bachelor's degree             0   \n",
              "1        1    4024.803754       36.0  secondary education             1   \n",
              "2        0    5623.422610       33.0  secondary education             1   \n",
              "3        3    4124.747207       32.0  secondary education             1   \n",
              "4        0   12775.000000       53.0  secondary education             1   \n",
              "\n",
              "       family_status  family_status_id gender income_type  debt  total_income  \\\n",
              "0            married                 0      F    employee     0     40620.102   \n",
              "1            married                 0      F    employee     0     17932.802   \n",
              "2            married                 0      M    employee     0     23341.752   \n",
              "3            married                 0      M    employee     0     42820.568   \n",
              "4  civil partnership                 1      F     retiree     0     25378.572   \n",
              "\n",
              "                   purpose  cat_purpose age_group  \n",
              "0    purchase of the house  real_estate   adultos  \n",
              "1             car purchase          car   adultos  \n",
              "2    purchase of the house  real_estate   adultos  \n",
              "3  supplementary education    education   adultos  \n",
              "4        to have a wedding      wedding   adultos  "
            ]
          },
          "metadata": {},
          "output_type": "display_data"
        },
        {
          "name": "stdout",
          "output_type": "stream",
          "text": [
            "\n",
            "Verificando que no hayan valores ausentes=\n"
          ]
        },
        {
          "data": {
            "text/plain": [
              "children            0\n",
              "days_employed       0\n",
              "dob_years           0\n",
              "education           0\n",
              "education_id        0\n",
              "family_status       0\n",
              "family_status_id    0\n",
              "gender              0\n",
              "income_type         0\n",
              "debt                0\n",
              "total_income        0\n",
              "purpose             0\n",
              "cat_purpose         0\n",
              "age_group           0\n",
              "dtype: int64"
            ]
          },
          "execution_count": 146,
          "metadata": {},
          "output_type": "execute_result"
        }
      ],
      "source": [
        "# Crea una tabla sin valores ausentes y muestra algunas de sus filas para asegurarte de que se ve bien\n",
        "no_nan_credit_score = credit_score[credit_score['total_income'].isnull()==False]\n",
        "display(no_nan_credit_score.head())\n",
        "print()\n",
        "print('Verificando que no hayan valores ausentes=')\n",
        "no_nan_credit_score.isna().sum()"
      ]
    },
    {
      "cell_type": "markdown",
      "metadata": {
        "id": "uLQsCZWRhDyh"
      },
      "source": [
        "# 3.1 Restaurar valores en 'total_income'"
      ]
    },
    {
      "cell_type": "code",
      "execution_count": null,
      "metadata": {
        "id": "_kGKZNUthDyh",
        "outputId": "66e524f3-a9b1-4b1c-8aff-1f711a7a10bc"
      },
      "outputs": [
        {
          "name": "stdout",
          "output_type": "stream",
          "text": [
            "education\n",
            "bachelor's degree      33142.802434\n",
            "graduate degree        27960.024667\n",
            "primary education      21144.882211\n",
            "secondary education    24594.503037\n",
            "some college           29045.443644\n",
            "Name: total_income, dtype: float64\n"
          ]
        }
      ],
      "source": [
        "# Valores médios en función de 'education' x total_income\n",
        "print(no_nan_credit_score.groupby('education')['total_income'].mean())\n"
      ]
    },
    {
      "cell_type": "code",
      "execution_count": null,
      "metadata": {
        "scrolled": true,
        "id": "nSK3lujqhDyh",
        "outputId": "0a00f567-d2ce-47ec-f56f-1827ac13f559"
      },
      "outputs": [
        {
          "name": "stdout",
          "output_type": "stream",
          "text": [
            "education\n",
            "bachelor's degree      28054.5310\n",
            "graduate degree        25161.5835\n",
            "primary education      18741.9760\n",
            "secondary education    21836.5830\n",
            "some college           25618.4640\n",
            "Name: total_income, dtype: float64\n"
          ]
        }
      ],
      "source": [
        "# Valores medianos de los ingresos en función de 'education' x 'total_income'\n",
        "print(no_nan_credit_score.groupby('education')['total_income'].median())"
      ]
    },
    {
      "cell_type": "markdown",
      "metadata": {
        "id": "OW40vkLuhDyh"
      },
      "source": [
        "**Conclusión:**\n",
        "- Es evidente que los ingresos más bajos se concentran en la educación primaria y secundaria.\n",
        "- Y los ingresos más altos se concentran en los clientes que tienen educación superior. Esta variable se tendrá en cuenta para calcular los valores ausentes."
      ]
    },
    {
      "cell_type": "code",
      "execution_count": null,
      "metadata": {
        "id": "KQnU81xvhDyi",
        "outputId": "8f06f680-5a8c-4483-945c-f6ffe630a106"
      },
      "outputs": [
        {
          "data": {
            "text/plain": [
              "age_group\n",
              "abuelos    21542.650450\n",
              "adultos    27208.428335\n",
              "jóvenes    22703.351103\n",
              "Name: total_income, dtype: float64"
            ]
          },
          "execution_count": 149,
          "metadata": {},
          "output_type": "execute_result"
        }
      ],
      "source": [
        "# Examinando la media en función de la edad\n",
        "no_nan_credit_score.groupby('age_group')['total_income'].mean()"
      ]
    },
    {
      "cell_type": "code",
      "execution_count": null,
      "metadata": {
        "id": "tb0BJz_OhDyi",
        "outputId": "42460490-3141-487a-98f8-ab2e3aea27ac"
      },
      "outputs": [
        {
          "data": {
            "text/plain": [
              "age_group\n",
              "abuelos    18471.3910\n",
              "adultos    23540.1295\n",
              "jóvenes    20572.2090\n",
              "Name: total_income, dtype: float64"
            ]
          },
          "execution_count": 150,
          "metadata": {},
          "output_type": "execute_result"
        }
      ],
      "source": [
        "# Examinando los valores medianos en función de edad\n",
        "no_nan_credit_score.groupby('age_group')['total_income'].median()"
      ]
    },
    {
      "cell_type": "markdown",
      "metadata": {
        "id": "9fFu75VohDyi"
      },
      "source": [
        "**Conclusión:**\n",
        "- A pesar de que el grupo de adultos tiene un ingreso promedio mayor que los demás grupos, esto se debe a que el rango de este grupo es el mayor entre todos, comprendiendo los años de 25 a 64 años."
      ]
    },
    {
      "cell_type": "code",
      "execution_count": null,
      "metadata": {
        "id": "rxKynz8AhDyi",
        "outputId": "5b050b43-7ac8-42f4-de10-e6e8b5508252"
      },
      "outputs": [
        {
          "data": {
            "text/plain": [
              "gender\n",
              "F             24655.604757\n",
              "M             30907.144369\n",
              "non-binary    32624.825000\n",
              "Name: total_income, dtype: float64"
            ]
          },
          "execution_count": 151,
          "metadata": {},
          "output_type": "execute_result"
        }
      ],
      "source": [
        "# Examinando la media en función del género\n",
        "no_nan_credit_score.groupby('gender')['total_income'].mean()"
      ]
    },
    {
      "cell_type": "code",
      "execution_count": null,
      "metadata": {
        "id": "XQvkkph9hDyj",
        "outputId": "54d9e4c0-aa09-474c-dccd-62a4a07041ba"
      },
      "outputs": [
        {
          "data": {
            "text/plain": [
              "gender\n",
              "F             21464.845\n",
              "M             26834.295\n",
              "non-binary    32624.825\n",
              "Name: total_income, dtype: float64"
            ]
          },
          "execution_count": 152,
          "metadata": {},
          "output_type": "execute_result"
        }
      ],
      "source": [
        "# Examinando los valores medianos en función del género\n",
        "no_nan_credit_score.groupby('gender')['total_income'].median()"
      ]
    },
    {
      "cell_type": "markdown",
      "metadata": {
        "id": "AQU5_8E2hDyj"
      },
      "source": [
        "**Conclusión:**\n",
        "- Es interesante ver que el género no-binario muestra ser quien tiene mayor ingresos seguido por el género másculino. Evidenciando, la creencia común de que las mujeres usualmente no son bien remuneradas en comparasión con los otros géneros."
      ]
    },
    {
      "cell_type": "code",
      "execution_count": null,
      "metadata": {
        "id": "VKxpwnlxhDyj",
        "outputId": "7900204d-c7c3-4fe2-e2bb-a795fb3cd230"
      },
      "outputs": [
        {
          "data": {
            "text/plain": [
              "income_type\n",
              "civil servant    27343.729582\n",
              "employee         25820.841683\n",
              "entrepreneur     32397.165026\n",
              "other            16588.410500\n",
              "retiree          21940.394503\n",
              "Name: total_income, dtype: float64"
            ]
          },
          "execution_count": 153,
          "metadata": {},
          "output_type": "execute_result"
        }
      ],
      "source": [
        "# Examinando la media en función de tipo de ingresos\n",
        "no_nan_credit_score.groupby('income_type')['total_income'].mean()"
      ]
    },
    {
      "cell_type": "code",
      "execution_count": null,
      "metadata": {
        "id": "Z_hnngm1hDyj",
        "outputId": "12c8dd0b-d69d-41d1-d60d-991b5720794e"
      },
      "outputs": [
        {
          "data": {
            "text/plain": [
              "income_type\n",
              "civil servant    24071.6695\n",
              "employee         22815.1035\n",
              "entrepreneur     27583.3600\n",
              "other            12652.6895\n",
              "retiree          18962.3180\n",
              "Name: total_income, dtype: float64"
            ]
          },
          "execution_count": 154,
          "metadata": {},
          "output_type": "execute_result"
        }
      ],
      "source": [
        "# Examinando los valores medianos en función de tipo de ingresos\n",
        "no_nan_credit_score.groupby('income_type')['total_income'].median()"
      ]
    },
    {
      "cell_type": "markdown",
      "metadata": {
        "id": "QE9nLrBthDyk"
      },
      "source": [
        "**Conclusión:**\n",
        "- Los empresarios son los tipos de ingresos que más ganan.\n",
        "- Los jubilados, estudiantes, y aquellos en permiso de maternidad son los que menos ganan."
      ]
    },
    {
      "cell_type": "code",
      "execution_count": null,
      "metadata": {
        "id": "-uJP1DDghDyk",
        "outputId": "01aa7c74-4561-437a-d08d-8bb3995576b9"
      },
      "outputs": [
        {
          "data": {
            "text/plain": [
              "family_status\n",
              "civil partnership    26694.428597\n",
              "divorced             27189.354550\n",
              "married              27041.784689\n",
              "unmarried            26934.069805\n",
              "widow / widower      22984.208556\n",
              "Name: total_income, dtype: float64"
            ]
          },
          "execution_count": 155,
          "metadata": {},
          "output_type": "execute_result"
        }
      ],
      "source": [
        "# Examinando la media en función de tipo de family_status\n",
        "no_nan_credit_score.groupby('family_status')['total_income'].mean()"
      ]
    },
    {
      "cell_type": "code",
      "execution_count": null,
      "metadata": {
        "id": "3wJIzVkRhDyk",
        "outputId": "4bca26f7-c9d5-4a98-ef87-4cbcd7085339"
      },
      "outputs": [
        {
          "data": {
            "text/plain": [
              "family_status\n",
              "civil partnership    23186.534\n",
              "divorced             23515.096\n",
              "married              23389.540\n",
              "unmarried            23149.028\n",
              "widow / widower      20514.190\n",
              "Name: total_income, dtype: float64"
            ]
          },
          "execution_count": 156,
          "metadata": {},
          "output_type": "execute_result"
        }
      ],
      "source": [
        "# Examinando la media en función de tipo de family_status\n",
        "no_nan_credit_score.groupby('family_status')['total_income'].median()"
      ]
    },
    {
      "cell_type": "markdown",
      "metadata": {
        "id": "rTM0h6XqhDyk"
      },
      "source": [
        "**Observaciones:**\n",
        "- No hay indicios de que el ingreso del cliente pueda ser afectado por su estado familiar. Podría inferirse que no hay sesgo cuando el punto de vista es el estado familiar. Esta variable no se tendrá en cuenta para completar los valores faltantes."
      ]
    },
    {
      "cell_type": "markdown",
      "metadata": {
        "id": "PU6i-MI5hDyk"
      },
      "source": [
        "**Conclusión General:**\n",
        "Encontramos que las categorías: income_type, gender y education influyen en los ingresos del cliente. Como la variable total_income tiene valores atípicos, utilizaremos la mediana para atenuar estos los valores extremos."
      ]
    },
    {
      "cell_type": "code",
      "execution_count": null,
      "metadata": {
        "id": "XCka20M1hDyl",
        "outputId": "56cdbe1b-6e10-4115-fe52-903c9d395bbb"
      },
      "outputs": [
        {
          "data": {
            "text/plain": [
              "education            gender      income_type  \n",
              "bachelor's degree    F           civil servant    25254.6300\n",
              "                                 employee         24590.6965\n",
              "                                 entrepreneur     30402.3330\n",
              "                                 other            32435.6020\n",
              "                                 retiree          22784.6850\n",
              "                     M           civil servant    34353.0630\n",
              "                                 employee         30759.5680\n",
              "                                 entrepreneur     37290.3815\n",
              "                                 other            15712.2600\n",
              "                                 retiree          25193.1730\n",
              "graduate degree      F           civil servant    17822.7570\n",
              "                                 retiree          40868.0310\n",
              "                     M           employee         31771.3210\n",
              "                                 retiree          15800.3990\n",
              "primary education    F           civil servant    14339.0340\n",
              "                                 employee         18962.6750\n",
              "                                 entrepreneur     21441.9210\n",
              "                                 retiree          16188.8905\n",
              "                     M           civil servant    30554.6660\n",
              "                                 employee         22662.0740\n",
              "                                 entrepreneur     24016.1540\n",
              "                                 retiree          18099.8720\n",
              "secondary education  F           civil servant    20133.0890\n",
              "                                 employee         19860.3340\n",
              "                                 entrepreneur     23181.0850\n",
              "                                 other             8612.6610\n",
              "                                 retiree          18046.5560\n",
              "                     M           civil servant    27144.3130\n",
              "                                 employee         25005.8240\n",
              "                                 entrepreneur     29102.2430\n",
              "                                 other             9593.1190\n",
              "                                 retiree          20175.5510\n",
              "some college         F           civil servant    21855.8610\n",
              "                                 employee         21588.0300\n",
              "                                 entrepreneur     27275.4595\n",
              "                                 retiree          18654.8760\n",
              "                     M           civil servant    28371.3005\n",
              "                                 employee         30252.1470\n",
              "                                 entrepreneur     30606.7090\n",
              "                                 retiree          19946.7950\n",
              "                     non-binary  entrepreneur     32624.8250\n",
              "Name: total_income, dtype: float64"
            ]
          },
          "execution_count": 157,
          "metadata": {},
          "output_type": "execute_result"
        }
      ],
      "source": [
        "#  Escribe una función que usaremos para completar los valores ausentes\n",
        "credit_score.groupby(['education','gender','income_type'])['total_income'].median()"
      ]
    },
    {
      "cell_type": "code",
      "execution_count": null,
      "metadata": {
        "id": "FT8BXiUThDyl",
        "outputId": "92a8630b-d67b-4f31-c438-014a82494ecc"
      },
      "outputs": [
        {
          "name": "stdout",
          "output_type": "stream",
          "text": [
            "0        24590.6965\n",
            "1        19860.3340\n",
            "2        25005.8240\n",
            "3        25005.8240\n",
            "4        18046.5560\n",
            "            ...    \n",
            "21520    23181.0850\n",
            "21521    18046.5560\n",
            "21522    25005.8240\n",
            "21523    25005.8240\n",
            "21524    19860.3340\n",
            "Name: total_income, Length: 21525, dtype: float64\n"
          ]
        }
      ],
      "source": [
        "# Comprueba si funciona\n",
        "values_total_income = credit_score.groupby(['education','gender','income_type'])['total_income'].transform('median')\n",
        "print(values_total_income)"
      ]
    },
    {
      "cell_type": "code",
      "execution_count": null,
      "metadata": {
        "id": "UV7Ll5CZhDyl"
      },
      "outputs": [],
      "source": [
        "# Aplícalo a cada fila\n",
        "credit_score['total_income'].fillna(values_total_income, inplace = True)"
      ]
    },
    {
      "cell_type": "code",
      "execution_count": null,
      "metadata": {
        "id": "zi8j0APxhDym"
      },
      "outputs": [],
      "source": [
        "pivot_income = no_nan_credit_score.pivot_table(index='income_type', values='total_income', aggfunc='median')\n",
        "def fill_income(row):\n",
        "    income = row['total_income']\n",
        "    income_type = row['income_type']\n",
        "    try:\n",
        "        if pd.isna(income):\n",
        "             return pivot_income['total_income'][income_type]\n",
        "        return income\n",
        "    except:\n",
        "        return credit_score['total_income'].median()\n",
        "credit_score['total_income'] = credit_score.apply(fill_income, axis=1)"
      ]
    },
    {
      "cell_type": "code",
      "execution_count": null,
      "metadata": {
        "id": "plzChYvehDym",
        "outputId": "4e3f8f2d-f58e-4e7f-bfbb-8ccc0e04fe36"
      },
      "outputs": [
        {
          "data": {
            "text/plain": [
              "0"
            ]
          },
          "execution_count": 161,
          "metadata": {},
          "output_type": "execute_result"
        }
      ],
      "source": [
        "# Comprueba si tenemos algún error\n",
        "credit_score['total_income'].isna().sum()"
      ]
    },
    {
      "cell_type": "code",
      "execution_count": null,
      "metadata": {
        "id": "JIFMRCRUhDym",
        "outputId": "3f76a6ea-daae-436f-f3a2-2496e35a8f63"
      },
      "outputs": [
        {
          "name": "stdout",
          "output_type": "stream",
          "text": [
            "<class 'pandas.core.frame.DataFrame'>\n",
            "RangeIndex: 21525 entries, 0 to 21524\n",
            "Data columns (total 14 columns):\n",
            " #   Column            Non-Null Count  Dtype  \n",
            "---  ------            --------------  -----  \n",
            " 0   children          21525 non-null  object \n",
            " 1   days_employed     19764 non-null  float64\n",
            " 2   dob_years         21525 non-null  float64\n",
            " 3   education         21525 non-null  object \n",
            " 4   education_id      21525 non-null  int64  \n",
            " 5   family_status     21525 non-null  object \n",
            " 6   family_status_id  21525 non-null  int64  \n",
            " 7   gender            21525 non-null  object \n",
            " 8   income_type       21525 non-null  object \n",
            " 9   debt              21525 non-null  int64  \n",
            " 10  total_income      21525 non-null  float64\n",
            " 11  purpose           21525 non-null  object \n",
            " 12  cat_purpose       21525 non-null  object \n",
            " 13  age_group         21525 non-null  object \n",
            "dtypes: float64(3), int64(3), object(8)\n",
            "memory usage: 2.3+ MB\n"
          ]
        }
      ],
      "source": [
        "# Comprobar el número de entradas en las columnas\n",
        "credit_score.info()"
      ]
    },
    {
      "cell_type": "markdown",
      "metadata": {
        "id": "-kGXJJ4dhDyn"
      },
      "source": [
        "# 3.2 Conclusión:\n",
        "- La variable total_income se llenó con la mediana las categorias education, gender y income_type, dejando la variable libre de valores ausentes. \n",
        "- Podemos comprobar que total_income tiene el mismo número de entradas que el valor total de las entradas (21524), con excepción de days_employed que trataremos acontinuación."
      ]
    },
    {
      "cell_type": "markdown",
      "metadata": {
        "id": "1Dh6r7ZWhDyn"
      },
      "source": [
        "# Etapa 4.  Restaurar valores ausentes en 'days_employed'"
      ]
    },
    {
      "cell_type": "code",
      "execution_count": null,
      "metadata": {
        "id": "G5PflrTchDyn",
        "outputId": "0035d8e3-ddb9-409a-d61a-81fa20a1a854"
      },
      "outputs": [
        {
          "data": {
            "text/plain": [
              "1761"
            ]
          },
          "execution_count": 163,
          "metadata": {},
          "output_type": "execute_result"
        }
      ],
      "source": [
        "# Examinando los valores nulos en days_employed\n",
        "credit_score['days_employed'].isna().sum()"
      ]
    },
    {
      "cell_type": "code",
      "execution_count": null,
      "metadata": {
        "pycharm": {
          "name": "#%%\n"
        },
        "id": "eDymf6HqhDyo",
        "outputId": "37f1cd79-c440-4bde-c027-a2a95bfaf37c"
      },
      "outputs": [
        {
          "data": {
            "text/plain": [
              "children\n",
              "0    2623.870233\n",
              "1    1669.174020\n",
              "2    1678.132084\n",
              "3    1765.066044\n",
              "4    1905.879025\n",
              "5    1231.571486\n",
              "Name: days_employed, dtype: float64"
            ]
          },
          "execution_count": 164,
          "metadata": {},
          "output_type": "execute_result"
        }
      ],
      "source": [
        "# Distribución de las medianas de `days_employed` en función de los parámetros identificados\n",
        "\n",
        "# Distribución de las medianas en función de los hijos\n",
        "no_nan_credit_score.groupby('children')['days_employed'].median()"
      ]
    },
    {
      "cell_type": "code",
      "execution_count": null,
      "metadata": {
        "id": "MFotmidIhDyo",
        "outputId": "8461642c-241c-42b9-d735-05b04be204ea"
      },
      "outputs": [
        {
          "data": {
            "text/plain": [
              "age_group\n",
              "abuelos    17885.00000\n",
              "adultos     2259.41211\n",
              "jóvenes      746.50188\n",
              "Name: days_employed, dtype: float64"
            ]
          },
          "execution_count": 165,
          "metadata": {},
          "output_type": "execute_result"
        }
      ],
      "source": [
        "# Distribución de las medianas en función del grupo de edad\n",
        "credit_score.groupby('age_group')['days_employed'].median()"
      ]
    },
    {
      "cell_type": "code",
      "execution_count": null,
      "metadata": {
        "id": "L_1_CUbhhDyo",
        "outputId": "3d240b07-5726-445e-be24-1280a43db974"
      },
      "outputs": [
        {
          "data": {
            "text/plain": [
              "education\n",
              "bachelor's degree      1929.913775\n",
              "graduate degree        5660.057032\n",
              "primary education      3294.326552\n",
              "secondary education    2487.184774\n",
              "some college           1216.170968\n",
              "Name: days_employed, dtype: float64"
            ]
          },
          "execution_count": 166,
          "metadata": {},
          "output_type": "execute_result"
        }
      ],
      "source": [
        "# Distribución de las medianas en función de la educación\n",
        "credit_score.groupby('education')['days_employed'].median()"
      ]
    },
    {
      "cell_type": "code",
      "execution_count": null,
      "metadata": {
        "id": "WIrwBWY_hDyp",
        "outputId": "60f6f820-00eb-43c7-b116-6b762f8710fa"
      },
      "outputs": [
        {
          "data": {
            "text/plain": [
              "income_type\n",
              "civil servant     2689.368353\n",
              "employee          1574.202821\n",
              "entrepreneur      1546.333214\n",
              "other             4020.879981\n",
              "retiree          15330.000000\n",
              "Name: days_employed, dtype: float64"
            ]
          },
          "execution_count": 167,
          "metadata": {},
          "output_type": "execute_result"
        }
      ],
      "source": [
        "# Distribución de las medianas en función del tipo de ingresos\n",
        "credit_score.groupby('income_type')['days_employed'].median()"
      ]
    },
    {
      "cell_type": "code",
      "execution_count": null,
      "metadata": {
        "id": "CPKIc4RMhDyp",
        "outputId": "90f88e0e-2a8e-4cc4-b2a7-2b2e66fc5e9e"
      },
      "outputs": [
        {
          "data": {
            "text/plain": [
              "gender\n",
              "F             2645.721456\n",
              "M             1687.300565\n",
              "non-binary    2358.600502\n",
              "Name: days_employed, dtype: float64"
            ]
          },
          "execution_count": 168,
          "metadata": {},
          "output_type": "execute_result"
        }
      ],
      "source": [
        "# Distribución de las medianas en función del género\n",
        "credit_score.groupby('gender')['days_employed'].median()"
      ]
    },
    {
      "cell_type": "code",
      "execution_count": null,
      "metadata": {
        "id": "v-LSfdBghDyp",
        "outputId": "2c4f22a2-8922-4a3d-87ac-7dc82f4ccd94"
      },
      "outputs": [
        {
          "data": {
            "text/plain": [
              "children\n",
              "0    5638.373693\n",
              "1    2876.316865\n",
              "2    2262.985838\n",
              "3    2343.900888\n",
              "4    2416.388469\n",
              "5    1432.348601\n",
              "Name: days_employed, dtype: float64"
            ]
          },
          "execution_count": 169,
          "metadata": {},
          "output_type": "execute_result"
        }
      ],
      "source": [
        "# Distribución de las medias de `days_employed` en función de los parámetros identificados\n",
        "\n",
        "# Distribución de las medias en función de los hijos\n",
        "no_nan_credit_score.groupby('children')['days_employed'].mean()"
      ]
    },
    {
      "cell_type": "code",
      "execution_count": null,
      "metadata": {
        "id": "htDU_ATThDyp",
        "outputId": "9a5a9488-061c-4b9f-a032-2b11644b21ff"
      },
      "outputs": [
        {
          "data": {
            "text/plain": [
              "age_group\n",
              "abuelos    16208.366367\n",
              "adultos     4448.495056\n",
              "jóvenes      856.500536\n",
              "Name: days_employed, dtype: float64"
            ]
          },
          "execution_count": 170,
          "metadata": {},
          "output_type": "execute_result"
        }
      ],
      "source": [
        "# Distribución de las medias en función del grupo de edad\n",
        "credit_score.groupby('age_group')['days_employed'].mean()"
      ]
    },
    {
      "cell_type": "code",
      "execution_count": null,
      "metadata": {
        "id": "q44M28JxhDyq",
        "outputId": "2f89e3de-6d6d-43e9-8a7e-547968c3490b"
      },
      "outputs": [
        {
          "data": {
            "text/plain": [
              "education\n",
              "bachelor's degree      3810.232451\n",
              "graduate degree        8125.957691\n",
              "primary education      7043.326055\n",
              "secondary education    5258.449198\n",
              "some college           2380.164075\n",
              "Name: days_employed, dtype: float64"
            ]
          },
          "execution_count": 171,
          "metadata": {},
          "output_type": "execute_result"
        }
      ],
      "source": [
        "# Distribución de las medias en función de la educación\n",
        "credit_score.groupby('education')['days_employed'].mean()"
      ]
    },
    {
      "cell_type": "code",
      "execution_count": null,
      "metadata": {
        "id": "7uHmDKFzhDyq",
        "outputId": "233f68ca-cdee-4201-9f35-a18d0412e3ef"
      },
      "outputs": [
        {
          "data": {
            "text/plain": [
              "income_type\n",
              "civil servant     3399.896902\n",
              "employee          2326.499216\n",
              "entrepreneur      2111.176937\n",
              "other             4618.877879\n",
              "retiree          15069.407417\n",
              "Name: days_employed, dtype: float64"
            ]
          },
          "execution_count": 172,
          "metadata": {},
          "output_type": "execute_result"
        }
      ],
      "source": [
        "# Distribución de las medias en función del tipo de ingresos\n",
        "credit_score.groupby('income_type')['days_employed'].mean()"
      ]
    },
    {
      "cell_type": "code",
      "execution_count": null,
      "metadata": {
        "id": "47ICOWLlhDyr",
        "outputId": "59beff76-bf45-4ced-9aff-ef262ed098fa"
      },
      "outputs": [
        {
          "data": {
            "text/plain": [
              "gender\n",
              "F             5550.821946\n",
              "M             3425.285634\n",
              "non-binary    2358.600502\n",
              "Name: days_employed, dtype: float64"
            ]
          },
          "execution_count": 173,
          "metadata": {},
          "output_type": "execute_result"
        }
      ],
      "source": [
        "# Distribución de las medias en función del género\n",
        "credit_score.groupby('gender')['days_employed'].mean()"
      ]
    },
    {
      "cell_type": "markdown",
      "metadata": {
        "id": "yZ63DlVMhDyr"
      },
      "source": [
        "# 4.1 Conclusión:\n",
        "- De la variable 'children' podemos ver que las personas sin hijos, tienden a trabajar más en comparación con las personas con hijos.\n",
        "- De la variable 'age_group' podemos ver que las personas de mayor edad muestran que han trabajado más.\n",
        "- De la variable 'education' podemos ver que las personas con educación primaria tienen casi tantos días de trabajo como las personas con educación superior. Los datos no sugieren que los días trabajados puedan estar directamente relacionados con el nivel académico.\n",
        "- De la variable 'income_type' podemos ver que los pensionados tienen más días de trabajo que otros tipos de trabajos.\n",
        "- See hace evidente la influencia de los valores atipicos al calcular su promedio. Por ende, utilizaremos los valores medianos para rellenar nuestros valores ausentes.    "
      ]
    },
    {
      "cell_type": "code",
      "execution_count": null,
      "metadata": {
        "scrolled": true,
        "id": "cHG0N98ZhDyr"
      },
      "outputs": [],
      "source": [
        "# Cambiar el tipo de dados en \"days_employed\" a números enteros\n",
        "credit_score = credit_score.fillna(0)\n",
        "credit_score['days_employed'] = credit_score['days_employed'].astype('int')"
      ]
    },
    {
      "cell_type": "code",
      "execution_count": null,
      "metadata": {
        "id": "Dm82ITuMhDyr",
        "outputId": "acce7b97-8c42-4607-c8f2-f9e8332c0fce"
      },
      "outputs": [
        {
          "name": "stdout",
          "output_type": "stream",
          "text": [
            "<class 'pandas.core.frame.DataFrame'>\n",
            "RangeIndex: 21525 entries, 0 to 21524\n",
            "Data columns (total 14 columns):\n",
            " #   Column            Non-Null Count  Dtype  \n",
            "---  ------            --------------  -----  \n",
            " 0   children          21525 non-null  int64  \n",
            " 1   days_employed     21525 non-null  int64  \n",
            " 2   dob_years         21525 non-null  float64\n",
            " 3   education         21525 non-null  object \n",
            " 4   education_id      21525 non-null  int64  \n",
            " 5   family_status     21525 non-null  object \n",
            " 6   family_status_id  21525 non-null  int64  \n",
            " 7   gender            21525 non-null  object \n",
            " 8   income_type       21525 non-null  object \n",
            " 9   debt              21525 non-null  int64  \n",
            " 10  total_income      21525 non-null  float64\n",
            " 11  purpose           21525 non-null  object \n",
            " 12  cat_purpose       21525 non-null  object \n",
            " 13  age_group         21525 non-null  object \n",
            "dtypes: float64(2), int64(5), object(7)\n",
            "memory usage: 2.3+ MB\n"
          ]
        }
      ],
      "source": [
        "credit_score.info()"
      ]
    },
    {
      "cell_type": "code",
      "execution_count": null,
      "metadata": {
        "id": "sCObBVJBhDys"
      },
      "outputs": [],
      "source": [
        "# Agrupar los clientes que tiene hijos vs los que no\n",
        "\n",
        "credit_score['parents'] = np.where(credit_score['children']>0, 'con hijos', 'sin hijos')"
      ]
    },
    {
      "cell_type": "code",
      "execution_count": null,
      "metadata": {
        "scrolled": false,
        "id": "FBBnFEkWhDys",
        "outputId": "3f13b172-9025-46a8-c6fa-5de90d47ae85"
      },
      "outputs": [
        {
          "data": {
            "text/plain": [
              "parents\n",
              "con hijos    1461\n",
              "sin hijos    2395\n",
              "Name: days_employed, dtype: int64"
            ]
          },
          "execution_count": 180,
          "metadata": {},
          "output_type": "execute_result"
        }
      ],
      "source": [
        "# Valores medianos de days_employed y si tienen hijos o no\n",
        "credit_score.groupby('parents')['days_employed'].median()"
      ]
    },
    {
      "cell_type": "code",
      "execution_count": null,
      "metadata": {
        "id": "2nUlj4fBhDys",
        "outputId": "76ca67f5-c733-4307-b294-2c8961e3ed80"
      },
      "outputs": [
        {
          "data": {
            "text/plain": [
              "income_type    age_group  gender      parents  \n",
              "civil servant  abuelos    F           sin hijos     3339.0\n",
              "                          M           sin hijos     3506.5\n",
              "               adultos    F           con hijos     2128.0\n",
              "                                      sin hijos     2694.0\n",
              "                          M           con hijos     2802.0\n",
              "                                      sin hijos     2390.0\n",
              "               jóvenes    F           con hijos     1179.0\n",
              "                                      sin hijos      685.0\n",
              "                          M           con hijos      597.0\n",
              "                                      sin hijos      842.0\n",
              "employee       abuelos    F           con hijos     1944.0\n",
              "                                      sin hijos     2517.0\n",
              "                          M           con hijos    10462.5\n",
              "                                      sin hijos     2468.0\n",
              "               adultos    F           con hijos     1439.5\n",
              "                                      sin hijos     1657.0\n",
              "                          M           con hijos     1214.0\n",
              "                                      sin hijos     1281.0\n",
              "               jóvenes    F           con hijos      751.5\n",
              "                                      sin hijos      591.0\n",
              "                          M           con hijos      724.0\n",
              "                                      sin hijos      629.0\n",
              "entrepreneur   abuelos    F           sin hijos     1826.0\n",
              "                          M           sin hijos     1899.0\n",
              "               adultos    F           con hijos     1318.0\n",
              "                                      sin hijos     1478.0\n",
              "                          M           con hijos     1334.0\n",
              "                                      sin hijos     1328.0\n",
              "               jóvenes    F           con hijos      810.0\n",
              "                                      sin hijos      597.0\n",
              "                          M           con hijos      418.5\n",
              "                                      sin hijos      650.0\n",
              "                          non-binary  sin hijos     2358.0\n",
              "other          adultos    F           con hijos     3296.0\n",
              "                                      sin hijos     9855.0\n",
              "                          M           con hijos     4745.0\n",
              "               jóvenes    M           sin hijos      578.0\n",
              "retiree        abuelos    F           con hijos    18250.0\n",
              "                                      sin hijos    17885.0\n",
              "                          M           con hijos    17520.0\n",
              "                                      sin hijos    17885.0\n",
              "               adultos    F           con hijos    14235.0\n",
              "                                      sin hijos    14600.0\n",
              "                          M           con hijos    12592.5\n",
              "                                      sin hijos    14600.0\n",
              "               jóvenes    F           sin hijos     1825.0\n",
              "Name: days_employed, dtype: float64"
            ]
          },
          "execution_count": 181,
          "metadata": {},
          "output_type": "execute_result"
        }
      ],
      "source": [
        "# Comprueba que la función funciona utilizando la mediana\n",
        "credit_score.groupby(['income_type','age_group','gender', 'parents'])['days_employed'].median()"
      ]
    },
    {
      "cell_type": "code",
      "execution_count": null,
      "metadata": {
        "id": "A-Glh3_4hDys",
        "outputId": "dfe17e14-7413-4846-84e9-35571337a569"
      },
      "outputs": [
        {
          "data": {
            "text/plain": [
              "income_type    age_group  gender    \n",
              "civil servant  abuelos    F              3339.0\n",
              "                          M              3506.5\n",
              "               adultos    F              2459.0\n",
              "                          M              2544.0\n",
              "               jóvenes    F               814.5\n",
              "                          M               720.0\n",
              "employee       abuelos    F              2256.5\n",
              "                          M              3069.5\n",
              "               adultos    F              1566.0\n",
              "                          M              1249.0\n",
              "               jóvenes    F               618.0\n",
              "                          M               644.0\n",
              "entrepreneur   abuelos    F              1826.0\n",
              "                          M              1899.0\n",
              "               adultos    F              1427.0\n",
              "                          M              1331.0\n",
              "               jóvenes    F               626.5\n",
              "                          M               581.0\n",
              "                          non-binary     2358.0\n",
              "other          adultos    F              6575.5\n",
              "                          M              4745.0\n",
              "               jóvenes    M               578.0\n",
              "retiree        abuelos    F             17885.0\n",
              "                          M             17885.0\n",
              "               adultos    F             14600.0\n",
              "                          M             14600.0\n",
              "               jóvenes    F              1825.0\n",
              "Name: days_employed, dtype: float64"
            ]
          },
          "execution_count": 182,
          "metadata": {},
          "output_type": "execute_result"
        }
      ],
      "source": [
        "# Aplicar la función al income_type\n",
        "credit_score.groupby(['income_type','age_group','gender'])['days_employed'].median()"
      ]
    },
    {
      "cell_type": "code",
      "execution_count": null,
      "metadata": {
        "id": "OiX8IykFhDyt",
        "outputId": "3189b6e3-8891-4e52-ed13-433b86631e86"
      },
      "outputs": [
        {
          "name": "stdout",
          "output_type": "stream",
          "text": [
            "0         1566.0\n",
            "1         1566.0\n",
            "2         1249.0\n",
            "3         1249.0\n",
            "4        14600.0\n",
            "          ...   \n",
            "21520     1427.0\n",
            "21521    17885.0\n",
            "21522     1249.0\n",
            "21523     1249.0\n",
            "21524     1566.0\n",
            "Name: days_employed, Length: 21525, dtype: float64\n"
          ]
        }
      ],
      "source": [
        "# Crear los valores para reemplazar los valores ausentes\n",
        "replace_days_employed = credit_score.groupby(['income_type','age_group','gender'])['days_employed'].transform('median')\n",
        "print(replace_days_employed)"
      ]
    },
    {
      "cell_type": "code",
      "execution_count": null,
      "metadata": {
        "id": "9f-BPX6VhDyt"
      },
      "outputs": [],
      "source": [
        "# Reemplazar valores ausentes\n",
        "credit_score['days_employed'].fillna(replace_days_employed, inplace = True)"
      ]
    },
    {
      "cell_type": "code",
      "execution_count": null,
      "metadata": {
        "id": "0XOkV1xNhDyt",
        "outputId": "db8e9ec4-ab6a-4066-f14a-6e342e8f95f7"
      },
      "outputs": [
        {
          "data": {
            "text/plain": [
              "0"
            ]
          },
          "execution_count": 185,
          "metadata": {},
          "output_type": "execute_result"
        }
      ],
      "source": [
        "# Comprueba si la función funcionó\n",
        "credit_score['days_employed'].isna().sum()"
      ]
    },
    {
      "cell_type": "code",
      "execution_count": null,
      "metadata": {
        "id": "knmMQjgMhDyu",
        "outputId": "896fd85e-c778-4999-ba82-cfe3182adef0"
      },
      "outputs": [
        {
          "name": "stdout",
          "output_type": "stream",
          "text": [
            "<class 'pandas.core.frame.DataFrame'>\n",
            "RangeIndex: 21525 entries, 0 to 21524\n",
            "Data columns (total 15 columns):\n",
            " #   Column            Non-Null Count  Dtype  \n",
            "---  ------            --------------  -----  \n",
            " 0   children          21525 non-null  int64  \n",
            " 1   days_employed     21525 non-null  int64  \n",
            " 2   dob_years         21525 non-null  float64\n",
            " 3   education         21525 non-null  object \n",
            " 4   education_id      21525 non-null  int64  \n",
            " 5   family_status     21525 non-null  object \n",
            " 6   family_status_id  21525 non-null  int64  \n",
            " 7   gender            21525 non-null  object \n",
            " 8   income_type       21525 non-null  object \n",
            " 9   debt              21525 non-null  int64  \n",
            " 10  total_income      21525 non-null  float64\n",
            " 11  purpose           21525 non-null  object \n",
            " 12  cat_purpose       21525 non-null  object \n",
            " 13  age_group         21525 non-null  object \n",
            " 14  parents           21525 non-null  object \n",
            "dtypes: float64(2), int64(5), object(8)\n",
            "memory usage: 2.5+ MB\n"
          ]
        }
      ],
      "source": [
        "# Comprueba las entradas en todas las columnas: asegúrate de que hayamos corregido todos los valores ausentes\n",
        "credit_score.info()"
      ]
    },
    {
      "cell_type": "markdown",
      "metadata": {
        "id": "anmyFMy3hDyu"
      },
      "source": [
        "# Etapa 5. Clasificación de datos"
      ]
    },
    {
      "cell_type": "markdown",
      "metadata": {
        "id": "H4e26pYahDyu"
      },
      "source": [
        "**Observaciones:**\n",
        "\n",
        "Hasta el momento hemos clasificado las siguientes categorías:\n",
        "- 'dob_years' agrupados en rangos de edad llamada 'age_group'.\n",
        "- 'children' transformada en una variable 'parents' con o sin hijos.\n",
        "- 'purpose' se tranformo a 4 categorías generales: real estate, car purchase, education y wedding."
      ]
    },
    {
      "cell_type": "code",
      "execution_count": null,
      "metadata": {
        "id": "0CsxzDS9hDyu",
        "outputId": "e60b2e20-e9ee-498d-90e5-96a984c53405"
      },
      "outputs": [
        {
          "data": {
            "text/plain": [
              "count     21525.000000\n",
              "mean      26457.490494\n",
              "std       15723.203750\n",
              "min        3306.762000\n",
              "25%       17234.448000\n",
              "50%       23181.085000\n",
              "75%       31461.575000\n",
              "max      362496.645000\n",
              "Name: total_income, dtype: float64"
            ]
          },
          "execution_count": 187,
          "metadata": {},
          "output_type": "execute_result"
        }
      ],
      "source": [
        "credit_score['total_income'].describe()"
      ]
    },
    {
      "cell_type": "markdown",
      "metadata": {
        "id": "l2bHtUiahDyv"
      },
      "source": [
        "Basado en estos valores, crearemos nuestros estratos sociales:\n",
        "- Clase alta: > 80000\n",
        "- Clase media: 20000 - 80000\n",
        "- Clasa baja: < 20000"
      ]
    },
    {
      "cell_type": "code",
      "execution_count": null,
      "metadata": {
        "scrolled": true,
        "id": "0FF5D6hkhDyv"
      },
      "outputs": [],
      "source": [
        "# Muestra los valores de los datos seleccionados para la clasificación\n",
        "# Vamos a escribir una función que calcule el estrato social basado en total_income\n",
        "\n",
        "def social_status(income):\n",
        "    if income < 20000:\n",
        "        return 'clase baja'\n",
        "    elif (income > 20000) and (income < 80000):\n",
        "        return 'clase media'\n",
        "    else:\n",
        "        return 'clase alta' "
      ]
    },
    {
      "cell_type": "code",
      "execution_count": null,
      "metadata": {
        "id": "kWIk90JuhDyv",
        "outputId": "f91a1751-d7ce-46b2-cd4d-8776c48a8461"
      },
      "outputs": [
        {
          "name": "stdout",
          "output_type": "stream",
          "text": [
            "clase baja\n",
            "clase baja\n",
            "clase media\n",
            "clase media\n",
            "clase alta\n"
          ]
        }
      ],
      "source": [
        "# Prueba si la función funciona bien\n",
        "print(social_status(3306.762000))\n",
        "print(social_status(17234.415000))\n",
        "print(social_status(23181.085000))\n",
        "print(social_status(31456.873250))\n",
        "print(social_status(362496.645))"
      ]
    },
    {
      "cell_type": "code",
      "execution_count": null,
      "metadata": {
        "id": "TvNPJBhUhDyv",
        "outputId": "504f1349-4dab-46b8-f50c-70d24af99f91"
      },
      "outputs": [
        {
          "data": {
            "text/html": [
              "<div>\n",
              "<style scoped>\n",
              "    .dataframe tbody tr th:only-of-type {\n",
              "        vertical-align: middle;\n",
              "    }\n",
              "\n",
              "    .dataframe tbody tr th {\n",
              "        vertical-align: top;\n",
              "    }\n",
              "\n",
              "    .dataframe thead th {\n",
              "        text-align: right;\n",
              "    }\n",
              "</style>\n",
              "<table border=\"1\" class=\"dataframe\">\n",
              "  <thead>\n",
              "    <tr style=\"text-align: right;\">\n",
              "      <th></th>\n",
              "      <th>children</th>\n",
              "      <th>days_employed</th>\n",
              "      <th>dob_years</th>\n",
              "      <th>education</th>\n",
              "      <th>education_id</th>\n",
              "      <th>family_status</th>\n",
              "      <th>family_status_id</th>\n",
              "      <th>gender</th>\n",
              "      <th>income_type</th>\n",
              "      <th>debt</th>\n",
              "      <th>total_income</th>\n",
              "      <th>purpose</th>\n",
              "      <th>cat_purpose</th>\n",
              "      <th>age_group</th>\n",
              "      <th>parents</th>\n",
              "      <th>social_status</th>\n",
              "    </tr>\n",
              "  </thead>\n",
              "  <tbody>\n",
              "    <tr>\n",
              "      <th>0</th>\n",
              "      <td>1</td>\n",
              "      <td>8437</td>\n",
              "      <td>42.0</td>\n",
              "      <td>bachelor's degree</td>\n",
              "      <td>0</td>\n",
              "      <td>married</td>\n",
              "      <td>0</td>\n",
              "      <td>F</td>\n",
              "      <td>employee</td>\n",
              "      <td>0</td>\n",
              "      <td>40620.102</td>\n",
              "      <td>purchase of the house</td>\n",
              "      <td>real_estate</td>\n",
              "      <td>adultos</td>\n",
              "      <td>con hijos</td>\n",
              "      <td>clase media</td>\n",
              "    </tr>\n",
              "    <tr>\n",
              "      <th>1</th>\n",
              "      <td>1</td>\n",
              "      <td>4024</td>\n",
              "      <td>36.0</td>\n",
              "      <td>secondary education</td>\n",
              "      <td>1</td>\n",
              "      <td>married</td>\n",
              "      <td>0</td>\n",
              "      <td>F</td>\n",
              "      <td>employee</td>\n",
              "      <td>0</td>\n",
              "      <td>17932.802</td>\n",
              "      <td>car purchase</td>\n",
              "      <td>car</td>\n",
              "      <td>adultos</td>\n",
              "      <td>con hijos</td>\n",
              "      <td>clase baja</td>\n",
              "    </tr>\n",
              "    <tr>\n",
              "      <th>2</th>\n",
              "      <td>0</td>\n",
              "      <td>5623</td>\n",
              "      <td>33.0</td>\n",
              "      <td>secondary education</td>\n",
              "      <td>1</td>\n",
              "      <td>married</td>\n",
              "      <td>0</td>\n",
              "      <td>M</td>\n",
              "      <td>employee</td>\n",
              "      <td>0</td>\n",
              "      <td>23341.752</td>\n",
              "      <td>purchase of the house</td>\n",
              "      <td>real_estate</td>\n",
              "      <td>adultos</td>\n",
              "      <td>sin hijos</td>\n",
              "      <td>clase media</td>\n",
              "    </tr>\n",
              "    <tr>\n",
              "      <th>3</th>\n",
              "      <td>3</td>\n",
              "      <td>4124</td>\n",
              "      <td>32.0</td>\n",
              "      <td>secondary education</td>\n",
              "      <td>1</td>\n",
              "      <td>married</td>\n",
              "      <td>0</td>\n",
              "      <td>M</td>\n",
              "      <td>employee</td>\n",
              "      <td>0</td>\n",
              "      <td>42820.568</td>\n",
              "      <td>supplementary education</td>\n",
              "      <td>education</td>\n",
              "      <td>adultos</td>\n",
              "      <td>con hijos</td>\n",
              "      <td>clase media</td>\n",
              "    </tr>\n",
              "    <tr>\n",
              "      <th>4</th>\n",
              "      <td>0</td>\n",
              "      <td>12775</td>\n",
              "      <td>53.0</td>\n",
              "      <td>secondary education</td>\n",
              "      <td>1</td>\n",
              "      <td>civil partnership</td>\n",
              "      <td>1</td>\n",
              "      <td>F</td>\n",
              "      <td>retiree</td>\n",
              "      <td>0</td>\n",
              "      <td>25378.572</td>\n",
              "      <td>to have a wedding</td>\n",
              "      <td>wedding</td>\n",
              "      <td>adultos</td>\n",
              "      <td>sin hijos</td>\n",
              "      <td>clase media</td>\n",
              "    </tr>\n",
              "  </tbody>\n",
              "</table>\n",
              "</div>"
            ],
            "text/plain": [
              "   children  days_employed  dob_years            education  education_id  \\\n",
              "0         1           8437       42.0    bachelor's degree             0   \n",
              "1         1           4024       36.0  secondary education             1   \n",
              "2         0           5623       33.0  secondary education             1   \n",
              "3         3           4124       32.0  secondary education             1   \n",
              "4         0          12775       53.0  secondary education             1   \n",
              "\n",
              "       family_status  family_status_id gender income_type  debt  total_income  \\\n",
              "0            married                 0      F    employee     0     40620.102   \n",
              "1            married                 0      F    employee     0     17932.802   \n",
              "2            married                 0      M    employee     0     23341.752   \n",
              "3            married                 0      M    employee     0     42820.568   \n",
              "4  civil partnership                 1      F     retiree     0     25378.572   \n",
              "\n",
              "                   purpose  cat_purpose age_group    parents social_status  \n",
              "0    purchase of the house  real_estate   adultos  con hijos   clase media  \n",
              "1             car purchase          car   adultos  con hijos    clase baja  \n",
              "2    purchase of the house  real_estate   adultos  sin hijos   clase media  \n",
              "3  supplementary education    education   adultos  con hijos   clase media  \n",
              "4        to have a wedding      wedding   adultos  sin hijos   clase media  "
            ]
          },
          "execution_count": 190,
          "metadata": {},
          "output_type": "execute_result"
        }
      ],
      "source": [
        "# Crear una nueva columna basada en la función\n",
        "credit_score['social_status'] = credit_score['total_income'].apply(social_status)\n",
        "credit_score.head()"
      ]
    },
    {
      "cell_type": "code",
      "execution_count": null,
      "metadata": {
        "id": "tHfZRDb4hDyw",
        "outputId": "2f49cb93-aa5a-4446-a147-1a1dc2b706ff"
      },
      "outputs": [
        {
          "data": {
            "text/plain": [
              "clase media    13108\n",
              "clase baja      8195\n",
              "clase alta       222\n",
              "Name: social_status, dtype: int64"
            ]
          },
          "execution_count": 191,
          "metadata": {},
          "output_type": "execute_result"
        }
      ],
      "source": [
        "# Crea una columna con las categorías y cuenta los valores en ellas\n",
        "credit_score['social_status'].value_counts()\n"
      ]
    },
    {
      "cell_type": "code",
      "execution_count": null,
      "metadata": {
        "id": "50AY4CEZhDyw",
        "outputId": "ed54f32f-3948-4e09-e514-8424ca3f2056"
      },
      "outputs": [
        {
          "data": {
            "text/plain": [
              "count           21525\n",
              "unique              3\n",
              "top       clase media\n",
              "freq            13108\n",
              "Name: social_status, dtype: object"
            ]
          },
          "execution_count": 192,
          "metadata": {},
          "output_type": "execute_result"
        }
      ],
      "source": [
        "# Obtener estadísticas resumidas para la columna\n",
        "credit_score['social_status'].describe()"
      ]
    },
    {
      "cell_type": "markdown",
      "metadata": {
        "id": "SU_CIRr6hDyw"
      },
      "source": [
        "# 5.1 Comprobación de las hipótesis\n"
      ]
    },
    {
      "cell_type": "markdown",
      "metadata": {
        "id": "RP9Y_6NshDyw"
      },
      "source": [
        "**¿Existe una correlación entre tener hijos y pagar a tiempo?**"
      ]
    },
    {
      "cell_type": "code",
      "execution_count": null,
      "metadata": {
        "id": "90CZ3ICzhDyw",
        "outputId": "8084150a-01cc-4e06-b738-426625fa91ff"
      },
      "outputs": [
        {
          "data": {
            "text/html": [
              "<div>\n",
              "<style scoped>\n",
              "    .dataframe tbody tr th:only-of-type {\n",
              "        vertical-align: middle;\n",
              "    }\n",
              "\n",
              "    .dataframe tbody tr th {\n",
              "        vertical-align: top;\n",
              "    }\n",
              "\n",
              "    .dataframe thead th {\n",
              "        text-align: right;\n",
              "    }\n",
              "</style>\n",
              "<table border=\"1\" class=\"dataframe\">\n",
              "  <thead>\n",
              "    <tr style=\"text-align: right;\">\n",
              "      <th>debt</th>\n",
              "      <th>0</th>\n",
              "      <th>1</th>\n",
              "    </tr>\n",
              "    <tr>\n",
              "      <th>parents</th>\n",
              "      <th></th>\n",
              "      <th></th>\n",
              "    </tr>\n",
              "  </thead>\n",
              "  <tbody>\n",
              "    <tr>\n",
              "      <th>con hijos</th>\n",
              "      <td>6698</td>\n",
              "      <td>678</td>\n",
              "    </tr>\n",
              "    <tr>\n",
              "      <th>sin hijos</th>\n",
              "      <td>13086</td>\n",
              "      <td>1063</td>\n",
              "    </tr>\n",
              "  </tbody>\n",
              "</table>\n",
              "</div>"
            ],
            "text/plain": [
              "debt           0     1\n",
              "parents               \n",
              "con hijos   6698   678\n",
              "sin hijos  13086  1063"
            ]
          },
          "execution_count": 193,
          "metadata": {},
          "output_type": "execute_result"
        }
      ],
      "source": [
        "credit_score.pivot_table(index='parents', columns='debt', values='days_employed', aggfunc='count')"
      ]
    },
    {
      "cell_type": "code",
      "execution_count": null,
      "metadata": {
        "id": "VLfUaUS3hDyx",
        "outputId": "786747c9-b9b4-43e1-932d-15f2f172b7fd"
      },
      "outputs": [
        {
          "data": {
            "text/plain": [
              "parents\n",
              "con hijos     7376\n",
              "sin hijos    14149\n",
              "Name: debt, dtype: int64"
            ]
          },
          "execution_count": 194,
          "metadata": {},
          "output_type": "execute_result"
        }
      ],
      "source": [
        "# Comprueba los datos sobre los hijos y los pagos puntuales\n",
        "credit_score.groupby(['parents'])['debt'].count()"
      ]
    },
    {
      "cell_type": "code",
      "execution_count": null,
      "metadata": {
        "id": "9LZ_mPxkhDyx",
        "outputId": "048ec1aa-04a2-40df-bd51-11baa72f7fa5"
      },
      "outputs": [
        {
          "data": {
            "text/plain": [
              "parents\n",
              "con hijos     678\n",
              "sin hijos    1063\n",
              "Name: debt, dtype: int64"
            ]
          },
          "execution_count": 195,
          "metadata": {},
          "output_type": "execute_result"
        }
      ],
      "source": [
        "credit_score.groupby(['parents'])['debt'].sum()"
      ]
    },
    {
      "cell_type": "code",
      "execution_count": null,
      "metadata": {
        "id": "gIbgAfcfhDyx",
        "outputId": "70ae3692-fb33-452b-d9b0-5ec66e89ef6a"
      },
      "outputs": [
        {
          "name": "stdout",
          "output_type": "stream",
          "text": [
            "parents\n",
            "con hijos    3.1\n",
            "sin hijos    4.9\n",
            "Name: debt, dtype: float64\n"
          ]
        }
      ],
      "source": [
        "# Calcular la tasa de incumplimiento en función de hijos\n",
        "parents_debt_relation = credit_score.groupby(['parents'])['debt'].sum()\n",
        "tasa_incumplimiento_parents = (parents_debt_relation/len(credit_score))*100\n",
        "print(tasa_incumplimiento_parents.round(1))"
      ]
    },
    {
      "cell_type": "markdown",
      "metadata": {
        "id": "egNHKVfmhDyx"
      },
      "source": [
        "**¿Existe una correlación entre el número de hijos y pagar a tiempo?**"
      ]
    },
    {
      "cell_type": "code",
      "execution_count": null,
      "metadata": {
        "id": "_nK7GyvchDyx",
        "outputId": "147b0682-46e7-4c36-c7cf-286b75209536"
      },
      "outputs": [
        {
          "data": {
            "text/html": [
              "<div>\n",
              "<style scoped>\n",
              "    .dataframe tbody tr th:only-of-type {\n",
              "        vertical-align: middle;\n",
              "    }\n",
              "\n",
              "    .dataframe tbody tr th {\n",
              "        vertical-align: top;\n",
              "    }\n",
              "\n",
              "    .dataframe thead th {\n",
              "        text-align: right;\n",
              "    }\n",
              "</style>\n",
              "<table border=\"1\" class=\"dataframe\">\n",
              "  <thead>\n",
              "    <tr style=\"text-align: right;\">\n",
              "      <th>debt</th>\n",
              "      <th>0</th>\n",
              "      <th>1</th>\n",
              "    </tr>\n",
              "    <tr>\n",
              "      <th>children</th>\n",
              "      <th></th>\n",
              "      <th></th>\n",
              "    </tr>\n",
              "  </thead>\n",
              "  <tbody>\n",
              "    <tr>\n",
              "      <th>0</th>\n",
              "      <td>13086.0</td>\n",
              "      <td>1063.0</td>\n",
              "    </tr>\n",
              "    <tr>\n",
              "      <th>1</th>\n",
              "      <td>4420.0</td>\n",
              "      <td>445.0</td>\n",
              "    </tr>\n",
              "    <tr>\n",
              "      <th>2</th>\n",
              "      <td>1929.0</td>\n",
              "      <td>202.0</td>\n",
              "    </tr>\n",
              "    <tr>\n",
              "      <th>3</th>\n",
              "      <td>303.0</td>\n",
              "      <td>27.0</td>\n",
              "    </tr>\n",
              "    <tr>\n",
              "      <th>4</th>\n",
              "      <td>37.0</td>\n",
              "      <td>4.0</td>\n",
              "    </tr>\n",
              "    <tr>\n",
              "      <th>5</th>\n",
              "      <td>9.0</td>\n",
              "      <td>NaN</td>\n",
              "    </tr>\n",
              "  </tbody>\n",
              "</table>\n",
              "</div>"
            ],
            "text/plain": [
              "debt            0       1\n",
              "children                 \n",
              "0         13086.0  1063.0\n",
              "1          4420.0   445.0\n",
              "2          1929.0   202.0\n",
              "3           303.0    27.0\n",
              "4            37.0     4.0\n",
              "5             9.0     NaN"
            ]
          },
          "execution_count": 197,
          "metadata": {},
          "output_type": "execute_result"
        }
      ],
      "source": [
        "credit_score.pivot_table(index='children', columns='debt', values='days_employed', aggfunc='count')"
      ]
    },
    {
      "cell_type": "code",
      "execution_count": null,
      "metadata": {
        "id": "H66DsqqphDyy",
        "outputId": "b1cf089f-19c4-48ab-8607-36dae7f5a8e2"
      },
      "outputs": [
        {
          "data": {
            "text/plain": [
              "children\n",
              "0    14149\n",
              "1     4865\n",
              "2     2131\n",
              "3      330\n",
              "4       41\n",
              "5        9\n",
              "Name: debt, dtype: int64"
            ]
          },
          "execution_count": 198,
          "metadata": {},
          "output_type": "execute_result"
        }
      ],
      "source": [
        "credit_score.groupby(['children'])['debt'].count()"
      ]
    },
    {
      "cell_type": "code",
      "execution_count": null,
      "metadata": {
        "id": "VLswwp7zhDyy",
        "outputId": "f84239ec-aa4a-4c56-9cf1-09774caea88c"
      },
      "outputs": [
        {
          "data": {
            "text/plain": [
              "children\n",
              "0    1063\n",
              "1     445\n",
              "2     202\n",
              "3      27\n",
              "4       4\n",
              "5       0\n",
              "Name: debt, dtype: int64"
            ]
          },
          "execution_count": 199,
          "metadata": {},
          "output_type": "execute_result"
        }
      ],
      "source": [
        "credit_score.groupby(['children'])['debt'].sum()"
      ]
    },
    {
      "cell_type": "code",
      "execution_count": null,
      "metadata": {
        "id": "76xbMCDQhDyy",
        "outputId": "91006a1e-caf4-4986-bd93-64f8f3a3e0c4"
      },
      "outputs": [
        {
          "name": "stdout",
          "output_type": "stream",
          "text": [
            "children\n",
            "0    4.9\n",
            "1    2.1\n",
            "2    0.9\n",
            "3    0.1\n",
            "4    0.0\n",
            "5    0.0\n",
            "Name: debt, dtype: float64\n"
          ]
        }
      ],
      "source": [
        "# Calcular la tasa de incumplimiento en función del número de hijos\n",
        "children_debt_relation = credit_score.groupby(['children'])['debt'].sum()\n",
        "tasa_incumplimiento_children = (children_debt_relation/len(credit_score))*100\n",
        "print(tasa_incumplimiento_children.round(1))"
      ]
    },
    {
      "cell_type": "markdown",
      "metadata": {
        "id": "zx5TIntghDyy"
      },
      "source": [
        "**Conclusión**\n",
        "- Los resultados muestran que los clientes sin hijos, tienden a ser propensos más a las deudas. \n",
        "- Si miramos en detalle si la cantidad de hijos hace que el cliente sea propenso a las deudas, se ve que entre más hijos, no deudas se evidencia. Y lo contrario, entre menor número de hijos o sin hijos, el grado de endeudamiento aumenta."
      ]
    },
    {
      "cell_type": "markdown",
      "metadata": {
        "id": "YOfg4495hDyy"
      },
      "source": [
        "**¿Existe una correlación entre la situación familiar y el pago a tiempo?**"
      ]
    },
    {
      "cell_type": "code",
      "execution_count": null,
      "metadata": {
        "id": "57Z05LkmhDyz",
        "outputId": "d559da01-5501-40c6-ccfb-080ce1715f78"
      },
      "outputs": [
        {
          "data": {
            "text/html": [
              "<div>\n",
              "<style scoped>\n",
              "    .dataframe tbody tr th:only-of-type {\n",
              "        vertical-align: middle;\n",
              "    }\n",
              "\n",
              "    .dataframe tbody tr th {\n",
              "        vertical-align: top;\n",
              "    }\n",
              "\n",
              "    .dataframe thead th {\n",
              "        text-align: right;\n",
              "    }\n",
              "</style>\n",
              "<table border=\"1\" class=\"dataframe\">\n",
              "  <thead>\n",
              "    <tr style=\"text-align: right;\">\n",
              "      <th>debt</th>\n",
              "      <th>0</th>\n",
              "      <th>1</th>\n",
              "    </tr>\n",
              "    <tr>\n",
              "      <th>family_status</th>\n",
              "      <th></th>\n",
              "      <th></th>\n",
              "    </tr>\n",
              "  </thead>\n",
              "  <tbody>\n",
              "    <tr>\n",
              "      <th>civil partnership</th>\n",
              "      <td>3789</td>\n",
              "      <td>388</td>\n",
              "    </tr>\n",
              "    <tr>\n",
              "      <th>divorced</th>\n",
              "      <td>1110</td>\n",
              "      <td>85</td>\n",
              "    </tr>\n",
              "    <tr>\n",
              "      <th>married</th>\n",
              "      <td>11449</td>\n",
              "      <td>931</td>\n",
              "    </tr>\n",
              "    <tr>\n",
              "      <th>unmarried</th>\n",
              "      <td>2539</td>\n",
              "      <td>274</td>\n",
              "    </tr>\n",
              "    <tr>\n",
              "      <th>widow / widower</th>\n",
              "      <td>897</td>\n",
              "      <td>63</td>\n",
              "    </tr>\n",
              "  </tbody>\n",
              "</table>\n",
              "</div>"
            ],
            "text/plain": [
              "debt                   0    1\n",
              "family_status                \n",
              "civil partnership   3789  388\n",
              "divorced            1110   85\n",
              "married            11449  931\n",
              "unmarried           2539  274\n",
              "widow / widower      897   63"
            ]
          },
          "execution_count": 201,
          "metadata": {},
          "output_type": "execute_result"
        }
      ],
      "source": [
        "credit_score.pivot_table(index='family_status', columns='debt', values='days_employed', aggfunc='count')"
      ]
    },
    {
      "cell_type": "code",
      "execution_count": null,
      "metadata": {
        "id": "ztzBUZU1hDyz",
        "outputId": "10e43d99-1a4e-4086-c247-7ee3d0d7b854"
      },
      "outputs": [
        {
          "data": {
            "text/plain": [
              "family_status\n",
              "civil partnership    388\n",
              "divorced              85\n",
              "married              931\n",
              "unmarried            274\n",
              "widow / widower       63\n",
              "Name: debt, dtype: int64"
            ]
          },
          "execution_count": 202,
          "metadata": {},
          "output_type": "execute_result"
        }
      ],
      "source": [
        "# Comprueba los datos del estado familiar y los pagos a tiempo\n",
        "credit_score.groupby(['family_status'])['debt'].sum()"
      ]
    },
    {
      "cell_type": "code",
      "execution_count": null,
      "metadata": {
        "id": "OOIjtR5bhDyz",
        "outputId": "f9c8bf91-ec55-4069-d2a0-1a7a46141390"
      },
      "outputs": [
        {
          "data": {
            "text/plain": [
              "family_status\n",
              "civil partnership     4177\n",
              "divorced              1195\n",
              "married              12380\n",
              "unmarried             2813\n",
              "widow / widower        960\n",
              "Name: debt, dtype: int64"
            ]
          },
          "execution_count": 203,
          "metadata": {},
          "output_type": "execute_result"
        }
      ],
      "source": [
        "credit_score.groupby(['family_status'])['debt'].count()"
      ]
    },
    {
      "cell_type": "code",
      "execution_count": null,
      "metadata": {
        "id": "PdYrRInWhDyz",
        "outputId": "e2901714-e118-4fe9-f432-e991fcac1a9e"
      },
      "outputs": [
        {
          "name": "stdout",
          "output_type": "stream",
          "text": [
            "family_status\n",
            "civil partnership    1.802555\n",
            "divorced             0.394890\n",
            "married              4.325203\n",
            "unmarried            1.272938\n",
            "widow / widower      0.292683\n",
            "Name: debt, dtype: float64\n"
          ]
        }
      ],
      "source": [
        "# Calcular la tasa de incumplimiento basada en el estado familiar\n",
        "family_debt_relation = credit_score.groupby(['family_status'])['debt'].sum()\n",
        "tasa_incumplimiento_family = (family_debt_relation/len(credit_score))*100\n",
        "print(tasa_incumplimiento_family)"
      ]
    },
    {
      "cell_type": "markdown",
      "metadata": {
        "id": "W1KD9VExhDyz"
      },
      "source": [
        "**Conclusión**\n",
        "- Los clientes casados muestra mayor endeudamiento que el resto de grupos familiares. Mientras que los divorciados y/o viudos presentan las tasas más bajas de endeudamiento."
      ]
    },
    {
      "cell_type": "markdown",
      "metadata": {
        "id": "kWE3brPvhDy0"
      },
      "source": [
        "**¿Existe una correlación entre el nivel de ingresos y el pago a tiempo?**"
      ]
    },
    {
      "cell_type": "code",
      "execution_count": null,
      "metadata": {
        "id": "g5GUOF12hDy0",
        "outputId": "e5c1a994-472c-4537-9a22-03072250292f"
      },
      "outputs": [
        {
          "data": {
            "text/html": [
              "<div>\n",
              "<style scoped>\n",
              "    .dataframe tbody tr th:only-of-type {\n",
              "        vertical-align: middle;\n",
              "    }\n",
              "\n",
              "    .dataframe tbody tr th {\n",
              "        vertical-align: top;\n",
              "    }\n",
              "\n",
              "    .dataframe thead th {\n",
              "        text-align: right;\n",
              "    }\n",
              "</style>\n",
              "<table border=\"1\" class=\"dataframe\">\n",
              "  <thead>\n",
              "    <tr style=\"text-align: right;\">\n",
              "      <th>debt</th>\n",
              "      <th>0</th>\n",
              "      <th>1</th>\n",
              "    </tr>\n",
              "    <tr>\n",
              "      <th>social_status</th>\n",
              "      <th></th>\n",
              "      <th></th>\n",
              "    </tr>\n",
              "  </thead>\n",
              "  <tbody>\n",
              "    <tr>\n",
              "      <th>clase alta</th>\n",
              "      <td>208</td>\n",
              "      <td>14</td>\n",
              "    </tr>\n",
              "    <tr>\n",
              "      <th>clase baja</th>\n",
              "      <td>7523</td>\n",
              "      <td>672</td>\n",
              "    </tr>\n",
              "    <tr>\n",
              "      <th>clase media</th>\n",
              "      <td>12053</td>\n",
              "      <td>1055</td>\n",
              "    </tr>\n",
              "  </tbody>\n",
              "</table>\n",
              "</div>"
            ],
            "text/plain": [
              "debt               0     1\n",
              "social_status             \n",
              "clase alta       208    14\n",
              "clase baja      7523   672\n",
              "clase media    12053  1055"
            ]
          },
          "execution_count": 205,
          "metadata": {},
          "output_type": "execute_result"
        }
      ],
      "source": [
        "credit_score.pivot_table(index='social_status', columns='debt', values='days_employed', aggfunc='count')"
      ]
    },
    {
      "cell_type": "code",
      "execution_count": null,
      "metadata": {
        "id": "iwixUkeLhDy0",
        "outputId": "a65b2ae8-13e5-425a-f20f-2c89a6d6fba0"
      },
      "outputs": [
        {
          "data": {
            "text/plain": [
              "social_status\n",
              "clase alta       14\n",
              "clase baja      672\n",
              "clase media    1055\n",
              "Name: debt, dtype: int64"
            ]
          },
          "execution_count": 206,
          "metadata": {},
          "output_type": "execute_result"
        }
      ],
      "source": [
        "# Comprueba los datos del nivel de ingresos y los pagos a tiempo\n",
        "credit_score.groupby(['social_status'])['debt'].sum()"
      ]
    },
    {
      "cell_type": "code",
      "execution_count": null,
      "metadata": {
        "id": "j7pQbCDZhDy0",
        "outputId": "a1058eae-48ec-44b0-ab2c-274e0bf8d63d"
      },
      "outputs": [
        {
          "data": {
            "text/plain": [
              "social_status\n",
              "clase alta       222\n",
              "clase baja      8195\n",
              "clase media    13108\n",
              "Name: debt, dtype: int64"
            ]
          },
          "execution_count": 207,
          "metadata": {},
          "output_type": "execute_result"
        }
      ],
      "source": [
        "credit_score.groupby(['social_status'])['debt'].count()"
      ]
    },
    {
      "cell_type": "code",
      "execution_count": null,
      "metadata": {
        "id": "5orWxKWmhDy0",
        "outputId": "393e201e-7721-402b-c1e6-c6f588357e5e"
      },
      "outputs": [
        {
          "name": "stdout",
          "output_type": "stream",
          "text": [
            "social_status\n",
            "clase alta     0.065041\n",
            "clase baja     3.121951\n",
            "clase media    4.901278\n",
            "Name: debt, dtype: float64\n"
          ]
        }
      ],
      "source": [
        "# Calcular la tasa de incumplimiento basada en el nivel de ingresos\n",
        "income_debt_relation = credit_score.groupby(['social_status'])['debt'].sum()\n",
        "tasa_incumplimiento_income = (income_debt_relation/len(credit_score))*100\n",
        "print(tasa_incumplimiento_income)"
      ]
    },
    {
      "cell_type": "markdown",
      "metadata": {
        "id": "05tYRHPrhDy1"
      },
      "source": [
        "**Conclusión**\n",
        "\n",
        "- De acuerdo con la división que hicimos de estrato social en total_income , tenemos que la clase media y la clase baja tienen las mayores tasas de endeudamiento; lo cual es una conclusión entendible, ya que a mayores ingresos, menor la necesidad de endeudarse."
      ]
    },
    {
      "cell_type": "markdown",
      "metadata": {
        "id": "493ObNUehDy1"
      },
      "source": [
        "**¿Cómo afecta el propósito del crédito a la tasa de incumplimiento?**"
      ]
    },
    {
      "cell_type": "code",
      "execution_count": null,
      "metadata": {
        "id": "UBSXhAaghDy1",
        "outputId": "7e8deaaf-57f1-4f4f-e0fe-590f985551f0"
      },
      "outputs": [
        {
          "data": {
            "text/html": [
              "<div>\n",
              "<style scoped>\n",
              "    .dataframe tbody tr th:only-of-type {\n",
              "        vertical-align: middle;\n",
              "    }\n",
              "\n",
              "    .dataframe tbody tr th {\n",
              "        vertical-align: top;\n",
              "    }\n",
              "\n",
              "    .dataframe thead th {\n",
              "        text-align: right;\n",
              "    }\n",
              "</style>\n",
              "<table border=\"1\" class=\"dataframe\">\n",
              "  <thead>\n",
              "    <tr style=\"text-align: right;\">\n",
              "      <th>debt</th>\n",
              "      <th>0</th>\n",
              "      <th>1</th>\n",
              "    </tr>\n",
              "    <tr>\n",
              "      <th>cat_purpose</th>\n",
              "      <th></th>\n",
              "      <th></th>\n",
              "    </tr>\n",
              "  </thead>\n",
              "  <tbody>\n",
              "    <tr>\n",
              "      <th>car</th>\n",
              "      <td>3912</td>\n",
              "      <td>403</td>\n",
              "    </tr>\n",
              "    <tr>\n",
              "      <th>education</th>\n",
              "      <td>3652</td>\n",
              "      <td>370</td>\n",
              "    </tr>\n",
              "    <tr>\n",
              "      <th>real_estate</th>\n",
              "      <td>10058</td>\n",
              "      <td>782</td>\n",
              "    </tr>\n",
              "    <tr>\n",
              "      <th>wedding</th>\n",
              "      <td>2162</td>\n",
              "      <td>186</td>\n",
              "    </tr>\n",
              "  </tbody>\n",
              "</table>\n",
              "</div>"
            ],
            "text/plain": [
              "debt             0    1\n",
              "cat_purpose            \n",
              "car           3912  403\n",
              "education     3652  370\n",
              "real_estate  10058  782\n",
              "wedding       2162  186"
            ]
          },
          "execution_count": 209,
          "metadata": {},
          "output_type": "execute_result"
        }
      ],
      "source": [
        "credit_score.pivot_table(index='cat_purpose', columns='debt', values='days_employed', aggfunc='count')"
      ]
    },
    {
      "cell_type": "code",
      "execution_count": null,
      "metadata": {
        "id": "k9HbBJpchDy1",
        "outputId": "81cd11f8-3424-4136-f810-4d63007a09e9"
      },
      "outputs": [
        {
          "data": {
            "text/plain": [
              "cat_purpose\n",
              "car            403\n",
              "education      370\n",
              "real_estate    782\n",
              "wedding        186\n",
              "Name: debt, dtype: int64"
            ]
          },
          "execution_count": 210,
          "metadata": {},
          "output_type": "execute_result"
        }
      ],
      "source": [
        "# Consulta los porcentajes de tasa de incumplimiento para cada propósito del crédito y analízalos\n",
        "credit_score.groupby(['cat_purpose'])['debt'].sum()"
      ]
    },
    {
      "cell_type": "code",
      "execution_count": null,
      "metadata": {
        "id": "ifpZcH9-hDy1",
        "outputId": "69ec4a5c-08fe-499e-e979-9854787d5ed5"
      },
      "outputs": [
        {
          "data": {
            "text/plain": [
              "cat_purpose\n",
              "car             4315\n",
              "education       4022\n",
              "real_estate    10840\n",
              "wedding         2348\n",
              "Name: debt, dtype: int64"
            ]
          },
          "execution_count": 211,
          "metadata": {},
          "output_type": "execute_result"
        }
      ],
      "source": [
        "credit_score.groupby(['cat_purpose'])['debt'].count()"
      ]
    },
    {
      "cell_type": "code",
      "execution_count": null,
      "metadata": {
        "id": "mQzbKrFZhDy2",
        "outputId": "ce16de71-c35d-4371-a235-52b557fe5429"
      },
      "outputs": [
        {
          "name": "stdout",
          "output_type": "stream",
          "text": [
            "cat_purpose\n",
            "car            1.872242\n",
            "education      1.718931\n",
            "real_estate    3.632985\n",
            "wedding        0.864111\n",
            "Name: debt, dtype: float64\n"
          ]
        }
      ],
      "source": [
        "# Calcular la tasa de incumplimiento basada en el propósito\n",
        "purpose_debt_relation = credit_score.groupby(['cat_purpose'])['debt'].sum()\n",
        "tasa_incumplimiento_purpose = (purpose_debt_relation/len(credit_score))*100\n",
        "print(tasa_incumplimiento_purpose)"
      ]
    },
    {
      "cell_type": "markdown",
      "metadata": {
        "id": "S7w7bbNGhDy2"
      },
      "source": [
        "**Conclusión**\n",
        "- La tasa de endeudamiento para 'real estate', es decir para bíen raíz es más alta que cualquier otra categoría. Pero se hace obvio este resultado, ya que la mayoría de personas/clientes necesitan de prestamos inmobiliarios.\n",
        "- Educación y compra de vehículo están en la segunda categoría de motivos para las personas endeudarse. \n",
        "- Mientras que una boda, no alcanza ni el 1% de motivo de endeudamiento para los clientes."
      ]
    },
    {
      "cell_type": "markdown",
      "metadata": {
        "id": "QGLf34jAhDy2"
      },
      "source": [
        "# Conclusión general \n",
        "\n",
        "1. La falta de datos en \"days_employed\" y 'total_income' al inicio creo la hipótesis de que existía una correlación directa y los datos son simétricos. Durante el proyecto se demostró que sí existían relación directa.\n",
        "\n",
        "2. El DataDrame inicial venía con valores ausentes, duplicados, y valores atípicos.\n",
        "\n",
        "3. Para 'days_employed' teníamos números negativos y valores extremos, por lo cual nos decidimos a utilizar la mediana estadística para llenar los valores ausentes. Además, se entiende que no debe haber días negativos o incluso días en cifras decimales. Esta variable se convirtió en entera y positiva.\n",
        "\n",
        "4. En ‘days_employed’ también encontramos que los clientes con días trabajados que excedían sus días de vida se concentraba en clientes que ya se encontraban pensionados y se corrigió estos valores, asumiendo que el cliente empezó a trabajar legalmente a partir de los 18 años.\n",
        "\n",
        "5. Se utilizaron el 'income_type','age_group','gender','parents' (childrens) para completar los valores faltantes en days_employed.\n",
        "\n",
        "6. Las variables que representan 'education', 'gender' y ‘income_type' influyeron en el cálculo de ingreso del cliente como individuo y se utilizó para completar los valores ausentes en total_income.\n",
        "\n",
        "7. Encontramos que los préstamos destinados a la adquisición de bienes raíz son los que presentan mayores índices de endeudamiento. \n",
        "\n",
        "8. Los clientes casados muestran mayor endeudamiento que el resto de grupos familiares. Mientras que los divorciados y/o viudos presentan las tasas más bajas de endeudamiento.\n",
        "\n",
        "9. De la variable 'children' encontramos que las personas sin hijos, tienden a trabajar más en comparación con las personas con hijos.\n",
        "\n",
        "10. De la variable 'education' encontramos que las personas con educación primaria tienen casi tantos días de trabajo como las personas con educación superior. Los datos no sugieren que los días trabajados puedan estar directamente relacionados con el nivel académico."
      ]
    },
    {
      "cell_type": "code",
      "execution_count": null,
      "metadata": {
        "id": "pk_YvGLxhDy2"
      },
      "outputs": [],
      "source": []
    }
  ],
  "metadata": {
    "ExecuteTimeLog": [
      {
        "duration": 2741,
        "start_time": "2021-10-21T01:08:49.480Z"
      },
      {
        "duration": 52,
        "start_time": "2021-10-21T01:08:53.315Z"
      },
      {
        "duration": 49,
        "start_time": "2021-10-21T01:08:57.432Z"
      },
      {
        "duration": 70,
        "start_time": "2021-10-21T01:09:07.706Z"
      }
    ],
    "kernelspec": {
      "display_name": "Python 3 (ipykernel)",
      "language": "python",
      "name": "python3"
    },
    "language_info": {
      "codemirror_mode": {
        "name": "ipython",
        "version": 3
      },
      "file_extension": ".py",
      "mimetype": "text/x-python",
      "name": "python",
      "nbconvert_exporter": "python",
      "pygments_lexer": "ipython3",
      "version": "3.9.5"
    },
    "toc": {
      "base_numbering": 1,
      "nav_menu": {},
      "number_sections": true,
      "sideBar": true,
      "skip_h1_title": true,
      "title_cell": "Table of Contents",
      "title_sidebar": "Contents",
      "toc_cell": false,
      "toc_position": {},
      "toc_section_display": true,
      "toc_window_display": false
    },
    "colab": {
      "provenance": []
    }
  },
  "nbformat": 4,
  "nbformat_minor": 0
}
